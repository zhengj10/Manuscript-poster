{
 "cells": [
  {
   "cell_type": "code",
   "execution_count": 1,
   "metadata": {},
   "outputs": [],
   "source": [
    "import h5py\n",
    "import sys\n",
    "sys.path.append('/Users/zhengj10/Python/Modules')\n",
    "import os\n",
    "import numpy as np\n",
    "from skimage.io import imsave\n",
    "import matplotlib.pyplot as plt\n",
    "import yaml\n",
    "import pandas as pd\n",
    "import PatcherBot as pb\n",
    "from glob import glob\n",
    "import seaborn as sns\n",
    "from scipy.optimize import curve_fit\n"
   ]
  },
  {
   "cell_type": "code",
   "execution_count": 2,
   "metadata": {},
   "outputs": [],
   "source": [
    "# sumPath = '/Users/zhengj10/Desktop/GENIE/Manuscript/Voltron 2 paper/Voltron 2 paper_v10'\n",
    "# sumPath = '/Users/zhengj10/Desktop/summary/Voltron2_paper'\n",
    "# sumPath = '/Users/zhengj10/Desktop'\n",
    "sumPath = '/Volumes/genie/Jihong_GENIE_stuff/Voltron 2 with_pos_to_neg_V_steps' # Contains all the data for Voltron 2 paper (40x oil GENIE and pos to neg V steps)\n",
    "imgPath = '/Volumes/genie/BenArthur/patch-screen/bot'\n",
    "rawPath = '/Volumes/genie/Jihong_GENIE_stuff/PatcherBot/raw'"
   ]
  },
  {
   "cell_type": "code",
   "execution_count": 6,
   "metadata": {},
   "outputs": [
    {
     "data": {
      "text/plain": [
       "(415, 14)"
      ]
     },
     "execution_count": 6,
     "metadata": {},
     "output_type": "execute_result"
    }
   ],
   "source": [
    "df = pd.read_pickle(sumPath+'/Summary_pos_to_neg_VC_500_lowest_p_val.pkl')\n",
    "df.shape"
   ]
  },
  {
   "cell_type": "code",
   "execution_count": null,
   "metadata": {},
   "outputs": [],
   "source": []
  },
  {
   "cell_type": "code",
   "execution_count": null,
   "metadata": {},
   "outputs": [],
   "source": []
  },
  {
   "cell_type": "code",
   "execution_count": null,
   "metadata": {},
   "outputs": [],
   "source": [
    "df.Date.unique()\n",
    "# for sensor in df.Mutation.unique():\n",
    "#     print(labels_dict[sensor])"
   ]
  },
  {
   "cell_type": "markdown",
   "metadata": {},
   "source": [
    "### Plot"
   ]
  },
  {
   "cell_type": "markdown",
   "metadata": {},
   "source": [
    "- Filter data"
   ]
  },
  {
   "cell_type": "code",
   "execution_count": null,
   "metadata": {},
   "outputs": [],
   "source": [
    "threshold = {'leak':-300, 'Ra':50}\n"
   ]
  },
  {
   "cell_type": "code",
   "execution_count": null,
   "metadata": {},
   "outputs": [],
   "source": [
    "df_p = df[(df.Leak_min>threshold['leak'])&(df.Ra_max<threshold['Ra'])]\n",
    "# pd.set_option('display.max_columns', 50)\n",
    "# pd.set_option('display.max_colwidth', 80)\n",
    "df_p.shape\n",
    "# df_p.Objective.unique()\n",
    "# df_p\n"
   ]
  },
  {
   "cell_type": "code",
   "execution_count": null,
   "metadata": {},
   "outputs": [],
   "source": [
    "# df_sensor = df_p[(df_p.Mutation=='421.1')&(df_p.Objective=='40x oil GENIE')]\n",
    "# df_sensor.columns"
   ]
  },
  {
   "cell_type": "code",
   "execution_count": null,
   "metadata": {},
   "outputs": [],
   "source": []
  },
  {
   "cell_type": "code",
   "execution_count": null,
   "metadata": {},
   "outputs": [],
   "source": [
    "# objectives = ['40x oil GENIE','40x oil core']\n",
    "# df = df[df['Objective'].isin(objectives)]\n",
    "# df"
   ]
  },
  {
   "cell_type": "code",
   "execution_count": null,
   "metadata": {},
   "outputs": [],
   "source": [
    "# df.Mutation.unique()"
   ]
  },
  {
   "cell_type": "code",
   "execution_count": null,
   "metadata": {},
   "outputs": [],
   "source": [
    "# df_p = df_p[df_p['Date'].isin(['2020.01.16_000','2020.01.17_000','2020.06.25_000','2020.07.14_000'])] # For double mutants\n",
    "# df_p = df_p[df_p['Date'].isin(['2020.01.16_000','2020.06.25_000','2020.08.11_000','2020.08.12_000','2020.08.13_000'])] # For single mutants"
   ]
  },
  {
   "cell_type": "markdown",
   "metadata": {},
   "source": [
    "- Plot dFF etc for each voltage step"
   ]
  },
  {
   "cell_type": "code",
   "execution_count": null,
   "metadata": {},
   "outputs": [],
   "source": [
    "# sensors = df.Mutation.unique()\n",
    "# sensors = ['Ace2N-mNeon','VARNAM','421.1','421.2096']\n",
    "# sensors = ['421.1','421.2096_oil','421.1_peak']\n",
    "# sensors = ['K1','L2','M3','N4','O5','P6','Q7','R8','S9',\n",
    "# 'T10','U11','V12','W13','X14','Y15']\n",
    "# sensors = ['K1','L2','M3','O5','P6','Q7','R8']\n",
    "# sensors = ['S9','T10','U11','V12','W13','X14','Y15']\n",
    "# sensors = ['376.20948','R8','X14','P6','K1','L2']\n",
    "# sensors = ['421.1','421.2096','421.4909','421.4919','421.4876','421.4892','421.6051','421.5649','421.6052',\n",
    "#            '421.5658','421.4951','421.5657']\n",
    "# sensors = ['421.1','421.2096','421.2907','421.2335','421.2336','421.2346','421.3002','421.3046','421.3028',\n",
    "#             '421.303','421.3012', '421.2379', '421.2347', '421.3067', '421.2203','421.3006']\n",
    "# sensors = ['421.1','421.2096','421.3012','421.3028']\n",
    "# sensors = ['421.1','421.2096']\n",
    "# sensors = ['557.1']\n",
    "sensors = ['476.2046','476.4496','421.2096']"
   ]
  },
  {
   "cell_type": "code",
   "execution_count": null,
   "metadata": {},
   "outputs": [],
   "source": [
    "# df_p.Mutation.unique()"
   ]
  },
  {
   "cell_type": "markdown",
   "metadata": {},
   "source": [
    "#### Get mean dFF at 20 mV for each variant (Ilya's request not for the paper)"
   ]
  },
  {
   "cell_type": "code",
   "execution_count": null,
   "metadata": {},
   "outputs": [],
   "source": [
    "# data_all = {}\n",
    "\n",
    "# for sensor in sensors:\n",
    "#     df_sensor = df_p[df_p.Mutation==sensor]\n",
    "#     dFF = np.mean(df_sensor['dFF'].to_list(),axis=0)\n",
    "#     dFF_20 = dFF[6]\n",
    "#     data_all[sensor] = dFF_20\n",
    "    "
   ]
  },
  {
   "cell_type": "code",
   "execution_count": null,
   "metadata": {},
   "outputs": [],
   "source": [
    "# df_sensor"
   ]
  },
  {
   "cell_type": "code",
   "execution_count": null,
   "metadata": {},
   "outputs": [],
   "source": []
  },
  {
   "cell_type": "markdown",
   "metadata": {},
   "source": [
    "- Get percentage change of performance for each variant"
   ]
  },
  {
   "cell_type": "code",
   "execution_count": null,
   "metadata": {},
   "outputs": [],
   "source": [
    "# # A = {}\n",
    "# A = []\n",
    "# for k,v in data_all.items():\n",
    "#     if k in ['421.1','421.2096']:\n",
    "#         continue\n",
    "# #     A[k] = (data_all[k]-data_all['421.1'])/data_all['421.1']\n",
    "#     A.append((data_all['421.2096']-v)/data_all['421.2096'])"
   ]
  },
  {
   "cell_type": "code",
   "execution_count": null,
   "metadata": {},
   "outputs": [],
   "source": [
    "# data_all = {}\n",
    "\n",
    "# for sensor in sensors:\n",
    "#     df_sensor = df_p[df_p.Mutation==sensor]\n",
    "#     dFF = np.mean(df_sensor['dFF'].to_list(),axis=0)\n",
    "#     dFF_sel = dFF[1:4] # -80 to -40 mV\n",
    "#     data_all[sensor] = dFF_sel\n",
    "    "
   ]
  },
  {
   "cell_type": "code",
   "execution_count": null,
   "metadata": {},
   "outputs": [],
   "source": [
    "# plt.plot(data_all['421.2096'])\n",
    "# plt.plot(data_all['421.1'])"
   ]
  },
  {
   "cell_type": "code",
   "execution_count": null,
   "metadata": {},
   "outputs": [],
   "source": [
    "# from scipy.stats.stats import pearsonr as ssp\n",
    "# stat_results = ssp([-80,-60,-40],data_all['421.2096'])"
   ]
  },
  {
   "cell_type": "code",
   "execution_count": null,
   "metadata": {},
   "outputs": [],
   "source": [
    "# stat_results[0]**2 # .995459547340518 for Voltron"
   ]
  },
  {
   "cell_type": "code",
   "execution_count": null,
   "metadata": {},
   "outputs": [],
   "source": [
    "# (data_all['421.1'][0]-data_all['421.1'][-1])/40.0 # 0.004532819800556168 for Voltron 2;0.0013337984983451579 Voltron 1"
   ]
  },
  {
   "cell_type": "code",
   "execution_count": null,
   "metadata": {},
   "outputs": [],
   "source": [
    "# data_all['421.2096']"
   ]
  },
  {
   "cell_type": "code",
   "execution_count": null,
   "metadata": {},
   "outputs": [],
   "source": [
    "# df_single = pd.DataFrame(data_dict)"
   ]
  },
  {
   "cell_type": "code",
   "execution_count": null,
   "metadata": {},
   "outputs": [],
   "source": [
    "# df_single.to_csv('/Users/zhengj10/Desktop/single_mutants_dFF.csv')"
   ]
  },
  {
   "cell_type": "code",
   "execution_count": null,
   "metadata": {},
   "outputs": [],
   "source": [
    "# df_p.Mutation.unique()\n",
    "# len(sensors)"
   ]
  },
  {
   "cell_type": "code",
   "execution_count": null,
   "metadata": {},
   "outputs": [],
   "source": [
    "# df_p = pd.read_pickle(sumPath+'/Plot_Voltron_single_mutants.pkl')"
   ]
  },
  {
   "cell_type": "code",
   "execution_count": null,
   "metadata": {},
   "outputs": [],
   "source": [
    "labels_dict = {\n",
    "    # Voltron and Voltron 2\n",
    "    '421.1':'Voltron',\n",
    "    '476.1':'Voltron-ST',\n",
    "    '421.2096':'Voltron 2',\n",
    "    '476.4495': 'Voltron 2-ST',\n",
    "    \n",
    "    # Voltron and Voltron 2 with TiCnC tag\n",
    "    \n",
    "    '607.1':'Voltron-TiCnC',\n",
    "    '607.2':'Voltron 2 TiCnC',\n",
    "    \n",
    "    \n",
    "    '476.2046':'Positron-ST',\n",
    "    '476.4496':'Positron 2-ST',\n",
    "    \n",
    "    \n",
    "    # Voltron Combo mutants\n",
    "    '421.4909':'Voltron N69E R78H A122D V196P',\n",
    "    '421.4919':'Voltron R78H A122D V196P',\n",
    "    '421.4876':'Voltron N69E A122D',\n",
    "    '421.4892':'Voltron N69E V196P',\n",
    "    '421.6051':'Voltron R78H L89C A122D V196P',\n",
    "    '421.5649':'Voltron Y63L N69E L89C A122D',\n",
    "    '421.6052':'Voltron Y63L L89C A122D V196P',\n",
    "    '421.5658':'Voltron Y63L L89C A122D',\n",
    "    '421.4951':'Voltron Y63L V74W L89T',\n",
    "    '421.5657':'Voltron R78H L89C A122D',\n",
    "    '421.5659':'Voltron L89C A122D',\n",
    "    '421.5650':'Voltron N69E L89C A122D',\n",
    "    '421.5657':'Voltron R78H L89C A122D',\n",
    "    '421.5616':'Voltron V74E L89C',\n",
    "    '421.5619':'Voltron Y63L L89C',\n",
    "    '421.5658':'Voltron Y63L L89C A122D',\n",
    "    '421.5649':'Voltron Y63L N69E L89C A122D',\n",
    "    '421.5462':'Voltron N69E R78H N81S L89C A122D',\n",
    "    '421.5951':'Voltron R78H N81S L89C A122D',\n",
    "    '421.6051':'Voltron R78H L89C A122D V196P',\n",
    "    '421.5922':'Voltron Y63L A122D V196P',\n",
    "    '421.6052':'Voltron Y63L L89C A122D V196P',\n",
    "    '421.6004':'Voltron Y63L N69E N81S',\n",
    "    '421.6155':'Voltron Y63L L89T A122D V196P',\n",
    "    '421.5952':'Voltron Y63L N81S L89C A122D',\n",
    "    '421.5444':'Voltron Y63L R78H A122D V196P',\n",
    "    '421.5953':'Voltron V74W R78H N81S L89C A122D',\n",
    "    '421.6232':'Voltron Y63L V74E N81S',\n",
    "    '421.5076':'Voltron Y63L N69E R78H N81S L89C',\n",
    "    '421.5740':'Voltron V74E R78H N81S V196P',\n",
    "    '421.4911':'Voltron N69E A122D V196P',\n",
    "    '421.5152':'Voltron N69E V74W R78H N81S L89C A122H V196P',\n",
    "    '421.5387':'Voltron V74E R78H L89C V196P',\n",
    "    '421.5414':'Voltron V74W R78H L89C A122H V196P',\n",
    "    '421.5448':'Voltron R78H A122H V196P',\n",
    "    '421.5617':'Voltron Y63L R78H L89C',\n",
    "    '421.5751':'Voltron N69E R78H N81S A122D V196P',\n",
    "    '421.4850':'Voltron N69E R78H',\n",
    "    '421.4875':'Voltron Y63L N69E R78H A122D',\n",
    "    '421.4882':'Voltron R78H A122D',\n",
    "    '421.4910':'Voltron Y63L N69E A122D V196P',\n",
    "    '421.5760':'Voltron R78H N81S A122D V196P',\n",
    "    '421.6053':'Voltron L89C A122D V196P',\n",
    "    '421.6038':'Voltron Y63L N69E R78H L89C A122D V196P',\n",
    "    '421.4925':'Voltron N69E R78H A122H V196P',\n",
    "    '421.6138':'Voltron N69E R78H A122D',\n",
    "    '421.5619':'Voltron Y63L L89C',\n",
    "    \n",
    "    # Voltron Single mutants\n",
    "    '421.2907':'Voltron A122X',\n",
    "    '421.2335':'Voltron Y63P',\n",
    "    '421.2336':'Voltron Y63T',\n",
    "    '421.2346':'Voltron Y63I',\n",
    "    '421.3002':'Voltron V74D',\n",
    "    '421.3046':'Voltron V74S',\n",
    "    '421.3028':'Voltron V74W',\n",
    "    '421.303':'Voltron Y146X',\n",
    "    '421.3012':'Voltron V74G',\n",
    "    '421.2379':'Voltron Y63K',\n",
    "    '421.2347':'Voltron Y63D',\n",
    "    '421.3067':'Voltron V74H',\n",
    "    '421.2203':'Voltron R78N',\n",
    "    '421.3006':'Voltron V74P',\n",
    "    '421.1069':'Voltron N69E',\n",
    "    '421.1076':'Voltron N69P',\n",
    "    '421.3054':'Voltron V74E',\n",
    "    '421.3167':'Voltron L89T',\n",
    "\n",
    "    # ASAP1 variants\n",
    "    '376.1':'ASAP1',\n",
    "    '376.13':'ASAP1 (T392V)',\n",
    "    \n",
    "    # ASAP3b variants\n",
    "    '414.1':'GS-ASAP3b',\n",
    "    '376.20950':'ASAP3b (T392V)',\n",
    "    '376.20949':'ASAP3b (T392Y)',\n",
    "    '485.20950':'ASAP3b (T392V)-ST',\n",
    "    '376.20948':'ASAP3b',\n",
    "    '485.20949':'ASAP3b (T392Y)-ST',\n",
    "    '485.6':'ASAP3b-ST',\n",
    "    '376.17995':'ASAP3b N391L T392I',\n",
    "    '376.18153':'ASAP3b N391I T392V',\n",
    "    '533.1':'ASAP3b-Kv',\n",
    "    \n",
    "    # Amy's Feb batch of ASAP3b variants\n",
    "    'ASAP3b.T392V.H':'pCAG0–ASAP3b (T392V)-NL-SOM2 (Lin)',\n",
    "    'ASAP3b.T392V.G':'pCAG0–ASAP3b (T392V)-lTlcnC',\n",
    "    'ASAP3b.T392V.F':'pCAG0–ASAP3b (T392V)-NL-SOM2 (GENIE)',\n",
    "    'ASAP3b.T392V.I':'pCAG0–ASAP3b (T392V)-GSS3-SOM2-lTlcnC',\n",
    "    'ASAP3b.T392V.J':'376.2095 / pCAG-ASAP3b (T392V)',\n",
    "    'ASAP3b.T392V.C':'pCAG0–ASAP3b (T392V)-GSSlong-SOM2 (GENIE)',\n",
    "    'ASAP3b.T392V.B':'pCAG0–ASAP3b (T392V)-KGC-GSS3-ER2-GSS3-SOM2 (GENIE)',\n",
    "    'ASAP3b.T392V.A':'pCAG0–ASAP3b (T392V)-GSS3TR-SOM2 (GENIE)',\n",
    "    'ASAP3b.T392V.E':'485.2095 / pCAG–ASAP3b (T392V)-TS-ER-SOM2',\n",
    "    'ASAP3b.T392V.D':'533.1 / pCAG-ASAP3-Kv (Lin)',    \n",
    "    \n",
    "    # Amy's Jul batch of ASAP3b variants\n",
    "    'N4':'ASAP3b (T392V)-TS-ER-SOM2 miniprep',\n",
    "    'O5':'ASAP3b (T392V)-GSSlong-SOM2 (GENIE)',\n",
    "    'M3':'ASAP3b (T392V)-NL-SOM2 (GENIE)',\n",
    "    'L2':'ASAP3b (T392V)-GSS3-SOM2-lTlcnC',\n",
    "    'Q7':'ASAP3b (T392V)-GSS3TR-SOM2 (GENIE)',\n",
    "    'P6':'ASAP3b (T392V) maxiprep',\n",
    "    'S9':'ASAP3b (T392V)-NL-SOM2 (Lin)',\n",
    "    'T10':'pCAG-ASAP3b (T392V)-lTlcnC',\n",
    "    'R8':'ASAP3b-TS-ER-SOM2 maxiprep',\n",
    "    'W13':'ASAP3b (T392V) miniprep',\n",
    "    'X14':'ASAP3-Kv (Lin) maxiprep',\n",
    "    'Y15':'ASAP3b-TS-ER-SOM2 miniprep',\n",
    "    'U11':'ASAP3-Kv (Lin) miniprep',\n",
    "    'V12':'ASAP3b (T392V)-KGC-GSS3-ER2-GSS3-SOM2 (GENIE)',\n",
    "    'K1':'ASAP3b (T392V)-TS-ER-SOM2 maxiprep',\n",
    "    \n",
    "    # Other Ace2N based sensors\n",
    "    '487.1':'Ace2N-4AA-mNeon',\n",
    "    '557.1':'CMV-VARNAM',\n",
    "    '558.1':'CAG-VARNAM',\n",
    "    '487.6':'Ace2N-4AA-mNeon A122D',\n",
    "    '488.6':'Ace2N-4AA-mNeon A122D-ST',\n",
    "    '558.2':'CAG-VARNAM A122D',\n",
    "    '557.2':'CMV-VARNAM A122D'\n",
    "}\n"
   ]
  },
  {
   "cell_type": "markdown",
   "metadata": {},
   "source": [
    "#### Voltron vs. Voltron 2 (fig.2A)"
   ]
  },
  {
   "cell_type": "code",
   "execution_count": null,
   "metadata": {},
   "outputs": [],
   "source": [
    "# import matplotlib\n",
    "# from matplotlib import font_manager\n",
    "# matplotlib.rcParams['pdf.fonttype'] = 42\n",
    "# matplotlib.rcParams['ps.fonttype'] = 42\n",
    "\n",
    "# fig = plt.figure(figsize=[3.5,4.2])\n",
    "# # fig = plt.figure(figsize=[5,6])\n",
    "# sns.set_style('whitegrid')\n",
    "\n",
    "# ax = plt.subplot(111)\n",
    "\n",
    "# df_sensor = df_p[(df_p.Mutation == '557.1')]\n",
    "# param_mean = np.mean(df_sensor.dFF.to_list(),axis=0)\n",
    "# param_sem = np.std(df_sensor.dFF.to_list(),axis=0)/np.sqrt(len(df_sensor))\n",
    "# x = np.linspace(-100,60,9)\n",
    "# ax.errorbar(x, param_mean, yerr = param_sem, fmt = 'o-',\n",
    "#             label = 'VARNAM-steady (%d)' %len(df_sensor))\n",
    "\n",
    "# df_sensor = df_p[(df_p.Mutation == '557.1')&(df_p.Objective != '40x air')]\n",
    "# param_mean = np.mean(df_sensor.peak_dFF.to_list(),axis=0)\n",
    "# param_sem = np.std(df_sensor.peak_dFF.to_list(),axis=0)/np.sqrt(len(df_sensor))\n",
    "# x = np.linspace(-100,60,9)\n",
    "# ax.errorbar(x, param_mean, yerr = param_sem, fmt = 'o-',\n",
    "#             label = 'VARNAM-peak (%d)' %len(df_sensor))\n",
    "\n",
    "\n",
    "\n",
    "# font = font_manager.FontProperties(weight='bold',style='normal')\n",
    "# leg = ax.legend(handlelength=0,handletextpad = -0.21,markerscale=0,bbox_to_anchor=(0.8,1.25),frameon=False,prop=font)\n",
    "\n",
    "# for item in leg.legendHandles: # remove line marker in legend\n",
    "#     item.set_visible(False)\n",
    "\n",
    "# for artist, text in zip(leg.legendHandles, leg.get_texts()): # set text the same color as line\n",
    "#     col = artist.get_color()\n",
    "#     if isinstance(col, np.ndarray):\n",
    "#         col = col[0]\n",
    "#     text.set_color(col)\n",
    "\n",
    "# ax.set_xlabel('mV')\n",
    "# ax.set_ylabel('\\u0394F/F')\n",
    "# plt.setp(ax, xticks=x)\n",
    "\n",
    "\n",
    "# plt.tight_layout()\n",
    "# # fig.savefig(savePath+'/Voltron_Voltron2_dFF.pdf',format='pdf')\n",
    "# # fig.savefig('/Users/zhengj10/Desktop/VARNAM.pdf',format='pdf')\n",
    "# plt.show()\n"
   ]
  },
  {
   "cell_type": "markdown",
   "metadata": {},
   "source": [
    "### Positron ST, Positron A122D ST and Voltron 2 (as requested by Ilya on 220502)"
   ]
  },
  {
   "cell_type": "code",
   "execution_count": null,
   "metadata": {},
   "outputs": [],
   "source": [
    "import matplotlib\n",
    "from matplotlib import font_manager\n",
    "matplotlib.rcParams['pdf.fonttype'] = 42\n",
    "matplotlib.rcParams['ps.fonttype'] = 42\n",
    "\n",
    "sensors = ['476.2046','476.4496','421.2096']\n",
    "fig = plt.figure(figsize=[3.5,3.8])\n",
    "# fig = plt.figure(figsize=[5,6])\n",
    "sns.set_style('whitegrid')\n",
    "\n",
    "ax = plt.subplot(111)\n",
    "\n",
    "df_sensor = df_p[df_p.Mutation == '476.2046']\n",
    "param_mean = np.mean(df_sensor.dFF.to_list(),axis=0)*100\n",
    "param_sem = np.std(df_sensor.dFF.to_list(),axis=0)*100/np.sqrt(len(df_sensor))\n",
    "\n",
    "x = np.linspace(-110,50,9)\n",
    "ax.errorbar(x, np.flip(param_mean), yerr = np.flip(param_sem), fmt = 'o-',\n",
    "            label = 'Positron$_{525}$-ST (%d)' %len(df_sensor),color='k',markersize=0)\n",
    "\n",
    "df_sensor = df_p[df_p.Mutation == '476.4496']\n",
    "\n",
    "param_mean = np.mean(df_sensor.dFF.to_list(),axis=0)*100\n",
    "param_sem = np.std(df_sensor.dFF.to_list(),axis=0)*100/np.sqrt(len(df_sensor))\n",
    "ax.errorbar(x, np.flip(param_mean), yerr = np.flip(param_sem), fmt = 'o-',\n",
    "            label = 'Positron$_{525}$-A122-ST (%d)' %len(df_sensor),color='#FF3333',markersize=0)\n",
    "\n",
    "df_sensor = df_p[df_p.Mutation == '421.2096']\n",
    "param_mean = np.mean(df_sensor.peak_dFF.to_list(),axis=0)*100\n",
    "param_sem = np.std(df_sensor.peak_dFF.to_list(),axis=0)*100/np.sqrt(len(df_sensor))\n",
    "ax.errorbar(x, np.flip(param_mean)*-1, yerr = np.flip(param_sem), fmt = 'o--',\n",
    "            label = 'Voltron2$_{525}$ (%s)' %len(df_sensor),color='#FF3333',markersize=0)\n",
    " \n",
    "font = font_manager.FontProperties(weight='bold',style='normal')\n",
    "\n",
    "# leg = ax.legend(handlelength=0,handletextpad = -0.21,markerscale=10,bbox_to_anchor=(0.9,1.25),frameon=False,\n",
    "#                 prop=font)\n",
    "\n",
    "leg = ax.legend(markerscale=0,frameon=False, prop=font)\n",
    "\n",
    "for item in leg.legendHandles: # remove line marker in legend\n",
    "    item.set_visible(False)\n",
    "\n",
    "for artist, text in zip(leg.legendHandles, leg.get_texts()): # set text the same color as line\n",
    "    col = artist.get_color()\n",
    "    if isinstance(col, np.ndarray):\n",
    "        col = col[0]\n",
    "    text.set_color(col)\n",
    "\n",
    "ax.set_xlabel('mV')\n",
    "ax.set_ylabel('\\u0394F/F (%)')\n",
    "plt.setp(ax, xticks=x)\n",
    "\n",
    "plt.tight_layout()\n",
    "# fig.savefig('/Users/zhengj10/Desktop/Positron_ST&Positron_A122D_ST_Voltron2.pdf',format='pdf')\n",
    "plt.show()"
   ]
  },
  {
   "cell_type": "code",
   "execution_count": null,
   "metadata": {},
   "outputs": [],
   "source": [
    "import matplotlib\n",
    "from matplotlib import font_manager\n",
    "matplotlib.rcParams['pdf.fonttype'] = 42\n",
    "matplotlib.rcParams['ps.fonttype'] = 42\n",
    "\n",
    "fig = plt.figure(figsize=[3.5,4.2])\n",
    "# fig = plt.figure(figsize=[5,6])\n",
    "sns.set_style('whitegrid')\n",
    "\n",
    "ax = plt.subplot(111)\n",
    "\n",
    "df_sensor = df_p[(df_p.Mutation == '421.1')&(df_p.Objective != '40x air')]\n",
    "df_sensor = df_sensor[df_sensor.peak_dFF != 'N/A']\n",
    "param_mean = np.mean(df_sensor.dFF.to_list(),axis=0)\n",
    "param_sem = np.std(df_sensor.dFF.to_list(),axis=0)/np.sqrt(len(df_sensor))\n",
    "print(len(df_sensor))\n",
    "x = np.linspace(-100,60,9)\n",
    "ax.errorbar(x, param_mean, yerr = param_sem, fmt = 'o-',\n",
    "            label = 'Voltron (%d)' %len(df_sensor),color='#336699',markersize=0)\n",
    "\n",
    "#     ax.errorbar(x, param_mean, yerr = param_sem, fmt = 'o-',label=sensor+' (%d)' %len(df_sensor))\n",
    "\n",
    "df_sensor = df_p[(df_p.Mutation == '421.2096')&(df_p.Objective == '40x oil GENIE')]\n",
    "\n",
    "print(len(df_sensor))\n",
    "\n",
    "param_mean = np.mean(df_sensor.dFF.to_list(),axis=0)\n",
    "param_sem = np.std(df_sensor.dFF.to_list(),axis=0)/np.sqrt(len(df_sensor))\n",
    "x = np.linspace(-100,60,9)\n",
    "ax.errorbar(x, param_mean, yerr = param_sem, fmt = 'o-',\n",
    "            label = 'Voltron 2 (%d)' %len(df_sensor),color='#FF3333',markersize=0)\n",
    "\n",
    "#     ax.errorbar(x, param_mean, yerr = param_sem, fmt = 'o-',label=sensor+' (%d)' %len(df_sensor))\n",
    "\n",
    "df_sensor = df_p[(df_p.Mutation == '421.1')&(df_p.Objective != '40x air')]\n",
    "df_sensor = df_sensor[df_sensor.peak_dFF != 'N/A']\n",
    "param_mean = np.mean(df_sensor.peak_dFF.to_list(),axis=0)\n",
    "param_sem = np.std(df_sensor.peak_dFF.to_list(),axis=0)/np.sqrt(len(df_sensor))\n",
    "x = np.linspace(-100,60,9)\n",
    "ax.errorbar(x, param_mean, yerr = param_sem, fmt = 'o-',\n",
    "            label = 'Voltron-peak (%d)' %len(df_sensor),color='g',markersize=0)\n",
    "#     ax.errorbar(x, param_mean, yerr = param_sem, fmt = 'o-',label=sensor+' (%d)' %len(df_sensor))    \n",
    "print(len(df_sensor))\n",
    "\n",
    "# df_sensor = df_p[df_p.Mutation == '421.3028']\n",
    "# param_mean = np.mean(df_sensor.dFF.to_list(),axis=0)\n",
    "# param_sem = np.std(df_sensor.dFF.to_list(),axis=0)/np.sqrt(len(df_sensor))\n",
    "# x = np.linspace(-100,60,9)\n",
    "# ax.errorbar(x, param_mean, yerr = param_sem, fmt = 'o-',color='gray',markersize=0)\n",
    "\n",
    "\n",
    "# df_sensor = df_p[df_p.Mutation == '421.3012']\n",
    "# param_mean = np.mean(df_sensor.dFF.to_list(),axis=0)\n",
    "# param_sem = np.std(df_sensor.dFF.to_list(),axis=0)/np.sqrt(len(df_sensor))\n",
    "# x = np.linspace(-100,60,9)\n",
    "# ax.errorbar(x, param_mean, yerr = param_sem, fmt = 'o-',color='gray',markersize=0)\n",
    "\n",
    "\n",
    "    \n",
    "# # Following block remove the errorbars from legend\n",
    "# handles, labels = ax.get_legend_handles_labels() \n",
    "# handles = [h[0] for h in handles]\n",
    "# ax.legend(handles, labels, bbox_to_anchor=(0.8, 1.25),frameon=False,markerscale=0)\n",
    "# ax.legend(handles, labels, frameon=False)\n",
    "\n",
    "\n",
    "font = font_manager.FontProperties(weight='bold',style='normal')\n",
    "leg = ax.legend(handlelength=0,handletextpad = -0.21,markerscale=0,bbox_to_anchor=(0.8,1.25),frameon=False,prop=font)\n",
    "\n",
    "for item in leg.legendHandles: # remove line marker in legend\n",
    "    item.set_visible(False)\n",
    "\n",
    "for artist, text in zip(leg.legendHandles, leg.get_texts()): # set text the same color as line\n",
    "    col = artist.get_color()\n",
    "    if isinstance(col, np.ndarray):\n",
    "        col = col[0]\n",
    "    text.set_color(col)\n",
    "\n",
    "ax.set_xlabel('mV')\n",
    "ax.set_ylabel('\\u0394F/F')\n",
    "plt.setp(ax, xticks=x)\n",
    "plt.text(15, -0.09, '421.3028 (5)', color='gray')\n",
    "plt.text(15, -0.185, '421.3012 (5)', color='gray')\n",
    "\n",
    "plt.tight_layout()\n",
    "# fig.savefig(savePath+'/Voltron_Voltron2_dFF.pdf',format='pdf')\n",
    "# fig.savefig('/Users/zhengj10/Desktop/v5/Voltron_Voltron2_dFF.png')\n",
    "plt.show()\n"
   ]
  },
  {
   "cell_type": "code",
   "execution_count": null,
   "metadata": {},
   "outputs": [],
   "source": [
    "x"
   ]
  },
  {
   "cell_type": "markdown",
   "metadata": {},
   "source": [
    "- 20 mV dFF trace"
   ]
  },
  {
   "cell_type": "code",
   "execution_count": null,
   "metadata": {},
   "outputs": [],
   "source": [
    "sensors = ['421.1','421.2096']"
   ]
  },
  {
   "cell_type": "code",
   "execution_count": null,
   "metadata": {},
   "outputs": [],
   "source": [
    "# sns.set()\n",
    "# sns.set_style(style='whitegrid')\n",
    "# ax = plt.subplot(1,1,1)\n",
    "\n",
    "x = np.arange(1,1501)\n",
    "# fig = plt.figure(figsize=[7,8])\n",
    "data_dff = {}\n",
    "for sensor in sensors:\n",
    "    if sensor == '421.1':\n",
    "        df_sensor = df[(df.Mutation == sensor)&(df.Objective == '40x oil GENIE')]\n",
    "        df_sensor = df_sensor[df_sensor.peak_dFF != 'N/A']\n",
    "        data_dff[sensor] = {}\n",
    "        data_dff[sensor]['mean'] = []\n",
    "        data_dff[sensor]['err'] = []\n",
    "        traces = []\n",
    "        for index, row in df_sensor.iterrows():\n",
    "\n",
    "            matFile = os.path.join(imgPath, str(row['Date']), row['Plate'], row['Cell'], '006.mat')\n",
    "            data = pb.get_data(matFile)\n",
    "            traces.append(data['dff_corrected_double'][250:1750])\n",
    "\n",
    "        data_dff_mean = np.mean(traces,axis=0)\n",
    "        data_dff_err = np.std(traces,axis=0)/np.sqrt(len(df_sensor))\n",
    "        data_dff[sensor]['mean'].append(data_dff_mean)\n",
    "        data_dff[sensor]['err'].append(data_dff_err)\n",
    "    \n",
    "    elif sensor == '421.2096':\n",
    "        df_sensor = df[(df.Mutation == sensor)&(df.Objective == '40x oil GENIE')]\n",
    "        data_dff[sensor] = {}\n",
    "        data_dff[sensor]['mean'] = []\n",
    "        data_dff[sensor]['err'] = []\n",
    "        traces = []\n",
    "        for index, row in df_sensor.iterrows():\n",
    "\n",
    "            matFile = os.path.join(imgPath, str(row['Date']), row['Plate'], row['Cell'], '006.mat')\n",
    "            data = pb.get_data(matFile)\n",
    "            traces.append(data['dff_corrected_double'][250:1750])\n",
    "\n",
    "        data_dff_mean = np.mean(traces,axis=0)\n",
    "        data_dff_err = np.std(traces,axis=0)/np.sqrt(len(df_sensor))\n",
    "        data_dff[sensor]['mean'].append(data_dff_mean)\n",
    "        data_dff[sensor]['err'].append(data_dff_err)\n",
    "    else:\n",
    "        df_sensor = df[(df.Mutation == sensor)&(df.Objective == '40x air')]\n",
    "        data_dff[sensor] = {}\n",
    "        data_dff[sensor]['mean'] = []\n",
    "        data_dff[sensor]['err'] = []\n",
    "        traces = []\n",
    "        for index, row in df_sensor.iterrows():\n",
    "\n",
    "            matFile = os.path.join(imgPath, str(row['Date']), row['Plate'], row['Cell'], '006.mat')\n",
    "            data = pb.get_data(matFile)\n",
    "            traces.append(data['dff_corrected_double'][250:1750])\n",
    "\n",
    "        data_dff_mean = np.mean(traces,axis=0)\n",
    "        data_dff_err = np.std(traces,axis=0)/np.sqrt(len(df_sensor))\n",
    "        data_dff[sensor]['mean'].append(data_dff_mean)\n",
    "        data_dff[sensor]['err'].append(data_dff_err)\n"
   ]
  },
  {
   "cell_type": "code",
   "execution_count": null,
   "metadata": {},
   "outputs": [],
   "source": [
    "\n",
    "import matplotlib\n",
    "matplotlib.rcParams['pdf.fonttype'] = 42\n",
    "matplotlib.rcParams['ps.fonttype'] = 42\n",
    "\n",
    "\n",
    "\n",
    "x = np.arange(1,1501)/1.013\n",
    "fig = plt.figure(figsize=[1.6,1.4])\n",
    "ax = plt.subplot(111)\n",
    "c=0\n",
    "\n",
    "for sensor in sensors:\n",
    "    if c==0:\n",
    "        ax.plot(x, data_dff[sensor]['mean'][0],color='#336699')\n",
    "        ax.fill_between(x, data_dff[sensor]['mean'][0]+data_dff[sensor]['err'][0],\n",
    "                       data_dff[sensor]['mean'][0]-data_dff[sensor]['err'][0],alpha=0.2,color='#336699')\n",
    "        \n",
    "    elif c==1:\n",
    "#     else:\n",
    "        ax.plot(x, data_dff[sensor]['mean'][0],color='#FF3333')\n",
    "        ax.fill_between(x, data_dff[sensor]['mean'][0]+data_dff[sensor]['err'][0],\n",
    "                       data_dff[sensor]['mean'][0]-data_dff[sensor]['err'][0],alpha=0.2,color='#FF3333')\n",
    "        \n",
    "#     if c>1: ## to exclude single mutants from the plots\n",
    "#         continue\n",
    "\n",
    "    else:\n",
    "        ax.plot(x, data_dff[sensor]['mean'][0],color='gray')\n",
    "        ax.fill_between(x, data_dff[sensor]['mean'][0]+data_dff[sensor]['err'][0],\n",
    "                       data_dff[sensor]['mean'][0]-data_dff[sensor]['err'][0],alpha=0.2,color='gray')\n",
    "\n",
    "\n",
    "# for sensor in sensors:\n",
    "#     df_sensor = df[df.Mutation == sensor]\n",
    "#     ax.plot(x, data_dff[sensor]['mean'][0],color=color[sensor])\n",
    "#     ax.fill_between(x, data_dff[sensor]['mean'][0]+data_dff[sensor]['err'][0],\n",
    "#                    data_dff[sensor]['mean'][0]-data_dff[sensor]['err'][0],alpha=0.2,color=color[sensor])\n",
    "    \n",
    "    \n",
    "    c+=1\n",
    "\n",
    "ax.set_xlabel('ms')\n",
    "ax.set_ylabel('')\n",
    "ax = plt.gca()\n",
    "ax.xaxis.set_label_coords(0.9,-0.095)\n",
    "# ax.set_ylim([-0.3295564576291436, 0.15530348631147196])\n",
    "# ax.set_ylim([-0.325564576291436, 0.19530348631147196])\n",
    "# \n",
    "plt.tight_layout(pad=-0.06)\n",
    "# fig.savefig(sumPath + '\\\\v2\\\\Voltron_1_vs_Voltron-2_dff_trace_-70-20mV.png',dpi=1200)\n",
    "# fig.savefig(savePath+'/Voltron_Voltron2_dff_trace_-70-20mV_corrected_with_single_mutants.pdf',format='pdf')\n",
    "plt.show()\n"
   ]
  },
  {
   "cell_type": "code",
   "execution_count": null,
   "metadata": {},
   "outputs": [],
   "source": [
    "df_sensor"
   ]
  },
  {
   "cell_type": "markdown",
   "metadata": {},
   "source": [
    "#### Single and combo mutants"
   ]
  },
  {
   "cell_type": "code",
   "execution_count": null,
   "metadata": {},
   "outputs": [],
   "source": [
    "# df_p = pd.read_pickle(sumPath+'/Plot_Voltron_single_mutants.pkl')\n",
    "df_p = pd.read_pickle(sumPath+'/Plot_Voltron_combo_mutants.pkl')"
   ]
  },
  {
   "cell_type": "code",
   "execution_count": null,
   "metadata": {},
   "outputs": [],
   "source": [
    "df_2 = pd.read_pickle(sumPath+'/Summary_VC_all_Nov_combo.pkl')"
   ]
  },
  {
   "cell_type": "code",
   "execution_count": null,
   "metadata": {},
   "outputs": [],
   "source": [
    "df_2 = df_2[702:]"
   ]
  },
  {
   "cell_type": "code",
   "execution_count": null,
   "metadata": {},
   "outputs": [],
   "source": [
    "# df_p = df_p.append(df_2)"
   ]
  },
  {
   "cell_type": "code",
   "execution_count": null,
   "metadata": {},
   "outputs": [],
   "source": [
    "sensors = ['421.1','421.2096','421.4909','421.4919','421.4876','421.4892','421.6051','421.5649','421.6052',\n",
    "           '421.5658','421.4951','421.5657']\n",
    "# sensors = ['421.2096','421.5619','421.5659']\n",
    "# sensors = ['421.1','421.2096','421.2907','421.2335','421.2336','421.2346','421.3002','421.3046','421.3028',\n",
    "#             '421.303','421.3012', '421.2379', '421.2347', '421.3067', '421.2203','421.3006']\n",
    "# sensors = ['421.1','421.2096','421.2907','421.2335','421.2336','421.2346','421.3002','421.3046',\n",
    "#             '421.303','421.2379', '421.2347', '421.3067', '421.2203','421.3006']"
   ]
  },
  {
   "cell_type": "code",
   "execution_count": null,
   "metadata": {},
   "outputs": [],
   "source": [
    "import unicodedata\n",
    "import seaborn as sns\n",
    "\n",
    "import matplotlib\n",
    "matplotlib.rcParams['pdf.fonttype'] = 42\n",
    "matplotlib.rcParams['ps.fonttype'] = 42\n",
    "\n",
    "sns.set_style(style='whitegrid')\n",
    "import matplotlib.font_manager as font_manager\n",
    "\n",
    "fig = plt.figure(figsize=[5,4])\n",
    "ax = fig.add_subplot(111)\n",
    "\n",
    "# n = len(df_p.Mutation.unique())\n",
    "n = len(sensors)\n",
    "# colors = plt.cm.rainbow(np.linspace(0,1,n))\n",
    "colors = plt.cm.tab20(np.linspace(0,1,n))\n",
    "c=0\n",
    "param = 'dFF'\n",
    "x_label = 'mV'\n",
    "y_label = [unicodedata.lookup(\"GREEK CAPITAL LETTER delta\") + 'F/F']\n",
    "\n",
    "\n",
    "for sensor in sensors:\n",
    "#     print(sensor)\n",
    "\n",
    "    df_sensor = df_p[(df_p.Mutation == sensor)&(df_p.Objective == '40x air')]\n",
    "    param_mean = np.mean(df_sensor[param].tolist(), axis=0)\n",
    "    param_sem = np.nanstd(df_sensor[param].tolist(), axis=0)/np.sqrt(len(df_sensor))\n",
    "    x = np.linspace(-100,60,9)\n",
    "    if c == 0:\n",
    "        ax.errorbar(x, param_mean, yerr = param_sem, fmt = 'o-', label = labels_p[sensor] +' (%d)' %len(df_sensor),\n",
    "                    color='#336699',markersize=0)\n",
    "    elif c==1:\n",
    "        ax.errorbar(x, param_mean, yerr = param_sem, fmt = 'o-', label = labels_p[sensor] +' (%d)' %len(df_sensor),\n",
    "                    color='#FF3333',markersize=0)\n",
    "    else:\n",
    "        ax.errorbar(x, param_mean, yerr = param_sem, fmt = 'o-', label = labels_p[sensor] +' (%d)' %len(df_sensor),\n",
    "               color = colors[c],markersize=0)\n",
    "    c+=1\n",
    "\n",
    "font = font_manager.FontProperties(weight='bold',style='normal')\n",
    "leg = ax.legend(handlelength=0, handletextpad = -0.19, markerscale = 0,bbox_to_anchor=(1,1),frameon=False,\n",
    "                prop=font)\n",
    "\n",
    "for item in leg.legendHandles: # remove line marker in legend\n",
    "    item.set_visible(False)\n",
    "\n",
    "for artist, text in zip(leg.legendHandles, leg.get_texts()): # set text the same color as line\n",
    "    col = artist.get_color()\n",
    "    if isinstance(col, np.ndarray):\n",
    "        col = col[0]\n",
    "    text.set_color(col)\n",
    "ax.set_xlabel(x_label)\n",
    "ax.set_ylabel(y_label[0])\n",
    "plt.setp(ax, xticks=x)\n",
    "plt.tight_layout()\n",
    "# fig.savefig('/Users/zhengj10/Desktop/Voltron 2 paper/Voltron 2 paper_v6/Voltron_single_mutants.pdf',format='pdf')\n",
    "plt.show()\n"
   ]
  },
  {
   "cell_type": "markdown",
   "metadata": {},
   "source": [
    "### F0"
   ]
  },
  {
   "cell_type": "code",
   "execution_count": null,
   "metadata": {},
   "outputs": [],
   "source": [
    "fig = plt.figure(figsize=(14,4))\n",
    "\n",
    "# params = ['tau_on_single','tau_off_single','tau_on_f_double','tau_on_s_double','tau_off_f_double','tau_off_s_double'\n",
    "#          ,'time_on_10-90','time_off_10-90', 'F0']\n",
    "\n",
    "# params = ['tau_on_f_double','tau_off_f_double','tau_on_s_double','tau_off_s_double']\n",
    "# params = ['tau_on_single','tau_off_single']\n",
    "\n",
    "params = ['F0']\n",
    "\n",
    "for f in range(len(params)):\n",
    "    ax = plt.subplot(1,2,f+1)\n",
    "    mean_all = []\n",
    "    sem_all = []\n",
    "    labels = []\n",
    "    for sensor in sensors:\n",
    "#         if sensor == 'N4':\n",
    "#             continue\n",
    "        df_sensor = df_p[df_p.Mutation == sensor]\n",
    "        param_mean = np.nanmean(df_sensor[params[f]].tolist(), axis=0)\n",
    "        param_mean = param_mean[0] # Index is the voltage step (e.g. 6 means 20mV)\n",
    "        param_sem = np.nanstd(df_sensor[params[f]].tolist(), axis=0)/np.sqrt(len(df_sensor))\n",
    "        param_sem = param_sem[6] # Index is the voltage step (e.g. 6 means 20mV)\n",
    "        mean_all.append(param_mean)\n",
    "        sem_all.append(param_sem)\n",
    "        labels.append(sensor)\n",
    "\n",
    "    ax.spines['right'].set_visible(False)\n",
    "    ax.spines['top'].set_visible(False)\n",
    "    y_pos = np.arange(1, len(sensors)+1)\n",
    "    if f>1:\n",
    "        plt.xticks(y_pos, labels, rotation=30, ha = 'right')\n",
    "\n",
    "#     colors = ['k', 'y', 'm', 'c', 'g', 'r', 'b', 'brown']\n",
    "    else:\n",
    "        plt.xticks(y_pos, labels, rotation=30, ha = 'right')\n",
    "        # plt.xticks([]) \n",
    "#     colors = ['m', 'c', 'g', 'r', 'b', 'k', 'y', 'brown']\n",
    "#     for xtick, color in zip(ax.get_xticklabels(), colors):\n",
    "#         xtick.set_color(color)\n",
    "\n",
    "    plt.tick_params(\n",
    "        axis='x',          # changes apply to the x-axis\n",
    "        which='both',      # both major and minor ticks are affected\n",
    "        bottom=False,      # ticks along the bottom edge are off\n",
    "        top=False,         # ticks along the top edge are off\n",
    "        labelbottom=True)\n",
    "\n",
    "\n",
    "    ax.set_ylabel('F0', size=12, weight='light')\n",
    "    barlist = ax.bar(y_pos, mean_all, yerr = sem_all)\n",
    "#     barlist[0].set_color('m')\n",
    "#     barlist[1].set_color('c')\n",
    "    # barlist[2].set_color('m')\n",
    "    # barlist[3].set_color('c')\n",
    "    # barlist[4].set_color('g')\n",
    "    # barlist[5].set_color('r')\n",
    "    # barlist[6].set_color('b')\n",
    "    # barlist[7].set_color('brown')\n",
    "    # plt.rcParams[\"axes.labelweight\"] = \"bold\"\n",
    "    # if params[f] in['tau_off_s_double']:\n",
    "      #  ax.set_ylim([0,1200])\n",
    "# ax.set_xticklabels(['1','2'])\n",
    "plt.tight_layout()\n",
    "# fig.savefig('/Users/zhengj10/Desktop/F0.pdf',format='pdf')\n",
    "plt.show()\n"
   ]
  },
  {
   "cell_type": "code",
   "execution_count": null,
   "metadata": {},
   "outputs": [],
   "source": []
  },
  {
   "cell_type": "code",
   "execution_count": null,
   "metadata": {},
   "outputs": [],
   "source": [
    "df_p.index = np.arange(len(df_p))\n",
    "idx = []\n",
    "for i,r in df_p.iterrows():\n",
    "    if r['dFF'][6]>1:\n",
    "        idx.append(i)\n",
    "        print(r['Date']+'/'+r['Plate']+'/'+r['Cell'])\n",
    "df_p.shape"
   ]
  },
  {
   "cell_type": "code",
   "execution_count": null,
   "metadata": {},
   "outputs": [],
   "source": [
    "df_p.index = np.arange(len(df_p))\n",
    "df_p = df_p.drop(df_p.index[idx])\n",
    "df_p.shape"
   ]
  },
  {
   "cell_type": "code",
   "execution_count": null,
   "metadata": {},
   "outputs": [],
   "source": []
  },
  {
   "cell_type": "code",
   "execution_count": null,
   "metadata": {},
   "outputs": [],
   "source": []
  },
  {
   "cell_type": "markdown",
   "metadata": {},
   "source": [
    "#### Remove bad data based on plots above"
   ]
  },
  {
   "cell_type": "code",
   "execution_count": null,
   "metadata": {},
   "outputs": [],
   "source": [
    "df_p.index = np.arange(len(df_p))"
   ]
  },
  {
   "cell_type": "code",
   "execution_count": null,
   "metadata": {},
   "outputs": [],
   "source": [
    "# df_p.Mutation.unique().shape"
   ]
  },
  {
   "cell_type": "code",
   "execution_count": null,
   "metadata": {},
   "outputs": [],
   "source": [
    "idx = []\n",
    "for i,r in df_p.iterrows():\n",
    "#     print(i)\n",
    "#     if r['dFF'][5]<r['dFF'][6]:\n",
    "    if r['dFF'][6]<r['dFF'][7]:\n",
    "#     if r['dFF'][0]<0: # not needed as if r['dFF'][6]<r['dFF'][7] will remove r['dFF'][0]<0 trials as well\n",
    "        idx.append(i)\n"
   ]
  },
  {
   "cell_type": "code",
   "execution_count": null,
   "metadata": {},
   "outputs": [],
   "source": [
    "df_p.drop(df_p.index[idx],inplace=True)\n",
    "df_p.index\n"
   ]
  },
  {
   "cell_type": "code",
   "execution_count": null,
   "metadata": {},
   "outputs": [],
   "source": [
    "df_p = pd.read_pickle(sumPath+'/Plot_Voltron_single_mutants.pkl')\n",
    "# df_p = pd.read_pickle(sumPath+'/Plot_Voltron_combo_mutants.pkl')\n"
   ]
  },
  {
   "cell_type": "code",
   "execution_count": null,
   "metadata": {},
   "outputs": [],
   "source": [
    "# sensors = ['421.1','421.2096','421.4909','421.4919','421.4876','421.4892','421.6051','421.5649','421.6052',\n",
    "#            '421.5658','421.4951','421.5657']\n",
    "# sensors = ['421.1','421.2096','421.2907','421.2335','421.2336','421.2346','421.3002','421.3046','421.3028',\n",
    "#             '421.303','421.3012', '421.2379', '421.2347', '421.3067', '421.2203','421.3006']\n"
   ]
  },
  {
   "cell_type": "markdown",
   "metadata": {},
   "source": [
    "#### dFF traces at 20 mV voltage step"
   ]
  },
  {
   "cell_type": "code",
   "execution_count": null,
   "metadata": {
    "scrolled": true
   },
   "outputs": [],
   "source": [
    "# sns.set()\n",
    "# sns.set_style(style='whitegrid')\n",
    "# ax = plt.subplot(1,1,1)\n",
    "\n",
    "x = np.arange(1,1501)\n",
    "# fig = plt.figure(figsize=[7,8])\n",
    "data_dff = {}\n",
    "for sensor in sensors:\n",
    "    df_sensor = df_p[(df_p.Mutation == sensor)&(df_p.Objective == '40x air')]\n",
    "    data_dff[sensor] = {}\n",
    "    data_dff[sensor]['mean'] = []\n",
    "    data_dff[sensor]['err'] = []\n",
    "    traces = []\n",
    "    for index, row in df_sensor.iterrows():\n",
    "\n",
    "        matFile = os.path.join(imgPath, str(row['Date']), row['Plate'], row['Cell'], '006.mat')\n",
    "        data = pb.get_data(matFile)\n",
    "        traces.append(data['dff_corrected_double'][250:1750])\n",
    "\n",
    "    data_dff_mean = np.mean(traces,axis=0)\n",
    "    data_dff_err = np.std(traces,axis=0)/np.sqrt(len(df_sensor))\n",
    "    data_dff[sensor]['mean'].append(data_dff_mean)\n",
    "    data_dff[sensor]['err'].append(data_dff_err)\n"
   ]
  },
  {
   "cell_type": "code",
   "execution_count": null,
   "metadata": {},
   "outputs": [],
   "source": [
    "x = np.arange(1,1501)\n",
    "fig = plt.figure(figsize=[1.6,1.4])\n",
    "ax = plt.subplot(111)\n",
    "c=0\n",
    "for sensor in sensors:\n",
    "    df_sensor = df[df.Mutation == sensor]\n",
    "    if c==0:\n",
    "        ax.plot(x, data_dff[sensor]['mean'][0],color='b')\n",
    "        ax.fill_between(x, data_dff[sensor]['mean'][0]+data_dff[sensor]['err'][0],\n",
    "                       data_dff[sensor]['mean'][0]-data_dff[sensor]['err'][0],alpha=0.2,color='#336699')\n",
    "        \n",
    "    elif c==1:\n",
    "        ax.plot(x, data_dff[sensor]['mean'][0],color='r')\n",
    "        ax.fill_between(x, data_dff[sensor]['mean'][0]+data_dff[sensor]['err'][0],\n",
    "                       data_dff[sensor]['mean'][0]-data_dff[sensor]['err'][0],alpha=0.2,color='#FF3333')\n",
    "        \n",
    "    else:\n",
    "        ax.plot(x, data_dff[sensor]['mean'][0],color=colors[c])\n",
    "        ax.fill_between(x, data_dff[sensor]['mean'][0]+data_dff[sensor]['err'][0],\n",
    "                       data_dff[sensor]['mean'][0]-data_dff[sensor]['err'][0],alpha=0.2,color=colors[c])\n",
    "\n",
    "\n",
    "# for sensor in sensors:\n",
    "#     df_sensor = df[df.Mutation == sensor]\n",
    "#     ax.plot(x, data_dff[sensor]['mean'][0],color=color[sensor])\n",
    "#     ax.fill_between(x, data_dff[sensor]['mean'][0]+data_dff[sensor]['err'][0],\n",
    "#                    data_dff[sensor]['mean'][0]-data_dff[sensor]['err'][0],alpha=0.2,color=color[sensor])\n",
    "    \n",
    "    \n",
    "    c+=1\n",
    "\n",
    "ax.set_xlabel('ms')\n",
    "ax.set_ylabel('')\n",
    "ax = plt.gca()\n",
    "ax.xaxis.set_label_coords(0.9,-0.095)\n",
    "ax.set_ylim([-0.3295564576291436, 0.15530348631147196])\n",
    "# ax.set_ylim([-0.325564576291436, 0.18530348631147196])\n",
    "# \n",
    "plt.tight_layout(pad=-0.06)\n",
    "# fig.savefig(sumPath + '\\\\v2\\\\Voltron_1_vs_Voltron-2_dff_trace_-70-20mV.png',dpi=1200)\n",
    "# fig.savefig('/Users/zhengj10/Desktop/Voltron 2 paper_v4/Single_mutants_dff_trace_-70-20mV_corrected.pdf',format='pdf')\n",
    "plt.show()\n"
   ]
  },
  {
   "cell_type": "code",
   "execution_count": null,
   "metadata": {},
   "outputs": [],
   "source": [
    "df_p.Mutation.unique().shape"
   ]
  },
  {
   "cell_type": "code",
   "execution_count": null,
   "metadata": {},
   "outputs": [],
   "source": [
    "len(sensors)"
   ]
  },
  {
   "cell_type": "code",
   "execution_count": null,
   "metadata": {},
   "outputs": [],
   "source": []
  }
 ],
 "metadata": {
  "kernelspec": {
   "display_name": "Python 3",
   "language": "python",
   "name": "python3"
  },
  "language_info": {
   "codemirror_mode": {
    "name": "ipython",
    "version": 3
   },
   "file_extension": ".py",
   "mimetype": "text/x-python",
   "name": "python",
   "nbconvert_exporter": "python",
   "pygments_lexer": "ipython3",
   "version": "3.8.8"
  }
 },
 "nbformat": 4,
 "nbformat_minor": 2
}
