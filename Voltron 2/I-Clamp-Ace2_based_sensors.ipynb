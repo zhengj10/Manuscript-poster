{
 "cells": [
  {
   "cell_type": "code",
   "execution_count": 1,
   "metadata": {},
   "outputs": [],
   "source": [
    "import sys\n",
    "sys.path.append('/Users/zhengj10/Python/Modules')\n",
    "import h5py\n",
    "import os\n",
    "import numpy as np\n",
    "from skimage.io import imsave\n",
    "import matplotlib.pyplot as plt\n",
    "import yaml\n",
    "import pandas as pd\n",
    "import PatcherBot as pb\n",
    "from glob import glob\n",
    "import seaborn as sns\n",
    "import tifffile as tff\n",
    "import scipy.signal as ss"
   ]
  },
  {
   "cell_type": "markdown",
   "metadata": {},
   "source": [
    "### Function to get Rs (bridge resistance) from patch.log"
   ]
  },
  {
   "cell_type": "code",
   "execution_count": 2,
   "metadata": {},
   "outputs": [],
   "source": [
    "def get_Rs(logFile):\n",
    "    params = {}\n",
    "\n",
    "    keep_phrase = \"whole cell\"\n",
    "    with open(logFile) as f:\n",
    "        lines_no = []\n",
    "        for i, line in enumerate(f):\n",
    "            if keep_phrase in line:\n",
    "                lines_no.append(i)\n",
    "\n",
    "    with open(logFile) as f:\n",
    "        Rs = []\n",
    "        et = [] # event time\n",
    "        for i, line in enumerate(f):\n",
    "            if lines_no[0]<i<lines_no[1]:\n",
    "                try:\n",
    "                    Rs.append(eval(line)[\"peakResistance\"])\n",
    "                    et.append(eval(line)[\"event_time\"])\n",
    "                except:\n",
    "                    continue\n",
    "    \n",
    "    params['Lines_no'] = np.array(lines_no)\n",
    "    params['Rs'] = np.array(Rs)/1e6\n",
    "    params['Event_time'] = np.array(et)\n",
    "    return params\n"
   ]
  },
  {
   "cell_type": "markdown",
   "metadata": {},
   "source": [
    "### Load params"
   ]
  },
  {
   "cell_type": "code",
   "execution_count": 3,
   "metadata": {},
   "outputs": [
    {
     "name": "stdout",
     "output_type": "stream",
     "text": [
      "True\n",
      "True\n",
      "True\n"
     ]
    }
   ],
   "source": [
    "# sumPath = '/Volumes/genie/Jihong_GENIE_stuff/PatcherBot/summary/Voltron2_paper'\n",
    "imgPath = '/Volumes/genie/BenArthur/patch-screen/bot'\n",
    "rawPath = '/Volumes/genie/Jihong_GENIE_stuff/PatcherBot/raw'\n",
    "# sumPath = '/Users/zhengj10/Desktop/GENIE/Manuscript/Voltron 2 paper/Voltron 2 paper_v7'\n",
    "sumPath = '/Volumes/genie/Jihong_GENIE_stuff/Ace based sensors/I-Clamp'\n",
    "\n",
    "# imgPath = '/Volumes/Backup Plus/patch-screen/bot'\n",
    "# rawPath = '/Volumes/Backup Plus/PatcherBot/raw'\n",
    "\n",
    "# sumPath = '/Users/zhengj10/Desktop/Voltron2/iclamp'\n",
    "# imgPath = '/Volumes/Backup Plus/patch-screen/bot'\n",
    "# rawPath = '/Volumes/Backup Plus/PatcherBot/raw'\n",
    "print(os.path.exists(sumPath))\n",
    "print(os.path.exists(imgPath))\n",
    "print(os.path.exists(rawPath))\n"
   ]
  },
  {
   "cell_type": "code",
   "execution_count": 4,
   "metadata": {},
   "outputs": [
    {
     "data": {
      "text/plain": [
       "['2022.10.12_000', '2022.10.13_000']"
      ]
     },
     "execution_count": 4,
     "metadata": {},
     "output_type": "execute_result"
    }
   ],
   "source": [
    "# datePath = pb.getPathInfo(imgPath)\n",
    "datePath = ['2022.10.12_000','2022.10.13_000']\n",
    "# datePath = datePath[9:]\n",
    "datePath\n"
   ]
  },
  {
   "cell_type": "markdown",
   "metadata": {},
   "source": [
    "### Getting dFF from raw data with self - defined active pixels:\n",
    "- active pixels: central 60x41 pixels that exceeds 2/3 highest pixcel value"
   ]
  },
  {
   "cell_type": "code",
   "execution_count": 5,
   "metadata": {},
   "outputs": [],
   "source": [
    "def get_dff(dataFile):\n",
    "    data = h5py.File(dataFile,'r')\n",
    "    trace = data['data'][()]\n",
    "    ref = np.mean(trace[10:60,:,:],axis=0)\n",
    "    fb = np.min(ref)\n",
    "    crop = ref[224:284,:]\n",
    "    max_val = np.max(crop)\n",
    "    act_pix = crop > (fb + (max_val-fb)*0.67)\n",
    "    f = []\n",
    "    for frame in range(trace.shape[0]):\n",
    "        f_single_frame = np.sum(trace[frame,224:284,:]*act_pix)/np.sum(act_pix)\n",
    "        f.append(f_single_frame)\n",
    "    f_peak = np.min(f)\n",
    "    f_peak_idx = np.argmin(f)\n",
    "#     print ('peak idx: %s' %(f_peak_idx))\n",
    "    f0 = np.mean(f[f_peak_idx-40:f_peak_idx-20])\n",
    "    f = np.array(f)\n",
    "    dff = (f-f0)/(f0-fb)\n",
    "    dff_peak = (f_peak-f0)/(f0-fb)\n",
    "    return dff,dff_peak,f_peak_idx,f,f0\n",
    "#     return dff\n"
   ]
  },
  {
   "cell_type": "code",
   "execution_count": 6,
   "metadata": {},
   "outputs": [],
   "source": [
    "# wrongPlates = ['/Volumes/Backup Plus/PatcherBot/raw/2020.10.29_000/plate_001']\n",
    "# # e.g. plate with different protocol\n",
    "\n",
    "# badTrials = ['/Volumes/Backup Plus/PatcherBot/raw/2020.10.06_000/plate_000/patch_attempt_0011_000',\n",
    "#             '/Volumes/Backup Plus/PatcherBot/raw/2020.09.23_000/plate_003/patch_attempt_0019_000']\n",
    "# # bad trials idendified during experiment: e.g. wrong power, no AP that cannot be excluded within dataframe\n",
    "\n",
    "# wrongPlates = []\n",
    "# # e.g. plate with different protocol\n",
    "\n",
    "# badTrials = ['/Volumes/genie/Jihong_GENIE_stuff/PatcherBot/raw/2022.06.01_001/plate_002/patch_attempt_0013_000',\n",
    "#             '/Volumes/genie/Jihong_GENIE_stuff/PatcherBot/raw/2022.06.01_001/plate_003/patch_attempt_0012_000',\n",
    "#             '/Volumes/genie/Jihong_GENIE_stuff/PatcherBot/raw/2022.06.01_001/plate_004/patch_attempt_0027_000',\n",
    "#             '/Volumes/genie/Jihong_GENIE_stuff/PatcherBot/raw/2022.06.01_001/plate_005/patch_attempt_0010_000']\n",
    "# # bad trials idendified during experiment: e.g. wrong power, no AP that cannot be excluded within dataframe\n",
    "\n",
    "# wrongPlates = []\n",
    "# # e.g. plate with different protocol\n",
    "\n",
    "# badTrials = ['/Volumes/genie/Jihong_GENIE_stuff/PatcherBot/raw/2022.06.02_000/plate_000/patch_attempt_0006_000',\n",
    "#             '/Volumes/genie/Jihong_GENIE_stuff/PatcherBot/raw/2022.06.02_000/plate_001/patch_attempt_0003_000']\n",
    "# # bad trials idendified during experiment: e.g. wrong power, no AP that cannot be excluded within dataframe\n",
    "\n",
    "wrongPlates = []\n",
    "# e.g. plate with different protocol\n",
    "\n",
    "badTrials = ['/Volumes/genie/Jihong_GENIE_stuff/PatcherBot/raw/2022.10.12_000/plate_000/patch_attempt_0013_000',\n",
    "            '/Volumes/genie/Jihong_GENIE_stuff/PatcherBot/raw/2022.10.12_000/plate_001/patch_attempt_0020_000',\n",
    "            '/Volumes/genie/Jihong_GENIE_stuff/PatcherBot/raw/2022.10.12_000/plate_004/patch_attempt_0012_000',\n",
    "            '/Volumes/genie/Jihong_GENIE_stuff/PatcherBot/raw/2022.10.12_000/plate_004/patch_attempt_0060_000',\n",
    "            '/Volumes/genie/Jihong_GENIE_stuff/PatcherBot/raw/2022.10.13_000/plate_001/patch_attempt_0020_000',\n",
    "            '/Volumes/genie/Jihong_GENIE_stuff/PatcherBot/raw/2022.10.13_000/plate_002/patch_attempt_0045_000',\n",
    "            '/Volumes/genie/Jihong_GENIE_stuff/PatcherBot/raw/2022.10.13_000/plate_003/patch_attempt_0052_000']\n",
    "# bad trials idendified during experiment: e.g. wrong power, no AP that cannot be excluded within dataframe"
   ]
  },
  {
   "cell_type": "code",
   "execution_count": 7,
   "metadata": {},
   "outputs": [
    {
     "name": "stdout",
     "output_type": "stream",
     "text": [
      "/Volumes/genie/Jihong_GENIE_stuff/PatcherBot/raw/2022.10.12_000/plate_000/patch_attempt_0000_000\n",
      "/Volumes/genie/Jihong_GENIE_stuff/PatcherBot/raw/2022.10.12_000/plate_000/patch_attempt_0001_000\n",
      "/Volumes/genie/Jihong_GENIE_stuff/PatcherBot/raw/2022.10.12_000/plate_000/patch_attempt_0002_000\n",
      "/Volumes/genie/Jihong_GENIE_stuff/PatcherBot/raw/2022.10.12_000/plate_000/patch_attempt_0003_000\n",
      "/Volumes/genie/Jihong_GENIE_stuff/PatcherBot/raw/2022.10.12_000/plate_000/patch_attempt_0004_000\n",
      "/Volumes/genie/Jihong_GENIE_stuff/PatcherBot/raw/2022.10.12_000/plate_000/patch_attempt_0005_000\n",
      "/Volumes/genie/Jihong_GENIE_stuff/PatcherBot/raw/2022.10.12_000/plate_000/patch_attempt_0006_000\n",
      "/Volumes/genie/Jihong_GENIE_stuff/PatcherBot/raw/2022.10.12_000/plate_000/patch_attempt_0007_000\n",
      "/Volumes/genie/Jihong_GENIE_stuff/PatcherBot/raw/2022.10.12_000/plate_000/patch_attempt_0008_000\n",
      "/Volumes/genie/Jihong_GENIE_stuff/PatcherBot/raw/2022.10.12_000/plate_000/patch_attempt_0009_000\n",
      "/Volumes/genie/Jihong_GENIE_stuff/PatcherBot/raw/2022.10.12_000/plate_000/patch_attempt_0010_000\n",
      "/Volumes/genie/Jihong_GENIE_stuff/PatcherBot/raw/2022.10.12_000/plate_000/patch_attempt_0011_000\n",
      "/Volumes/genie/Jihong_GENIE_stuff/PatcherBot/raw/2022.10.12_000/plate_000/patch_attempt_0012_000\n",
      "bad trials: /Volumes/genie/Jihong_GENIE_stuff/PatcherBot/raw/2022.10.12_000/plate_000/patch_attempt_0013_000\n",
      "/Volumes/genie/Jihong_GENIE_stuff/PatcherBot/raw/2022.10.12_000/plate_001/patch_attempt_0014_000\n",
      "/Volumes/genie/Jihong_GENIE_stuff/PatcherBot/raw/2022.10.12_000/plate_001/patch_attempt_0015_000\n",
      "/Volumes/genie/Jihong_GENIE_stuff/PatcherBot/raw/2022.10.12_000/plate_001/patch_attempt_0016_000\n",
      "/Volumes/genie/Jihong_GENIE_stuff/PatcherBot/raw/2022.10.12_000/plate_001/patch_attempt_0017_000\n",
      "/Volumes/genie/Jihong_GENIE_stuff/PatcherBot/raw/2022.10.12_000/plate_001/patch_attempt_0018_000\n",
      "/Volumes/genie/Jihong_GENIE_stuff/PatcherBot/raw/2022.10.12_000/plate_001/patch_attempt_0019_000\n",
      "bad trials: /Volumes/genie/Jihong_GENIE_stuff/PatcherBot/raw/2022.10.12_000/plate_001/patch_attempt_0020_000\n",
      "/Volumes/genie/Jihong_GENIE_stuff/PatcherBot/raw/2022.10.12_000/plate_001/patch_attempt_0021_000\n",
      "/Volumes/genie/Jihong_GENIE_stuff/PatcherBot/raw/2022.10.12_000/plate_001/patch_attempt_0022_000\n",
      "/Volumes/genie/Jihong_GENIE_stuff/PatcherBot/raw/2022.10.12_000/plate_001/patch_attempt_0023_000\n",
      "/Volumes/genie/Jihong_GENIE_stuff/PatcherBot/raw/2022.10.12_000/plate_001/patch_attempt_0024_000\n",
      "/Volumes/genie/Jihong_GENIE_stuff/PatcherBot/raw/2022.10.12_000/plate_001/patch_attempt_0025_000\n",
      "/Volumes/genie/Jihong_GENIE_stuff/PatcherBot/raw/2022.10.12_000/plate_001/patch_attempt_0026_000\n",
      "/Volumes/genie/Jihong_GENIE_stuff/PatcherBot/raw/2022.10.12_000/plate_001/patch_attempt_0027_000\n",
      "/Volumes/genie/Jihong_GENIE_stuff/PatcherBot/raw/2022.10.12_000/plate_001/patch_attempt_0028_000\n",
      "/Volumes/genie/Jihong_GENIE_stuff/PatcherBot/raw/2022.10.12_000/plate_001/patch_attempt_0029_000\n",
      "/Volumes/genie/Jihong_GENIE_stuff/PatcherBot/raw/2022.10.12_000/plate_001/patch_attempt_0030_000\n",
      "/Volumes/genie/Jihong_GENIE_stuff/PatcherBot/raw/2022.10.12_000/plate_002/patch_attempt_0031_000\n",
      "/Volumes/genie/Jihong_GENIE_stuff/PatcherBot/raw/2022.10.12_000/plate_002/patch_attempt_0032_000\n",
      "/Volumes/genie/Jihong_GENIE_stuff/PatcherBot/raw/2022.10.12_000/plate_002/patch_attempt_0033_000\n",
      "/Volumes/genie/Jihong_GENIE_stuff/PatcherBot/raw/2022.10.12_000/plate_002/patch_attempt_0034_000\n",
      "/Volumes/genie/Jihong_GENIE_stuff/PatcherBot/raw/2022.10.12_000/plate_002/patch_attempt_0035_000\n",
      "/Volumes/genie/Jihong_GENIE_stuff/PatcherBot/raw/2022.10.12_000/plate_002/patch_attempt_0036_000\n",
      "/Volumes/genie/Jihong_GENIE_stuff/PatcherBot/raw/2022.10.12_000/plate_002/patch_attempt_0037_000\n",
      "/Volumes/genie/Jihong_GENIE_stuff/PatcherBot/raw/2022.10.12_000/plate_002/patch_attempt_0038_000\n",
      "/Volumes/genie/Jihong_GENIE_stuff/PatcherBot/raw/2022.10.12_000/plate_002/patch_attempt_0039_000\n",
      "/Volumes/genie/Jihong_GENIE_stuff/PatcherBot/raw/2022.10.12_000/plate_003/patch_attempt_0040_000\n",
      "/Volumes/genie/Jihong_GENIE_stuff/PatcherBot/raw/2022.10.12_000/plate_003/patch_attempt_0041_000\n",
      "/Volumes/genie/Jihong_GENIE_stuff/PatcherBot/raw/2022.10.12_000/plate_003/patch_attempt_0042_000\n",
      "/Volumes/genie/Jihong_GENIE_stuff/PatcherBot/raw/2022.10.12_000/plate_003/patch_attempt_0043_000\n",
      "/Volumes/genie/Jihong_GENIE_stuff/PatcherBot/raw/2022.10.12_000/plate_003/patch_attempt_0044_000\n",
      "/Volumes/genie/Jihong_GENIE_stuff/PatcherBot/raw/2022.10.12_000/plate_003/patch_attempt_0045_000\n",
      "/Volumes/genie/Jihong_GENIE_stuff/PatcherBot/raw/2022.10.12_000/plate_003/patch_attempt_0046_000\n",
      "/Volumes/genie/Jihong_GENIE_stuff/PatcherBot/raw/2022.10.12_000/plate_003/patch_attempt_0047_000\n",
      "/Volumes/genie/Jihong_GENIE_stuff/PatcherBot/raw/2022.10.12_000/plate_003/patch_attempt_0048_000\n",
      "/Volumes/genie/Jihong_GENIE_stuff/PatcherBot/raw/2022.10.12_000/plate_003/patch_attempt_0049_000\n",
      "/Volumes/genie/Jihong_GENIE_stuff/PatcherBot/raw/2022.10.12_000/plate_003/patch_attempt_0050_000\n",
      "/Volumes/genie/Jihong_GENIE_stuff/PatcherBot/raw/2022.10.12_000/plate_003/patch_attempt_0051_000\n",
      "/Volumes/genie/Jihong_GENIE_stuff/PatcherBot/raw/2022.10.12_000/plate_003/patch_attempt_0052_000\n",
      "/Volumes/genie/Jihong_GENIE_stuff/PatcherBot/raw/2022.10.12_000/plate_003/patch_attempt_0053_000\n",
      "/Volumes/genie/Jihong_GENIE_stuff/PatcherBot/raw/2022.10.12_000/plate_003/patch_attempt_0054_000\n",
      "/Volumes/genie/Jihong_GENIE_stuff/PatcherBot/raw/2022.10.12_000/plate_003/patch_attempt_0055_000\n",
      "/Volumes/genie/Jihong_GENIE_stuff/PatcherBot/raw/2022.10.12_000/plate_003/patch_attempt_0056_000\n",
      "/Volumes/genie/Jihong_GENIE_stuff/PatcherBot/raw/2022.10.12_000/plate_003/patch_attempt_0057_000\n",
      "/Volumes/genie/Jihong_GENIE_stuff/PatcherBot/raw/2022.10.12_000/plate_004/patch_attempt_0000_000\n",
      "/Volumes/genie/Jihong_GENIE_stuff/PatcherBot/raw/2022.10.12_000/plate_004/patch_attempt_0001_000\n",
      "/Volumes/genie/Jihong_GENIE_stuff/PatcherBot/raw/2022.10.12_000/plate_004/patch_attempt_0002_000\n",
      "/Volumes/genie/Jihong_GENIE_stuff/PatcherBot/raw/2022.10.12_000/plate_004/patch_attempt_0003_000\n",
      "/Volumes/genie/Jihong_GENIE_stuff/PatcherBot/raw/2022.10.12_000/plate_004/patch_attempt_0004_000\n",
      "/Volumes/genie/Jihong_GENIE_stuff/PatcherBot/raw/2022.10.12_000/plate_004/patch_attempt_0005_000\n",
      "/Volumes/genie/Jihong_GENIE_stuff/PatcherBot/raw/2022.10.12_000/plate_004/patch_attempt_0006_000\n",
      "/Volumes/genie/Jihong_GENIE_stuff/PatcherBot/raw/2022.10.12_000/plate_004/patch_attempt_0007_000\n",
      "/Volumes/genie/Jihong_GENIE_stuff/PatcherBot/raw/2022.10.12_000/plate_004/patch_attempt_0008_000\n",
      "/Volumes/genie/Jihong_GENIE_stuff/PatcherBot/raw/2022.10.12_000/plate_004/patch_attempt_0009_000\n",
      "/Volumes/genie/Jihong_GENIE_stuff/PatcherBot/raw/2022.10.12_000/plate_004/patch_attempt_0010_000\n",
      "/Volumes/genie/Jihong_GENIE_stuff/PatcherBot/raw/2022.10.12_000/plate_004/patch_attempt_0011_000\n",
      "bad trials: /Volumes/genie/Jihong_GENIE_stuff/PatcherBot/raw/2022.10.12_000/plate_004/patch_attempt_0012_000\n",
      "/Volumes/genie/Jihong_GENIE_stuff/PatcherBot/raw/2022.10.12_000/plate_004/patch_attempt_0058_000\n",
      "/Volumes/genie/Jihong_GENIE_stuff/PatcherBot/raw/2022.10.12_000/plate_004/patch_attempt_0059_000\n",
      "bad trials: /Volumes/genie/Jihong_GENIE_stuff/PatcherBot/raw/2022.10.12_000/plate_004/patch_attempt_0060_000\n",
      "/Volumes/genie/Jihong_GENIE_stuff/PatcherBot/raw/2022.10.13_000/plate_000/patch_attempt_0000_000\n",
      "/Volumes/genie/Jihong_GENIE_stuff/PatcherBot/raw/2022.10.13_000/plate_000/patch_attempt_0001_000\n",
      "/Volumes/genie/Jihong_GENIE_stuff/PatcherBot/raw/2022.10.13_000/plate_000/patch_attempt_0002_000\n",
      "/Volumes/genie/Jihong_GENIE_stuff/PatcherBot/raw/2022.10.13_000/plate_000/patch_attempt_0003_000\n",
      "/Volumes/genie/Jihong_GENIE_stuff/PatcherBot/raw/2022.10.13_000/plate_000/patch_attempt_0005_000\n",
      "/Volumes/genie/Jihong_GENIE_stuff/PatcherBot/raw/2022.10.13_000/plate_000/patch_attempt_0006_000\n",
      "/Volumes/genie/Jihong_GENIE_stuff/PatcherBot/raw/2022.10.13_000/plate_000/patch_attempt_0007_000\n",
      "/Volumes/genie/Jihong_GENIE_stuff/PatcherBot/raw/2022.10.13_000/plate_000/patch_attempt_0008_000\n",
      "/Volumes/genie/Jihong_GENIE_stuff/PatcherBot/raw/2022.10.13_000/plate_000/patch_attempt_0009_000\n",
      "/Volumes/genie/Jihong_GENIE_stuff/PatcherBot/raw/2022.10.13_000/plate_000/patch_attempt_0010_000\n"
     ]
    },
    {
     "name": "stderr",
     "output_type": "stream",
     "text": [
      "/var/folders/87/trl8ql4s7vj6fkdtrrkcwx6s0zb2d2/T/ipykernel_4671/836035523.py:50: RuntimeWarning: Mean of empty slice\n",
      "  dFF_mean_Ben = np.nanmean(dFF_all_Ben)\n"
     ]
    },
    {
     "name": "stdout",
     "output_type": "stream",
     "text": [
      "/Volumes/genie/Jihong_GENIE_stuff/PatcherBot/raw/2022.10.13_000/plate_000/patch_attempt_0011_000\n",
      "/Volumes/genie/Jihong_GENIE_stuff/PatcherBot/raw/2022.10.13_000/plate_000/patch_attempt_0012_000\n",
      "/Volumes/genie/Jihong_GENIE_stuff/PatcherBot/raw/2022.10.13_000/plate_000/patch_attempt_0013_000\n",
      "/Volumes/genie/Jihong_GENIE_stuff/PatcherBot/raw/2022.10.13_000/plate_000/patch_attempt_0014_000\n",
      "/Volumes/genie/Jihong_GENIE_stuff/PatcherBot/raw/2022.10.13_000/plate_000/patch_attempt_0015_000\n",
      "/Volumes/genie/Jihong_GENIE_stuff/PatcherBot/raw/2022.10.13_000/plate_000/patch_attempt_0016_000\n",
      "/Volumes/genie/Jihong_GENIE_stuff/PatcherBot/raw/2022.10.13_000/plate_001/patch_attempt_0017_000\n",
      "/Volumes/genie/Jihong_GENIE_stuff/PatcherBot/raw/2022.10.13_000/plate_001/patch_attempt_0018_000\n",
      "/Volumes/genie/Jihong_GENIE_stuff/PatcherBot/raw/2022.10.13_000/plate_001/patch_attempt_0019_000\n",
      "bad trials: /Volumes/genie/Jihong_GENIE_stuff/PatcherBot/raw/2022.10.13_000/plate_001/patch_attempt_0020_000\n",
      "/Volumes/genie/Jihong_GENIE_stuff/PatcherBot/raw/2022.10.13_000/plate_001/patch_attempt_0021_000\n",
      "/Volumes/genie/Jihong_GENIE_stuff/PatcherBot/raw/2022.10.13_000/plate_001/patch_attempt_0022_000\n",
      "/Volumes/genie/Jihong_GENIE_stuff/PatcherBot/raw/2022.10.13_000/plate_001/patch_attempt_0023_000\n",
      "/Volumes/genie/Jihong_GENIE_stuff/PatcherBot/raw/2022.10.13_000/plate_001/patch_attempt_0024_000\n",
      "/Volumes/genie/Jihong_GENIE_stuff/PatcherBot/raw/2022.10.13_000/plate_001/patch_attempt_0025_000\n",
      "/Volumes/genie/Jihong_GENIE_stuff/PatcherBot/raw/2022.10.13_000/plate_001/patch_attempt_0026_000\n",
      "/Volumes/genie/Jihong_GENIE_stuff/PatcherBot/raw/2022.10.13_000/plate_001/patch_attempt_0027_000\n",
      "/Volumes/genie/Jihong_GENIE_stuff/PatcherBot/raw/2022.10.13_000/plate_001/patch_attempt_0028_000\n",
      "/Volumes/genie/Jihong_GENIE_stuff/PatcherBot/raw/2022.10.13_000/plate_002/patch_attempt_0029_000\n",
      "/Volumes/genie/Jihong_GENIE_stuff/PatcherBot/raw/2022.10.13_000/plate_002/patch_attempt_0030_000\n",
      "/Volumes/genie/Jihong_GENIE_stuff/PatcherBot/raw/2022.10.13_000/plate_002/patch_attempt_0031_000\n",
      "/Volumes/genie/Jihong_GENIE_stuff/PatcherBot/raw/2022.10.13_000/plate_002/patch_attempt_0032_000\n",
      "/Volumes/genie/Jihong_GENIE_stuff/PatcherBot/raw/2022.10.13_000/plate_002/patch_attempt_0033_000\n",
      "/Volumes/genie/Jihong_GENIE_stuff/PatcherBot/raw/2022.10.13_000/plate_002/patch_attempt_0034_000\n",
      "/Volumes/genie/Jihong_GENIE_stuff/PatcherBot/raw/2022.10.13_000/plate_002/patch_attempt_0035_000\n",
      "/Volumes/genie/Jihong_GENIE_stuff/PatcherBot/raw/2022.10.13_000/plate_002/patch_attempt_0036_000\n",
      "/Volumes/genie/Jihong_GENIE_stuff/PatcherBot/raw/2022.10.13_000/plate_002/patch_attempt_0037_000\n",
      "/Volumes/genie/Jihong_GENIE_stuff/PatcherBot/raw/2022.10.13_000/plate_002/patch_attempt_0038_000\n",
      "/Volumes/genie/Jihong_GENIE_stuff/PatcherBot/raw/2022.10.13_000/plate_002/patch_attempt_0039_000\n",
      "/Volumes/genie/Jihong_GENIE_stuff/PatcherBot/raw/2022.10.13_000/plate_002/patch_attempt_0040_000\n",
      "/Volumes/genie/Jihong_GENIE_stuff/PatcherBot/raw/2022.10.13_000/plate_002/patch_attempt_0041_000\n",
      "/Volumes/genie/Jihong_GENIE_stuff/PatcherBot/raw/2022.10.13_000/plate_002/patch_attempt_0042_000\n",
      "/Volumes/genie/Jihong_GENIE_stuff/PatcherBot/raw/2022.10.13_000/plate_002/patch_attempt_0043_000\n",
      "/Volumes/genie/Jihong_GENIE_stuff/PatcherBot/raw/2022.10.13_000/plate_002/patch_attempt_0044_000\n",
      "bad trials: /Volumes/genie/Jihong_GENIE_stuff/PatcherBot/raw/2022.10.13_000/plate_002/patch_attempt_0045_000\n",
      "/Volumes/genie/Jihong_GENIE_stuff/PatcherBot/raw/2022.10.13_000/plate_002/patch_attempt_0046_000\n",
      "/Volumes/genie/Jihong_GENIE_stuff/PatcherBot/raw/2022.10.13_000/plate_002/patch_attempt_0047_000\n",
      "/Volumes/genie/Jihong_GENIE_stuff/PatcherBot/raw/2022.10.13_000/plate_002/patch_attempt_0048_000\n",
      "/Volumes/genie/Jihong_GENIE_stuff/PatcherBot/raw/2022.10.13_000/plate_003/patch_attempt_0000_000\n",
      "/Volumes/genie/Jihong_GENIE_stuff/PatcherBot/raw/2022.10.13_000/plate_003/patch_attempt_0001_000\n",
      "/Volumes/genie/Jihong_GENIE_stuff/PatcherBot/raw/2022.10.13_000/plate_003/patch_attempt_0002_000\n",
      "/Volumes/genie/Jihong_GENIE_stuff/PatcherBot/raw/2022.10.13_000/plate_003/patch_attempt_0003_000\n",
      "/Volumes/genie/Jihong_GENIE_stuff/PatcherBot/raw/2022.10.13_000/plate_003/patch_attempt_0004_000\n",
      "/Volumes/genie/Jihong_GENIE_stuff/PatcherBot/raw/2022.10.13_000/plate_003/patch_attempt_0005_000\n",
      "/Volumes/genie/Jihong_GENIE_stuff/PatcherBot/raw/2022.10.13_000/plate_003/patch_attempt_0049_000\n",
      "/Volumes/genie/Jihong_GENIE_stuff/PatcherBot/raw/2022.10.13_000/plate_003/patch_attempt_0050_000\n",
      "/Volumes/genie/Jihong_GENIE_stuff/PatcherBot/raw/2022.10.13_000/plate_003/patch_attempt_0051_000\n",
      "bad trials: /Volumes/genie/Jihong_GENIE_stuff/PatcherBot/raw/2022.10.13_000/plate_003/patch_attempt_0052_000\n",
      "done\n"
     ]
    }
   ],
   "source": [
    "data_all={}\n",
    "\n",
    "data_all['Date'] = []\n",
    "data_all['Plate'] = []\n",
    "data_all['Well'] = []\n",
    "data_all['Cell'] = []\n",
    "data_all['Mutation'] = []\n",
    "data_all['Transfected_date'] = []\n",
    "data_all['dFF_Ben'] = []\n",
    "data_all['Pulse_amplitude (nA)'] = []\n",
    "data_all['Pulse_duration (ms)'] = []\n",
    "\n",
    "for date in datePath:\n",
    "    platePath = pb.getPathInfo(os.path.join(rawPath,date))\n",
    "    for plate in platePath:\n",
    "        if os.path.join(rawPath,date,plate) in wrongPlates:\n",
    "            print('wrong plate: %s' %os.path.join(rawPath, date, plate))\n",
    "            continue\n",
    "            \n",
    "        idxFile = os.path.join(rawPath,date,plate,'.index')\n",
    "        meta = yaml.load(open(idxFile), Loader=yaml.FullLoader)\n",
    "        cellPath = pb.getPathInfo(os.path.join(rawPath, date, plate))\n",
    "#         print(cellPath)\n",
    "        for cell in(cellPath):\n",
    "            if os.path.join(rawPath,date,plate,cell) in badTrials:\n",
    "                print('bad trials: %s' %os.path.join(rawPath,date,plate,cell))\n",
    "                continue\n",
    "                \n",
    "            print(os.path.join(rawPath, date, plate, cell))\n",
    "            if not os.path.exists(os.path.join(rawPath,date,plate,cell,'I_clamp1_000')):\n",
    "                continue\n",
    "\n",
    "            logFile = os.path.join(rawPath, date, plate, cell, 'patch.log')\n",
    "            params = get_Rs(logFile)\n",
    "            Rs = np.mean(params['Rs'][-30:-10])\n",
    "            \n",
    "            dFF_all_Ben = []\n",
    "            dFF_all_norm_Ben = []\n",
    "\n",
    "            matFile = os.path.join(imgPath, date, plate, cell, '999.mat')\n",
    "            f = h5py.File(matFile,'r')\n",
    "            d = f['params']['fit']\n",
    "            st = d[0]\n",
    "            obj = f[st]\n",
    "            dFF = obj['bkg_norm_ave_dFoF0'][()][0]\n",
    "            dFF_trace = obj['bleach_bkg_norm_ave_trace'][()]\n",
    "            \n",
    "            dFF_all_Ben.append(dFF)\n",
    "\n",
    "            dFF_mean_Ben = np.nanmean(dFF_all_Ben)\n",
    "\n",
    "\n",
    "            mutation = meta['.']['mutation_1']\n",
    "            \n",
    "            \n",
    "\n",
    "            note = meta['.']['notes'][0:6]\n",
    "            data_all['Date'].append(date)\n",
    "            data_all['Plate'].append(plate)\n",
    "            data_all['Well'].append('well_1')\n",
    "            data_all['Cell'].append(cell)\n",
    "            data_all['Mutation'].append(mutation)\n",
    "            data_all['Transfected_date'].append(note[:6])\n",
    "            data_all['dFF_Ben'].append(dFF_mean_Ben)\n",
    "            data_all['Pulse_amplitude (nA)'].append(2)\n",
    "            data_all['Pulse_duration (ms)'].append(2)\n",
    "            \n",
    "print('done')"
   ]
  },
  {
   "cell_type": "code",
   "execution_count": 8,
   "metadata": {},
   "outputs": [
    {
     "name": "stdout",
     "output_type": "stream",
     "text": [
      "Date 66\n",
      "Plate 66\n",
      "Well 66\n",
      "Cell 66\n",
      "Mutation 66\n",
      "Transfected_date 66\n",
      "dFF_Ben 66\n",
      "Pulse_amplitude (nA) 66\n",
      "Pulse_duration (ms) 66\n"
     ]
    }
   ],
   "source": [
    "for k,v in data_all.items():\n",
    "    print(k,len(v))"
   ]
  },
  {
   "cell_type": "code",
   "execution_count": 10,
   "metadata": {},
   "outputs": [
    {
     "data": {
      "text/html": [
       "<div>\n",
       "<style scoped>\n",
       "    .dataframe tbody tr th:only-of-type {\n",
       "        vertical-align: middle;\n",
       "    }\n",
       "\n",
       "    .dataframe tbody tr th {\n",
       "        vertical-align: top;\n",
       "    }\n",
       "\n",
       "    .dataframe thead th {\n",
       "        text-align: right;\n",
       "    }\n",
       "</style>\n",
       "<table border=\"1\" class=\"dataframe\">\n",
       "  <thead>\n",
       "    <tr style=\"text-align: right;\">\n",
       "      <th></th>\n",
       "      <th>Date</th>\n",
       "      <th>Plate</th>\n",
       "      <th>Well</th>\n",
       "      <th>Cell</th>\n",
       "      <th>Mutation</th>\n",
       "      <th>Transfected_date</th>\n",
       "      <th>dFF_Ben</th>\n",
       "      <th>Pulse_amplitude (nA)</th>\n",
       "      <th>Pulse_duration (ms)</th>\n",
       "    </tr>\n",
       "  </thead>\n",
       "  <tbody>\n",
       "    <tr>\n",
       "      <th>0</th>\n",
       "      <td>2022.10.12_000</td>\n",
       "      <td>plate_000</td>\n",
       "      <td>well_1</td>\n",
       "      <td>patch_attempt_0001_000</td>\n",
       "      <td>487.8</td>\n",
       "      <td>221004</td>\n",
       "      <td>-0.068939</td>\n",
       "      <td>2</td>\n",
       "      <td>2</td>\n",
       "    </tr>\n",
       "    <tr>\n",
       "      <th>1</th>\n",
       "      <td>2022.10.12_000</td>\n",
       "      <td>plate_000</td>\n",
       "      <td>well_1</td>\n",
       "      <td>patch_attempt_0003_000</td>\n",
       "      <td>487.8</td>\n",
       "      <td>221004</td>\n",
       "      <td>-0.096861</td>\n",
       "      <td>2</td>\n",
       "      <td>2</td>\n",
       "    </tr>\n",
       "    <tr>\n",
       "      <th>2</th>\n",
       "      <td>2022.10.12_000</td>\n",
       "      <td>plate_000</td>\n",
       "      <td>well_1</td>\n",
       "      <td>patch_attempt_0004_000</td>\n",
       "      <td>487.8</td>\n",
       "      <td>221004</td>\n",
       "      <td>-0.039398</td>\n",
       "      <td>2</td>\n",
       "      <td>2</td>\n",
       "    </tr>\n",
       "    <tr>\n",
       "      <th>3</th>\n",
       "      <td>2022.10.12_000</td>\n",
       "      <td>plate_000</td>\n",
       "      <td>well_1</td>\n",
       "      <td>patch_attempt_0005_000</td>\n",
       "      <td>487.8</td>\n",
       "      <td>221004</td>\n",
       "      <td>-0.119609</td>\n",
       "      <td>2</td>\n",
       "      <td>2</td>\n",
       "    </tr>\n",
       "    <tr>\n",
       "      <th>4</th>\n",
       "      <td>2022.10.12_000</td>\n",
       "      <td>plate_000</td>\n",
       "      <td>well_1</td>\n",
       "      <td>patch_attempt_0008_000</td>\n",
       "      <td>487.8</td>\n",
       "      <td>221004</td>\n",
       "      <td>-0.145158</td>\n",
       "      <td>2</td>\n",
       "      <td>2</td>\n",
       "    </tr>\n",
       "    <tr>\n",
       "      <th>...</th>\n",
       "      <td>...</td>\n",
       "      <td>...</td>\n",
       "      <td>...</td>\n",
       "      <td>...</td>\n",
       "      <td>...</td>\n",
       "      <td>...</td>\n",
       "      <td>...</td>\n",
       "      <td>...</td>\n",
       "      <td>...</td>\n",
       "    </tr>\n",
       "    <tr>\n",
       "      <th>61</th>\n",
       "      <td>2022.10.13_000</td>\n",
       "      <td>plate_003</td>\n",
       "      <td>well_1</td>\n",
       "      <td>patch_attempt_0000_000</td>\n",
       "      <td>421.2096</td>\n",
       "      <td>221004</td>\n",
       "      <td>-0.066753</td>\n",
       "      <td>2</td>\n",
       "      <td>2</td>\n",
       "    </tr>\n",
       "    <tr>\n",
       "      <th>62</th>\n",
       "      <td>2022.10.13_000</td>\n",
       "      <td>plate_003</td>\n",
       "      <td>well_1</td>\n",
       "      <td>patch_attempt_0003_000</td>\n",
       "      <td>421.2096</td>\n",
       "      <td>221004</td>\n",
       "      <td>-0.140923</td>\n",
       "      <td>2</td>\n",
       "      <td>2</td>\n",
       "    </tr>\n",
       "    <tr>\n",
       "      <th>63</th>\n",
       "      <td>2022.10.13_000</td>\n",
       "      <td>plate_003</td>\n",
       "      <td>well_1</td>\n",
       "      <td>patch_attempt_0005_000</td>\n",
       "      <td>421.2096</td>\n",
       "      <td>221004</td>\n",
       "      <td>-0.149007</td>\n",
       "      <td>2</td>\n",
       "      <td>2</td>\n",
       "    </tr>\n",
       "    <tr>\n",
       "      <th>64</th>\n",
       "      <td>2022.10.13_000</td>\n",
       "      <td>plate_003</td>\n",
       "      <td>well_1</td>\n",
       "      <td>patch_attempt_0049_000</td>\n",
       "      <td>421.2096</td>\n",
       "      <td>221004</td>\n",
       "      <td>-0.138941</td>\n",
       "      <td>2</td>\n",
       "      <td>2</td>\n",
       "    </tr>\n",
       "    <tr>\n",
       "      <th>65</th>\n",
       "      <td>2022.10.13_000</td>\n",
       "      <td>plate_003</td>\n",
       "      <td>well_1</td>\n",
       "      <td>patch_attempt_0051_000</td>\n",
       "      <td>421.2096</td>\n",
       "      <td>221004</td>\n",
       "      <td>-0.148867</td>\n",
       "      <td>2</td>\n",
       "      <td>2</td>\n",
       "    </tr>\n",
       "  </tbody>\n",
       "</table>\n",
       "<p>66 rows × 9 columns</p>\n",
       "</div>"
      ],
      "text/plain": [
       "              Date      Plate    Well                    Cell  Mutation  \\\n",
       "0   2022.10.12_000  plate_000  well_1  patch_attempt_0001_000     487.8   \n",
       "1   2022.10.12_000  plate_000  well_1  patch_attempt_0003_000     487.8   \n",
       "2   2022.10.12_000  plate_000  well_1  patch_attempt_0004_000     487.8   \n",
       "3   2022.10.12_000  plate_000  well_1  patch_attempt_0005_000     487.8   \n",
       "4   2022.10.12_000  plate_000  well_1  patch_attempt_0008_000     487.8   \n",
       "..             ...        ...     ...                     ...       ...   \n",
       "61  2022.10.13_000  plate_003  well_1  patch_attempt_0000_000  421.2096   \n",
       "62  2022.10.13_000  plate_003  well_1  patch_attempt_0003_000  421.2096   \n",
       "63  2022.10.13_000  plate_003  well_1  patch_attempt_0005_000  421.2096   \n",
       "64  2022.10.13_000  plate_003  well_1  patch_attempt_0049_000  421.2096   \n",
       "65  2022.10.13_000  plate_003  well_1  patch_attempt_0051_000  421.2096   \n",
       "\n",
       "   Transfected_date   dFF_Ben  Pulse_amplitude (nA)  Pulse_duration (ms)  \n",
       "0            221004 -0.068939                     2                    2  \n",
       "1            221004 -0.096861                     2                    2  \n",
       "2            221004 -0.039398                     2                    2  \n",
       "3            221004 -0.119609                     2                    2  \n",
       "4            221004 -0.145158                     2                    2  \n",
       "..              ...       ...                   ...                  ...  \n",
       "61           221004 -0.066753                     2                    2  \n",
       "62           221004 -0.140923                     2                    2  \n",
       "63           221004 -0.149007                     2                    2  \n",
       "64           221004 -0.138941                     2                    2  \n",
       "65           221004 -0.148867                     2                    2  \n",
       "\n",
       "[66 rows x 9 columns]"
      ]
     },
     "execution_count": 10,
     "metadata": {},
     "output_type": "execute_result"
    }
   ],
   "source": [
    "df_new = pd.DataFrame(data_all)\n",
    "df_new"
   ]
  },
  {
   "cell_type": "code",
   "execution_count": 11,
   "metadata": {},
   "outputs": [],
   "source": [
    "s_d = {'421.2311':'Voltron',\n",
    " '421.2096':'Voltron 2',\n",
    " '421.2310':'Positron',\n",
    " '487.8':'Ace mNeon 2',\n",
    " '487.7':'Ace mNeon',\n",
    " '638.1':'pAce',\n",
    " '421.6237':'Positron 2',\n",
    " '639.1':'pAceR'}\n",
    "\n",
    "Construct = []\n",
    "for i,r in df_new.iterrows():\n",
    "    Construct.append(s_d[r['Mutation']])"
   ]
  },
  {
   "cell_type": "code",
   "execution_count": 12,
   "metadata": {},
   "outputs": [],
   "source": [
    "df_new = df_new.assign(Construct=Construct)"
   ]
  },
  {
   "cell_type": "code",
   "execution_count": 13,
   "metadata": {},
   "outputs": [],
   "source": [
    "# df = pd.read_pickle(sumPath+'/I_clamp.pkl')"
   ]
  },
  {
   "cell_type": "code",
   "execution_count": null,
   "metadata": {},
   "outputs": [],
   "source": [
    "# df = pd.concat([df,df_new],axis=0)\n",
    "# df.index = np.arange(len(df))"
   ]
  },
  {
   "cell_type": "code",
   "execution_count": null,
   "metadata": {},
   "outputs": [],
   "source": [
    "# df.to_pickle(sumPath+'/I_clamp.pkl')"
   ]
  },
  {
   "cell_type": "code",
   "execution_count": null,
   "metadata": {},
   "outputs": [],
   "source": [
    "# df_new = df"
   ]
  },
  {
   "cell_type": "code",
   "execution_count": 14,
   "metadata": {},
   "outputs": [],
   "source": [
    "df_new['dFF_Ben_percent'] = df_new.dFF_Ben*100"
   ]
  },
  {
   "cell_type": "code",
   "execution_count": null,
   "metadata": {},
   "outputs": [],
   "source": []
  },
  {
   "cell_type": "code",
   "execution_count": 15,
   "metadata": {},
   "outputs": [],
   "source": [
    "# df_new.Construct.unique()\n",
    "s = ['Ace mNeon','Ace mNeon 2','pAce','Positron','Positron 2','Voltron','Voltron 2']\n",
    "df_T = pd.DataFrame()\n",
    "for i in s:\n",
    "    df_t = df_new[df_new['Construct']==i]\n",
    "    df_T = pd.concat([df_T,df_t],axis=0)"
   ]
  },
  {
   "cell_type": "code",
   "execution_count": 19,
   "metadata": {},
   "outputs": [
    {
     "data": {
      "image/png": "[encoded data removed]",
      "text/plain": [
       "<Figure size 432x360 with 1 Axes>"
      ]
     },
     "metadata": {},
     "output_type": "display_data"
    }
   ],
   "source": [
    "plt.figure(figsize=[6,5])\n",
    "plt.rc('font', size=14)\n",
    "sns.set_style(\"whitegrid\")\n",
    "ax = sns.boxplot(x='Construct',y='dFF_Ben_percent',data=df_T,showfliers = False)\n",
    "for i in range(len(s)):\n",
    "    mybox = ax.artists[i]\n",
    "    r,g,b,a = mybox.get_facecolor()\n",
    "    mybox.set_facecolor('none')\n",
    "    mybox.set_linewidth(1.5)\n",
    "# colors=['g','g','g','y','y','y','y']\n",
    "# sns.set_palette(sns.color_palette(colors))\n",
    "sns.swarmplot(x='Construct',y='dFF_Ben_percent',data=df_T,size=7,linewidth=2,alpha=0.5,edgecolor=None)\n",
    "ax.set_ylabel('\\u0394F/F0 (%)',size=14)\n",
    "ax.set_xlabel('')\n",
    "plt.xticks(rotation=45,ha='center')\n",
    "plt.tight_layout()\n",
    "# plt.savefig('/Users/zhengj10/Desktop/221018/I-clamp_stat.png',dpi=1200)\n",
    "plt.savefig('/Volumes/genie/Presentations/Jihong/SfN materials/I-clamp.pdf',format='pdf')\n",
    "plt.show()"
   ]
  },
  {
   "cell_type": "code",
   "execution_count": null,
   "metadata": {},
   "outputs": [],
   "source": [
    "df_s = df_new[df_new['Mutation']=='638.1']\n",
    "df_s"
   ]
  },
  {
   "cell_type": "code",
   "execution_count": null,
   "metadata": {},
   "outputs": [],
   "source": [
    "h5File = rawPath+'/2022.10.12_000/plate_002/patch_attempt_0034_000/I_clamp1_000/000/Clamp1.ma'\n",
    "h5Data = h5py.File(h5File,'r')"
   ]
  },
  {
   "cell_type": "code",
   "execution_count": null,
   "metadata": {},
   "outputs": [],
   "source": [
    "ivData = h5Data['data']\n",
    "ivData.shape"
   ]
  },
  {
   "cell_type": "code",
   "execution_count": null,
   "metadata": {},
   "outputs": [],
   "source": [
    "plt.plot(ivData[0,:])"
   ]
  },
  {
   "cell_type": "code",
   "execution_count": null,
   "metadata": {},
   "outputs": [],
   "source": [
    "df_new.Construct.unique()"
   ]
  },
  {
   "cell_type": "code",
   "execution_count": null,
   "metadata": {},
   "outputs": [],
   "source": []
  },
  {
   "cell_type": "code",
   "execution_count": null,
   "metadata": {},
   "outputs": [],
   "source": []
  },
  {
   "cell_type": "code",
   "execution_count": null,
   "metadata": {},
   "outputs": [],
   "source": [
    "# df_processed = pd.read_pickle(sumPath+'/I-Clamp.pkl')"
   ]
  },
  {
   "cell_type": "code",
   "execution_count": null,
   "metadata": {},
   "outputs": [],
   "source": [
    "# df = df_processed.append(df_new, ignore_index = True)\n",
    "# df.index = np.arange(1, len(df)+1)\n",
    "# df.to_pickle(sumPath+'/I-Clamp.pkl')\n",
    "# df\n"
   ]
  },
  {
   "cell_type": "code",
   "execution_count": null,
   "metadata": {},
   "outputs": [],
   "source": [
    "# df_new.to_pickle(sumPath+'/I-Clamp.pkl')"
   ]
  },
  {
   "cell_type": "code",
   "execution_count": null,
   "metadata": {},
   "outputs": [],
   "source": [
    "# df = df_new"
   ]
  },
  {
   "cell_type": "code",
   "execution_count": null,
   "metadata": {},
   "outputs": [],
   "source": [
    "# df.to_excel(sumPath+'/iclamp.xlsx')\n",
    "# df.to_pickle(sumPath+'/iclamp.pkl')"
   ]
  },
  {
   "cell_type": "markdown",
   "metadata": {},
   "source": [
    "### Plot directly from saved file"
   ]
  },
  {
   "cell_type": "code",
   "execution_count": null,
   "metadata": {},
   "outputs": [],
   "source": [
    "df = pd.read_pickle(sumPath+'/Plot_I-Clamp.pkl')\n",
    "df.shape"
   ]
  },
  {
   "cell_type": "code",
   "execution_count": null,
   "metadata": {},
   "outputs": [],
   "source": [
    "df"
   ]
  },
  {
   "cell_type": "code",
   "execution_count": null,
   "metadata": {},
   "outputs": [],
   "source": [
    "# df['Objective'] = '40x oil GENIE'"
   ]
  },
  {
   "cell_type": "code",
   "execution_count": null,
   "metadata": {},
   "outputs": [],
   "source": [
    "# df = df.append(df_new, ignore_index = True)\n",
    "# df.index = np.arange(1, len(df)+1)\n",
    "# df"
   ]
  },
  {
   "cell_type": "code",
   "execution_count": null,
   "metadata": {},
   "outputs": [],
   "source": [
    "threshold = {'RMP':-40,'AP_AMP':80}"
   ]
  },
  {
   "cell_type": "code",
   "execution_count": null,
   "metadata": {},
   "outputs": [],
   "source": [
    "df_p = df[(df.RMP<threshold['RMP']) & (df.AP_AMP>threshold['AP_AMP'])]\n",
    "print('%d trials exluded' %(len(df)-len(df_p)))\n"
   ]
  },
  {
   "cell_type": "code",
   "execution_count": null,
   "metadata": {},
   "outputs": [],
   "source": [
    "df.to_pickle(sumPath+'/I-Clamp.pkl')"
   ]
  },
  {
   "cell_type": "markdown",
   "metadata": {},
   "source": [
    "#### Check AP shape"
   ]
  },
  {
   "cell_type": "code",
   "execution_count": null,
   "metadata": {
    "scrolled": false
   },
   "outputs": [],
   "source": [
    "fig=plt.figure(figsize=[14,22])\n",
    "\n",
    "a = 0\n",
    "for i,r in df_T.iterrows():\n",
    "#     print(i)\n",
    "    ax = plt.subplot(10,7,a+1)\n",
    "    dataFile = os.path.join(rawPath,r['Date'],r['Plate'],r['Cell'],'I_clamp1_000/000/Clamp1.ma')\n",
    "    data = h5py.File(dataFile,'r')\n",
    "    traces = data['data'][()]\n",
    "    trace = traces[0,:][7300:9300]\n",
    "#     peaks, _ = ss.find_peaks(trace, height = 0)\n",
    "#     peaks = np.argmax(trace)\n",
    "#     print(peaks)\n",
    "#     peaks = np.argmax(trace)\n",
    "#     AP_halfWidth = ss.peak_widths(trace,peaks,rel_height=0.5)\n",
    "#     print(AP_halfWidth)\n",
    "    ax.plot(trace)\n",
    "#     ax.scatter(peaks,np.max(trace),color='m')\n",
    "    ax.set_title(r['Mutation'])\n",
    "    a+=1\n",
    "plt.tight_layout()\n",
    "# fig.savefig('/Volumes/genie/Presentations/Jihong/GENIE production/220614/APs.png',dpi=1200)\n",
    "plt.show()"
   ]
  },
  {
   "cell_type": "code",
   "execution_count": null,
   "metadata": {},
   "outputs": [],
   "source": [
    "# matFile = '/Volumes/genie/BenArthur/patch-screen/bot/2022.10.12_000/plate_002/patch_attempt_0033_000/999.mat'\n",
    "# f = h5py.File(matFile,'r')\n",
    "# d = f['params']['fit']\n",
    "# st = d[0]\n",
    "# obj = f[st]\n",
    "# dFF_trace = obj['bleach_bkg_norm_ave_trace'][()]\n",
    "# ax = plt.subplot(111)\n",
    "# ax.plot(dFF_trace)\n",
    "\n",
    "eFile = '/Volumes/genie/Jihong_GENIE_stuff/PatcherBot/raw/2022.10.12_000/plate_002/patch_attempt_0033_000/I_clamp1_000/000/Clamp1.ma'\n",
    "f = h5py.File(eFile,'r')\n",
    "plt.plot(f['data'][0])\n",
    "\n"
   ]
  },
  {
   "cell_type": "code",
   "execution_count": null,
   "metadata": {},
   "outputs": [],
   "source": [
    "fig=plt.figure(figsize=[14,22])\n",
    "\n",
    "a = 0\n",
    "for i,r in df.iterrows():\n",
    "#     print(i)\n",
    "    ax = plt.subplot(8,7,a+1)\n",
    "    matFile = os.path.join(imgPath, r['Date'], r['Plate'], r['Cell'], '999.mat')\n",
    "    f = h5py.File(matFile,'r')\n",
    "    d = f['params']['fit']\n",
    "    st = d[0]\n",
    "    obj = f[st]\n",
    "    dFF_trace = obj['bleach_bkg_norm_ave_trace'][()]\n",
    "    ax.plot(dFF_trace[170:220])\n",
    "#     ax.scatter(peaks,np.max(trace),color='m')\n",
    "    ax.set_title(r['Mutation'])\n",
    "    a+=1\n",
    "plt.tight_layout()\n",
    "# fig.savefig('/Volumes/genie/Presentations/Jihong/GENIE production/220614/dFF_sinle AP.png',dpi=1200)\n",
    "plt.show()"
   ]
  },
  {
   "cell_type": "markdown",
   "metadata": {},
   "source": [
    "#### Delete cells with bad AP profile"
   ]
  },
  {
   "cell_type": "code",
   "execution_count": null,
   "metadata": {},
   "outputs": [],
   "source": [
    "print(len(df_p))\n",
    "indexName = df_p[(df_p['Date'] == '2020.09.23_000') & (df_p['Plate'] == 'plate_000') & (df_p['Cell'] == 'patch_attempt_0003_000')].index\n",
    "indexName\n",
    "df_p = df_p.drop(indexName)\n",
    "pd.set_option('display.max_rows', 100)\n",
    "df_p.shape"
   ]
  },
  {
   "cell_type": "code",
   "execution_count": null,
   "metadata": {},
   "outputs": [],
   "source": [
    "sensors = df_p.Mutation.unique()\n",
    "sensors\n",
    "for sensor in sensors:\n",
    "    print(sensor + ': %d' %len(df_p[df_p['Mutation']==sensor]))"
   ]
  },
  {
   "cell_type": "code",
   "execution_count": null,
   "metadata": {},
   "outputs": [],
   "source": [
    "# sensors = ['485.6','376.20950','485.20950','L2','533.1']\n",
    "sensors = ['421.1','421.2096']\n"
   ]
  },
  {
   "cell_type": "code",
   "execution_count": null,
   "metadata": {},
   "outputs": [],
   "source": [
    "import unicodedata\n",
    "\n",
    "import matplotlib\n",
    "matplotlib.rcParams['pdf.fonttype'] = 42\n",
    "matplotlib.rcParams['ps.fonttype'] = 42\n",
    "\n",
    "\n",
    "\n",
    "sns.reset_orig()\n",
    "# fig = plt.figure(figsize=(3.5,8))\n",
    "fig = plt.figure(figsize=(1.6,2))\n",
    "# fig = plt.figure(figsize=(6,15))\n",
    "\n",
    "labels_dict = {\n",
    "    '485.6':'ASAP3b-TS-ER-SOM2',\n",
    "    '485.20950':'ASAP3b (T392V)-TS-ER-SOM2',\n",
    "    '376.20950':'ASAP3b (T392V)',\n",
    "    'L2':'ASAP3b (T392V)-GSS3-SOM2-lTlcnC',\n",
    "    '533.1':'ASAP3-Kv (Lin)',\n",
    "    'A122D-ST':'Voltron (A122D)-TS-ER-SOM2',\n",
    "    '421.1':'Voltron',\n",
    "    '421.2096':'Voltron 2'\n",
    "}\n",
    "# colors={'421.1':'xkcd:french blue','421.2096':'xkcd:dusty red'}\n",
    "params = ['dFF_Jihong']\n",
    "y_label = [unicodedata.lookup(\"GREEK CAPITAL LETTER delta\")+'F/F (%)']\n",
    "for f in range(len(params)):\n",
    "    ax = plt.subplot(1,1,f+1)\n",
    "    individual_points = []\n",
    "    mean_all = []\n",
    "    sem_all = []\n",
    "    labels = []\n",
    "    for sensor in sensors:\n",
    "        print(sensor)\n",
    "        df_sensor = df_p[df_p.Mutation == sensor]\n",
    "#         param_mean = np.nanmean(df_sensor[params[f]].tolist(), axis=0)\n",
    "        param_mean = df_sensor[params[f]].mean()\n",
    "        print(param_mean)\n",
    "#         print(param_mean)\n",
    "#         param_sem = np.nanstd(df_sensor[params[f]].tolist(), axis=0)/np.sqrt(len(df_sensor))\n",
    "        param_sem = df_sensor[params[f]].sem()\n",
    "        print(param_sem)\n",
    "        individual_points.append(np.array(df_sensor[params[f]].tolist())*100)\n",
    "        mean_all.append(param_mean*100)\n",
    "        sem_all.append(param_sem*100)\n",
    "        labels.append(labels_dict[sensor])\n",
    "        x = df_sensor.Mutation.to_list()\n",
    "        y = df_sensor[params[0]].to_list()\n",
    "#         ax.scatter(x,y,edgecolor=colors[sensor],s=50,facecolors='none')\n",
    "        \n",
    "    y_pos = np.arange(1,len(sensors)+1)\n",
    "    \n",
    "    ax.spines['right'].set_visible(False)\n",
    "    ax.spines['top'].set_visible(False)\n",
    "\n",
    "\n",
    "    ax.set_ylabel(y_label[0])\n",
    "    \n",
    "\n",
    "#     ax.set_ylim([-0.0027,0.0005])\n",
    "#     ax.set_ylim([-0.0042,0])\n",
    "#     ax.set_ylim([-0.0021,0])\n",
    "\n",
    "    \n",
    "#     ax.bar(y_pos, mean_all, yerr = sem_all,edgecolor=['xkcd:french blue','xkcd:dusty red'],facecolor='none')\n",
    "    ax.bar(y_pos, mean_all, yerr = sem_all,color=['#336699','#F33333'],edgecolor='k',linewidth=2,zorder=-1)\n",
    "#     ax.scatter([1,1,1,1,1],individual_points[0],color='k',zorder=1,alpha=0.75)\n",
    "#     ax.scatter([2,2,2,2,2,2,2],individual_points[1],color='k',zorder=1,alpha=0.75)\n",
    "    \n",
    "#     color=['xkcd:french blue','xkcd:dusty red','#2ca02c','#d62728','#9467bd','#17becf','#e377c2','#7f7f7f','#bcbd22']\n",
    "\n",
    "#     plt.xticks(y_pos,labels,size=12,rotation=90)\n",
    "#     plt.xticks(y_pos,labels,rotation=45,ha='right')\n",
    "    \n",
    "    plt.tick_params(\n",
    "        axis='x',\n",
    "        which='both',\n",
    "        bottom=False,\n",
    "        top=False,\n",
    "        labelbottom=False,\n",
    "    )\n",
    "    \n",
    "    colors = ['#336699', '#FF3333']\n",
    "    for xtick, color in zip(ax.get_xticklabels(), colors):\n",
    "        xtick.set_color(color)\n",
    "    \n",
    "#     plt.ticklabel_format(axis=\"y\", style=\"sci\", scilimits=(0,0))\n",
    "#     ax.get_yaxis().get_offset_text().set_position((-0.06,0)) # Adjust position of 1e-3 notation, only x works!\n",
    "\n",
    "ax.set_ylim([0.0,-12.14354176909621])\n",
    "plt.tight_layout()\n",
    "# fig.savefig(sumPath+'/I_Clamp_stat.pdf',format='pdf')\n",
    "plt.show()\n"
   ]
  },
  {
   "cell_type": "code",
   "execution_count": null,
   "metadata": {},
   "outputs": [],
   "source": []
  },
  {
   "cell_type": "code",
   "execution_count": null,
   "metadata": {},
   "outputs": [],
   "source": [
    "individual_points"
   ]
  },
  {
   "cell_type": "code",
   "execution_count": null,
   "metadata": {},
   "outputs": [],
   "source": [
    "ax.get_xlim()"
   ]
  },
  {
   "cell_type": "code",
   "execution_count": null,
   "metadata": {},
   "outputs": [],
   "source": [
    "from scipy.stats import mannwhitneyu\n",
    "p_val = {}\n",
    "\n",
    "a = df[df['Mutation']=='421.1']['dFF_Jihong'].to_list()\n",
    "b = df[df['Mutation']=='421.2096']['dFF_Jihong'].to_list()\n",
    "stat, p = mannwhitneyu(a, b, alternative='two-sided')\n",
    "# p_val[param] = p"
   ]
  },
  {
   "cell_type": "code",
   "execution_count": null,
   "metadata": {},
   "outputs": [],
   "source": [
    "p"
   ]
  },
  {
   "cell_type": "code",
   "execution_count": null,
   "metadata": {},
   "outputs": [],
   "source": [
    "df_sel = df_p[df_p.Mutation.isin(['421.1','421.2096'])]"
   ]
  },
  {
   "cell_type": "code",
   "execution_count": null,
   "metadata": {},
   "outputs": [],
   "source": [
    "df_sel.shape\n",
    "# df_sel.Date.unique()\n",
    "df_sel"
   ]
  },
  {
   "cell_type": "markdown",
   "metadata": {},
   "source": [
    "#### Pick up example neuron"
   ]
  },
  {
   "cell_type": "code",
   "execution_count": null,
   "metadata": {},
   "outputs": [],
   "source": [
    "fig = plt.figure(figsize=[15,15])\n",
    "\n",
    "a = 1\n",
    "\n",
    "for idx,r in df_sel.iterrows():\n",
    "\n",
    "    img = os.path.join(rawPath,r['Date'],r['Plate'],r['Cell'],'fluor_image_000.tif')\n",
    "    img = tff.TiffFile(img)\n",
    "    img = img.asarray()\n",
    "    img = img[192:320,192:320]\n",
    "\n",
    "    dataFile = os.path.join(rawPath,r['Date'],r['Plate'],r['Cell'],'I_clamp1_000/000/Clamp1.ma')\n",
    "    data = h5py.File(dataFile,'r')\n",
    "    traces = data['data'][()]\n",
    "    traces[1,:] = traces[1,:]*1e3\n",
    "    traces[1,8000:8080] = traces[1,8000:8080] - r['Rs_uncorrected']\n",
    "    trace = traces[1,:][7980:8150]\n",
    "    if a<=6:\n",
    "        ax1 = plt.subplot(6,6,a)\n",
    "        ax1.imshow(img,cmap='gray')\n",
    "        ax2 = plt.subplot(6,6,a+6)\n",
    "        ax2.plot(trace)\n",
    "    elif 6<a<=12:\n",
    "        ax1 = plt.subplot(6,6,a+6)\n",
    "        ax1.imshow(img,cmap='gray')\n",
    "        ax2 = plt.subplot(6,6,a+12)\n",
    "        ax2.plot(trace)\n",
    "    else:\n",
    "        ax1 = plt.subplot(6,6,a+12)\n",
    "        ax1.imshow(img,cmap='gray')\n",
    "        ax2 = plt.subplot(6,6,a+18)\n",
    "        ax2.plot(trace)\n",
    "    ax1.set_title(r['Mutation']+' ('+r['Cell'][-8:-4]+')')\n",
    "\n",
    "    a+=1\n",
    "plt.tight_layout()\n"
   ]
  },
  {
   "cell_type": "markdown",
   "metadata": {},
   "source": [
    "#### Example neuron"
   ]
  },
  {
   "cell_type": "code",
   "execution_count": null,
   "metadata": {},
   "outputs": [],
   "source": [
    "# example_neuron = '/Volumes/genie/Jihong_GENIE_stuff/PatcherBot/raw/2020.10.01_000/plate_001/patch_attempt_0003_000/'\n",
    "# example_neuron = '/Volumes/genie/Jihong_GENIE_stuff/PatcherBot/raw/2020.10.01_000/plate_000/patch_attempt_0004_000/'\n",
    "\n",
    "# example_neuron = '/Users/zhengj10/Desktop/Jihong/'\n",
    "example_neuron = rawPath + '/2020.10.01_000/plate_000/patch_attempt_0010_000' # For 220316 revision, Voltron\n",
    "# example_neuron = rawPath + '/2020.10.01_000/plate_001/patch_attempt_0005_000' # For 220316 revision, Voltron 2"
   ]
  },
  {
   "cell_type": "code",
   "execution_count": null,
   "metadata": {},
   "outputs": [],
   "source": [
    "fig=plt.figure(figsize=[2.5,2.5])\n",
    "\n",
    "ax = plt.subplot(111)\n",
    "imgFile = os.path.join(example_neuron,'fluor_image_000.tif')\n",
    "imgFile = tff.TiffFile(imgFile)\n",
    "imgFile = imgFile.asarray()\n",
    "ax.imshow(imgFile[206:306,206:306],cmap='gray')\n",
    "ax.set_axis_off()\n",
    "# ax.set_title(r['Mutation']+' ('+r['Cell'][-8:-4]+')')\n",
    "# ax.plot([75,90.38],[90,90],color='w',lw=3)\n",
    "# plt.tight_layout()\n",
    "# fig.savefig(sumPath + '/Voltron 2_image.pdf',format='pdf')\n",
    "plt.show()\n",
    "# print(np.min(imgFile[206:306,206:306]))\n",
    "# print(np.max(imgFile[206:306,206:306]))\n"
   ]
  },
  {
   "cell_type": "code",
   "execution_count": null,
   "metadata": {},
   "outputs": [],
   "source": [
    "# df[df.Date=='2020.10.01_000']"
   ]
  },
  {
   "cell_type": "code",
   "execution_count": null,
   "metadata": {},
   "outputs": [],
   "source": [
    "import matplotlib\n",
    "matplotlib.rcParams['pdf.fonttype'] = 42\n",
    "matplotlib.rcParams['ps.fonttype'] = 42\n",
    "\n",
    "sns.set()\n",
    "sns.set_style(style='whitegrid')\n",
    "fig = plt.figure(figsize=(2.2,1.8))\n",
    "\n",
    "\n",
    "ax = plt.subplot(111)\n",
    "trace_all = []\n",
    "for trial in range(10):\n",
    "    dataFile = os.path.join(example_neuron,'I_clamp1_000',str(trial).zfill(3),'Clamp1.ma')\n",
    "    data = h5py.File(dataFile,'r')\n",
    "    traces = data['data'][()]\n",
    "    traces = traces*1000 # converted to mV\n",
    "    trace_all.append(traces[1,:])\n",
    "trace_mean = np.mean(trace_all,axis=0)\n",
    "\n",
    "trace_AP_seg_corrected = trace_mean[8000:8080]-2*0.522519\n",
    "trace_mean[8000:8080] = trace_AP_seg_corrected\n",
    "\n",
    "x = np.linspace(0,100,4000)\n",
    "\n",
    "ax.plot(x,trace_mean[7200:11200],color = '#336699')\n",
    "# ax.plot(x,trace_mean[7200:11200],color = '#FF3333')\n",
    "ax.set_ylim([-72.90477247315293, 54.28206798775647])\n",
    "# ax.set_xlabel('ms')\n",
    "ax.set_ylabel('Vm (mV)')\n",
    "plt.tight_layout()\n",
    "fig.savefig(sumPath + '/Voltron_AP_trace.pdf',format='pdf')\n",
    "plt.show()\n",
    "# (-71.83302522359241, 75.78852957710492)\n",
    "ax.get_ylim()\n"
   ]
  },
  {
   "cell_type": "code",
   "execution_count": null,
   "metadata": {},
   "outputs": [],
   "source": [
    "ax.get_ylim()"
   ]
  },
  {
   "cell_type": "code",
   "execution_count": null,
   "metadata": {},
   "outputs": [],
   "source": []
  },
  {
   "cell_type": "code",
   "execution_count": null,
   "metadata": {},
   "outputs": [],
   "source": [
    "matplotlib.rcParams['pdf.fonttype'] = 42\n",
    "matplotlib.rcParams['ps.fonttype'] = 42\n",
    "\n",
    "import unicodedata\n",
    "sns.set_style(style='whitegrid')\n",
    "fig = plt.figure(figsize=(2.2,1.6))\n",
    "\n",
    "y_label = [unicodedata.lookup(\"GREEK CAPITAL LETTER delta\")+'F/F']\n",
    "ax = plt.subplot(111)\n",
    "dff_all = []\n",
    "for trial in range(10):\n",
    "    dataFile = os.path.join(example_neuron,'I_clamp1_000',str(trial).zfill(3),'Camera','frames.ma')\n",
    "    data = h5py.File(dataFile,'r')\n",
    "    dff,dff_peak,f_peak_idx,f,f0 = get_dff(dataFile)\n",
    "    dff_all.append(dff[:1800])\n",
    "dff_mean = np.mean(dff_all,axis=0)*100\n",
    "# dff_mean = dff_mean\n",
    "x = np.linspace(1,100,95)\n",
    "\n",
    "ax.plot(x,dff_mean[154:249],color='#336699')\n",
    "# ax.plot(x,dff_mean[154:249],color='#FF3333')\n",
    "ax.set_ylabel(y_label[0]+' (%)')\n",
    "# ax.set_ylim([-0.0982281514349218, 0.037823283282636435])\n",
    "ax.set_ylim([-9.82281514349218, 3.7823283282636434])\n",
    "plt.tight_layout()\n",
    "fig.savefig(sumPath + '/Voltron_dFF_single_AP.pdf',format='pdf')\n",
    "plt.show()\n",
    "# ax.get_ylim()"
   ]
  },
  {
   "cell_type": "code",
   "execution_count": null,
   "metadata": {},
   "outputs": [],
   "source": [
    "ax.get_ylim()"
   ]
  },
  {
   "cell_type": "code",
   "execution_count": null,
   "metadata": {},
   "outputs": [],
   "source": [
    "import matplotlib"
   ]
  },
  {
   "cell_type": "code",
   "execution_count": null,
   "metadata": {},
   "outputs": [],
   "source": []
  },
  {
   "cell_type": "code",
   "execution_count": null,
   "metadata": {},
   "outputs": [],
   "source": [
    "# df[df.Mutation=='421.2096']"
   ]
  },
  {
   "cell_type": "code",
   "execution_count": null,
   "metadata": {},
   "outputs": [],
   "source": []
  }
 ],
 "metadata": {
  "kernelspec": {
   "display_name": "Python 3 (ipykernel)",
   "language": "python",
   "name": "python3"
  },
  "language_info": {
   "codemirror_mode": {
    "name": "ipython",
    "version": 3
   },
   "file_extension": ".py",
   "mimetype": "text/x-python",
   "name": "python",
   "nbconvert_exporter": "python",
   "pygments_lexer": "ipython3",
   "version": "3.9.7"
  }
 },
 "nbformat": 4,
 "nbformat_minor": 2
}
