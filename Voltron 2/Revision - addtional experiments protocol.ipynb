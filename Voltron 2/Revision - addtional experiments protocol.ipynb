{
 "cells": [
  {
   "cell_type": "code",
   "execution_count": 27,
   "id": "9daf45c3",
   "metadata": {},
   "outputs": [],
   "source": [
    "import numpy as np\n",
    "import matplotlib.pyplot as plt\n",
    "import seaborn as sns"
   ]
  },
  {
   "cell_type": "code",
   "execution_count": 28,
   "id": "223983ab",
   "metadata": {},
   "outputs": [],
   "source": [
    "sns.set_style('whitegrid')"
   ]
  },
  {
   "cell_type": "code",
   "execution_count": 103,
   "id": "ec663433",
   "metadata": {},
   "outputs": [
    {
     "data": {
      "image/png": "[encoded data removed]",
      "text/plain": [
       "<Figure size 864x360 with 3 Axes>"
      ]
     },
     "metadata": {},
     "output_type": "display_data"
    }
   ],
   "source": [
    "# Light pulse yellow under VC\n",
    "plt.figure(figsize=[12,5])\n",
    "ax1 = plt.subplot(311)\n",
    "x1 = [0,2,2,2.4,2.4,4.4,4.4,4.8,4.8,6.8,6.8,7.2,7.2,9.2,9.2,9.6,9.6]\n",
    "y1 = [0,0,5,5,0,0,10,10,0,0,20,20,0,0,40,40,0]\n",
    "ax1.plot(x1,y1,color='y',lw=3)\n",
    "\n",
    "# Light pulse yellow under IC\n",
    "x2 = np.array(x1)+x1[-1]\n",
    "y2 = y1\n",
    "ax1.plot(x2,y2,color='y',lw=3)\n",
    "\n",
    "# Light pulse during blue light application (for ratio to saturated blue light, under VC)\n",
    "x3 = [x2[-1],x2[-1]+4.4]\n",
    "y3 = [0,0]\n",
    "ax1.plot(x3,y3,color='y',lw=3)\n",
    "\n",
    "\n",
    "# Light pulse during blue light application (for effect on steady state blue light response, under VC)\n",
    "x4 = [x3[-1],x3[-1]+0.5,x3[-1]+0.5,x3[-1]+0.9,x3[-1]+0.9,x3[-1]+3]\n",
    "y4 = [0,0,50,50,0,0]\n",
    "ax1.plot(x4,y4,color='y',lw=3)\n",
    "ax1.set_ylabel('Power (mW/mm2)',size=14)\n",
    "\n",
    "ax2 = plt.subplot(312)\n",
    "\n",
    "# Blue light free segment (yellow light during VC and IC)\n",
    "x5 = [0,x2[-1]]\n",
    "y5 = [0,0]\n",
    "ax2.plot(x5,y5,color='b',lw=3)\n",
    "\n",
    "# Light pulse for ratio to saturated blue light, under VC\n",
    "x6 = [x5[-1],x5[-1]+2,x2[-1]+2,x2[-1]+2.4,x2[-1]+2.4]\n",
    "y6 = [0,0,50,50,0]\n",
    "ax2.plot(x6,y6,color='b',lw=3)\n",
    "\n",
    "\n",
    "# Light pulse for effect on steady state blue light response, under VC\n",
    "x7 = [x6[-1],x6[-1]+2,x6[-1]+2,x6[-1]+3,x6[-1]+3,x6[-1]+5]\n",
    "y7 = [0,0,50,50,0,0]\n",
    "ax2.plot(x7,y7,color='b',lw=3)\n",
    "ax2.set_ylabel('Power (mW/mm2)',size=14)\n",
    "ax2.set_xlabel('Sec',size=15)\n",
    "ax2.xaxis.set_label_coords(0.95, -.1)\n",
    "# Experimental type (VC or IC) \n",
    "\n",
    "ax3 = plt.subplot(313)\n",
    "x8 = [0,x1[-1]+1]\n",
    "y8 = [0,0]\n",
    "ax3.plot(x8,y8,color='k',lw=10)\n",
    "\n",
    "x9 = [x1[-1]+1,x2[-1]+1]\n",
    "y9 = [0,0]\n",
    "ax3.plot(x9,y9,color='gray',lw=10,alpha=0.5)\n",
    "\n",
    "x10 = [x2[-1]+1,x4[-1]]\n",
    "y10 = [0,0]\n",
    "ax3.plot(x10,y10,color='k',lw=10)\n",
    "\n",
    "ax3.text((x8[-1]+x8[0])/2,-0.03,'VC',size=18,ha='center',color='k')\n",
    "ax3.text((x9[-1]+x9[0])/2,-0.03,'IC',size=18,ha='center',color='gray',alpha=0.5)\n",
    "ax3.text((x10[-1]+x10[0])/2,-0.03,'VC',size=18,ha='center',color='k')\n",
    "\n",
    "ax3.axis('off')\n",
    "plt.tight_layout()\n",
    "plt.savefig(r'C:\\Users\\zhengj10\\Desktop\\Voltron 2 paper revision\\protoc.png')\n",
    "plt.show()"
   ]
  },
  {
   "cell_type": "code",
   "execution_count": null,
   "id": "2ab0aee9",
   "metadata": {},
   "outputs": [],
   "source": []
  },
  {
   "cell_type": "code",
   "execution_count": null,
   "id": "0405d01e",
   "metadata": {},
   "outputs": [],
   "source": []
  },
  {
   "cell_type": "code",
   "execution_count": null,
   "id": "92629f50",
   "metadata": {},
   "outputs": [],
   "source": []
  }
 ],
 "metadata": {
  "kernelspec": {
   "display_name": "Python 3",
   "language": "python",
   "name": "python3"
  },
  "language_info": {
   "codemirror_mode": {
    "name": "ipython",
    "version": 3
   },
   "file_extension": ".py",
   "mimetype": "text/x-python",
   "name": "python",
   "nbconvert_exporter": "python",
   "pygments_lexer": "ipython3",
   "version": "3.8.8"
  }
 },
 "nbformat": 4,
 "nbformat_minor": 5
}
