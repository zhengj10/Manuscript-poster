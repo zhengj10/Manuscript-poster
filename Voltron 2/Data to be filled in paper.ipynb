{
 "cells": [
  {
   "cell_type": "code",
   "execution_count": 1,
   "metadata": {},
   "outputs": [],
   "source": [
    "import h5py\n",
    "import sys\n",
    "sys.path.append('/Users/zhengj10/Python/Modules')\n",
    "import os\n",
    "import numpy as np\n",
    "from skimage.io import imsave\n",
    "import matplotlib.pyplot as plt\n",
    "import yaml\n",
    "import pandas as pd\n",
    "import PatcherBot as pb\n",
    "from glob import glob\n",
    "import seaborn as sns\n"
   ]
  },
  {
   "cell_type": "code",
   "execution_count": 2,
   "metadata": {},
   "outputs": [],
   "source": [
    "sumPath = '/Users/zhengj10/Desktop/GENIE/Data/PatcherBot/summary'\n",
    "savePath = '/Users/zhengj10/Desktop/v5'\n",
    "imgPath = '/Volumes/Backup Plus/patch-screen/bot'\n",
    "rawPath = '/Volumes/Backup Plus/PatcherBot/raw'"
   ]
  },
  {
   "cell_type": "code",
   "execution_count": null,
   "metadata": {},
   "outputs": [],
   "source": []
  },
  {
   "cell_type": "code",
   "execution_count": 3,
   "metadata": {},
   "outputs": [],
   "source": [
    "# df_p = pd.read_pickle(sumPath+'/Plot_Voltron_single_mutants.pkl')\n",
    "df = pd.read_pickle(sumPath+'/Summary_VC_all.pkl')\n",
    "# df_p = pd.read_pickle(sumPath+'/Plot_Voltron_combo_mutants.pkl')"
   ]
  },
  {
   "cell_type": "code",
   "execution_count": 4,
   "metadata": {},
   "outputs": [],
   "source": [
    "threshold = {'leak':-300, 'Ra':50}"
   ]
  },
  {
   "cell_type": "code",
   "execution_count": 5,
   "metadata": {},
   "outputs": [
    {
     "data": {
      "text/plain": [
       "(683, 30)"
      ]
     },
     "execution_count": 5,
     "metadata": {},
     "output_type": "execute_result"
    }
   ],
   "source": [
    "df_p = df[(df.Leak_min>threshold['leak'])&(df.Ra_max<threshold['Ra'])]\n",
    "# pd.set_option('display.max_columns', 50)\n",
    "# pd.set_option('display.max_colwidth', 80)\n",
    "df_p.shape"
   ]
  },
  {
   "cell_type": "code",
   "execution_count": null,
   "metadata": {},
   "outputs": [],
   "source": []
  },
  {
   "cell_type": "code",
   "execution_count": 6,
   "metadata": {},
   "outputs": [
    {
     "data": {
      "text/plain": [
       "['558.1', '558.2']"
      ]
     },
     "execution_count": 6,
     "metadata": {},
     "output_type": "execute_result"
    }
   ],
   "source": [
    "# sensors = df.Mutation.unique()\n",
    "# sensors = ['Ace2N-mNeon','VARNAM','421.1','421.2096']\n",
    "# sensors = ['421.1','421.2096_oil','421.1_peak']\n",
    "# sensors = ['K1','L2','M3','N4','O5','P6','Q7','R8','S9',\n",
    "# 'T10','U11','V12','W13','X14','Y15']\n",
    "# sensors = ['K1','L2','M3','O5','P6','Q7','R8']\n",
    "# sensors = ['S9','T10','U11','V12','W13','X14','Y15']\n",
    "# sensors = ['376.20948','R8','X14','P6','K1','L2']\n",
    "\n",
    "# sensors = ['421.1','421.2096','421.4909','421.4919','421.4876','421.4892','421.6051','421.5649','421.6052',\n",
    "#            '421.5658','421.4951','421.5657']\n",
    "\n",
    "# sensors = ['421.1','421.2096','421.2907','421.2335','421.2336','421.2346','421.3002','421.3046','421.3028',\n",
    "#             '421.303','421.3012', '421.2379', '421.2347', '421.3067', '421.2203','421.3006']\n",
    "# sensors = ['421.1','421.3028']\n",
    "# sensors = ['421.2096','476.4495']\n",
    "sensors = ['558.1','558.2']\n",
    "sensors\n"
   ]
  },
  {
   "cell_type": "code",
   "execution_count": null,
   "metadata": {},
   "outputs": [],
   "source": []
  },
  {
   "cell_type": "code",
   "execution_count": 7,
   "metadata": {},
   "outputs": [],
   "source": [
    "labels_p = {\n",
    "    # Voltron and Voltron 2\n",
    "    '421.1':'Voltron',\n",
    "    '421.2096':'Voltron 2',\n",
    "    \n",
    "    # Voltron Combo mutants\n",
    "    '421.4909':'Voltron N69E R78H A122D V196P',\n",
    "    '421.4919':'Voltron R78H A122D V196P',\n",
    "    '421.4876':'Voltron N69E A122D',\n",
    "    '421.4892':'Voltron N69E V196P',\n",
    "    '421.6051':'Voltron R78H L89C A122D V196P',\n",
    "    '421.5649':'Voltron Y63L N69E L89C A122D',\n",
    "    '421.6052':'Voltron Y63L L89C A122D V196P',\n",
    "    '421.5658':'Voltron Y63L L89C A122D',\n",
    "    '421.4951':'Voltron Y63L V74W L89T',\n",
    "    '421.5657':'Voltron R78H L89C A122D',\n",
    "    \n",
    "    # Voltron Single mutants\n",
    "    '421.2907':'Voltron (A122X)',\n",
    "    '421.2335':'Voltron (Y63P)',\n",
    "    '421.2336':'Voltron (Y63T)',\n",
    "    '421.2346':'Voltron (Y63I)',\n",
    "    '421.3002':'Voltron (V74D)',\n",
    "    '421.3046':'Voltron (V74S)',\n",
    "    '421.3028':'Voltron (V74W)',\n",
    "    '421.303':'Voltron (Y146X)',\n",
    "    '421.3012':'Voltron (V74G)',\n",
    "    '421.2379':'Voltron (Y63K)',\n",
    "    '421.2347':'Voltron (Y63D)',\n",
    "    '421.3067':'Voltron (V74H)',\n",
    "    '421.2203':'Voltron (R78N)',\n",
    "    '421.3006':'Voltron (V74P)',\n",
    "\n",
    "    # ASAP1 variants\n",
    "    '376.1':'ASAP1',\n",
    "    '376.13':'ASAP1 (T392V)',\n",
    "    \n",
    "    # ASAP3b variants\n",
    "    '414.1':'GS-ASAP3b',\n",
    "    '376.20950':'ASAP3b (T392V)',\n",
    "    '376.20949':'ASAP3b (T392Y)',\n",
    "    '485.20950':'ASAP3b (T392V)-ST',\n",
    "    '376.20948':'ASAP3b',\n",
    "    '485.20949':'ASAP3b (T392Y)-ST',\n",
    "    '485.6':'ASAP3b-ST',\n",
    "    '376.17995':'ASAP3b N391L T392I',\n",
    "    '376.18153':'ASAP3b N391I T392V',\n",
    "    '533.1':'ASAP3b-Kv',\n",
    "    \n",
    "    # Amy's Feb batch of ASAP3b variants\n",
    "    'ASAP3b.T392V.H':'pCAG0–ASAP3b (T392V)-NL-SOM2 (Lin)',\n",
    "    'ASAP3b.T392V.G':'pCAG0–ASAP3b (T392V)-lTlcnC',\n",
    "    'ASAP3b.T392V.F':'pCAG0–ASAP3b (T392V)-NL-SOM2 (GENIE)',\n",
    "    'ASAP3b.T392V.I':'pCAG0–ASAP3b (T392V)-GSS3-SOM2-lTlcnC',\n",
    "    'ASAP3b.T392V.J':'376.2095 / pCAG-ASAP3b (T392V)',\n",
    "    'ASAP3b.T392V.C':'pCAG0–ASAP3b (T392V)-GSSlong-SOM2 (GENIE)',\n",
    "    'ASAP3b.T392V.B':'pCAG0–ASAP3b (T392V)-KGC-GSS3-ER2-GSS3-SOM2 (GENIE)',\n",
    "    'ASAP3b.T392V.A':'pCAG0–ASAP3b (T392V)-GSS3TR-SOM2 (GENIE)',\n",
    "    'ASAP3b.T392V.E':'485.2095 / pCAG–ASAP3b (T392V)-TS-ER-SOM2',\n",
    "    'ASAP3b.T392V.D':'533.1 / pCAG-ASAP3-Kv (Lin)',    \n",
    "    \n",
    "    # Amy's Jul batch of ASAP3b variants\n",
    "    'N4':'ASAP3b (T392V)-TS-ER-SOM2 miniprep',\n",
    "    'O5':'ASAP3b (T392V)-GSSlong-SOM2 (GENIE)',\n",
    "    'M3':'ASAP3b (T392V)-NL-SOM2 (GENIE)',\n",
    "    'L2':'ASAP3b (T392V)-GSS3-SOM2-lTlcnC',\n",
    "    'Q7':'ASAP3b (T392V)-GSS3TR-SOM2 (GENIE)',\n",
    "    'P6':'ASAP3b (T392V) maxiprep',\n",
    "    'S9':'ASAP3b (T392V)-NL-SOM2 (Lin)',\n",
    "    'T10':'pCAG-ASAP3b (T392V)-lTlcnC',\n",
    "    'R8':'ASAP3b-TS-ER-SOM2 maxiprep',\n",
    "    'W13':'ASAP3b (T392V) miniprep',\n",
    "    'X14':'ASAP3-Kv (Lin) maxiprep',\n",
    "    'Y15':'ASAP3b-TS-ER-SOM2 miniprep',\n",
    "    'U11':'ASAP3-Kv (Lin) miniprep',\n",
    "    'V12':'ASAP3b (T392V)-KGC-GSS3-ER2-GSS3-SOM2 (GENIE)',\n",
    "    'K1':'ASAP3b (T392V)-TS-ER-SOM2 maxiprep',\n",
    "    \n",
    "    # Other Ace2N based sensors\n",
    "    '487.1':'Ace2N-4AA-mNeon',\n",
    "    '558.1':'VARNAM',\n",
    "    '487.6':'Ace2N-4AA-mNeon A122D',\n",
    "    '488.6':'Ace2N-4AA-mNeon A122D-ST',\n",
    "    '558.2':'VARNAM A122D'\n",
    "}\n"
   ]
  },
  {
   "cell_type": "markdown",
   "metadata": {},
   "source": [
    "#### Get mean dFF at 20 mV for each variant"
   ]
  },
  {
   "cell_type": "code",
   "execution_count": 8,
   "metadata": {},
   "outputs": [],
   "source": [
    "df_sensor = df_p[(df_p.Mutation=='421.1')]\n",
    "dFF = np.mean(df_sensor['dFF'].to_list(),axis=0)\n",
    "dFF_20 = dFF[6]\n"
   ]
  },
  {
   "cell_type": "code",
   "execution_count": null,
   "metadata": {},
   "outputs": [],
   "source": []
  },
  {
   "cell_type": "code",
   "execution_count": 9,
   "metadata": {},
   "outputs": [
    {
     "name": "stderr",
     "output_type": "stream",
     "text": [
      "/Users/zhengj10/opt/anaconda3/lib/python3.8/site-packages/numpy/core/fromnumeric.py:3334: RuntimeWarning: Mean of empty slice.\n",
      "  return _methods._mean(a, axis=axis, dtype=dtype,\n",
      "/Users/zhengj10/opt/anaconda3/lib/python3.8/site-packages/numpy/core/_methods.py:161: RuntimeWarning: invalid value encountered in double_scalars\n",
      "  ret = ret.dtype.type(ret / rcount)\n",
      "/Users/zhengj10/opt/anaconda3/lib/python3.8/site-packages/numpy/core/_methods.py:216: RuntimeWarning: Degrees of freedom <= 0 for slice\n",
      "  ret = _var(a, axis=axis, dtype=dtype, out=out, ddof=ddof,\n",
      "/Users/zhengj10/opt/anaconda3/lib/python3.8/site-packages/numpy/core/_methods.py:185: RuntimeWarning: invalid value encountered in true_divide\n",
      "  arrmean = um.true_divide(\n",
      "/Users/zhengj10/opt/anaconda3/lib/python3.8/site-packages/numpy/core/_methods.py:209: RuntimeWarning: invalid value encountered in double_scalars\n",
      "  ret = ret.dtype.type(ret / rcount)\n"
     ]
    },
    {
     "ename": "IndexError",
     "evalue": "invalid index to scalar variable.",
     "output_type": "error",
     "traceback": [
      "\u001b[0;31m---------------------------------------------------------------------------\u001b[0m",
      "\u001b[0;31mIndexError\u001b[0m                                Traceback (most recent call last)",
      "\u001b[0;32m<ipython-input-9-b57686039d2d>\u001b[0m in \u001b[0;36m<module>\u001b[0;34m\u001b[0m\n\u001b[1;32m     10\u001b[0m \u001b[0;34m\u001b[0m\u001b[0m\n\u001b[1;32m     11\u001b[0m \u001b[0;34m\u001b[0m\u001b[0m\n\u001b[0;32m---> 12\u001b[0;31m     \u001b[0mdFF_20\u001b[0m \u001b[0;34m=\u001b[0m \u001b[0mdFF_sem\u001b[0m\u001b[0;34m[\u001b[0m\u001b[0;36m6\u001b[0m\u001b[0;34m]\u001b[0m\u001b[0;34m\u001b[0m\u001b[0;34m\u001b[0m\u001b[0m\n\u001b[0m\u001b[1;32m     13\u001b[0m     \u001b[0mdata_all\u001b[0m\u001b[0;34m[\u001b[0m\u001b[0msensor\u001b[0m\u001b[0;34m]\u001b[0m \u001b[0;34m=\u001b[0m \u001b[0mdFF_20\u001b[0m\u001b[0;34m\u001b[0m\u001b[0;34m\u001b[0m\u001b[0m\n\u001b[1;32m     14\u001b[0m     \u001b[0mprint\u001b[0m\u001b[0;34m(\u001b[0m\u001b[0mlen\u001b[0m\u001b[0;34m(\u001b[0m\u001b[0mdf_sensor\u001b[0m\u001b[0;34m)\u001b[0m\u001b[0;34m)\u001b[0m\u001b[0;34m\u001b[0m\u001b[0;34m\u001b[0m\u001b[0m\n",
      "\u001b[0;31mIndexError\u001b[0m: invalid index to scalar variable."
     ]
    }
   ],
   "source": [
    "data_all = {}\n",
    "\n",
    "for sensor in sensors:\n",
    "    df_sensor = df_p[(df_p.Mutation==sensor)&(df_p.Objective=='40x oil GENIE')]\n",
    "    df_sensor.index = np.arange(len(df_sensor))\n",
    "    if sensor == '558.1':\n",
    "        df_sensor = df_sensor.loc[8:]\n",
    "    dFF = np.mean(df_sensor['dFF'].to_list(),axis=0)\n",
    "    dFF_sem = np.std(df_sensor['dFF'].to_list(),axis=0)/np.sqrt(len(df_sensor))\n",
    "\n",
    "    \n",
    "    dFF_20 = dFF_sem[6]\n",
    "    data_all[sensor] = dFF_20\n",
    "    print(len(df_sensor))\n",
    "#     data_all[sensor] = (dFF_20/dFF_voltron_20)-1\n",
    "    "
   ]
  },
  {
   "cell_type": "code",
   "execution_count": 10,
   "metadata": {},
   "outputs": [],
   "source": [
    "dFF_20 = []\n",
    "dFF_80_to_40_norm = []\n",
    "\n",
    "df_sensor = df_p[(df_p.Mutation == '421.3012')]\n",
    "\n",
    "# df_sensor = df_p[(df_p.Mutation=='487.6')]\n",
    "# df_sensor = df_p[(df_p.Mutation=='487.1')&(df_p.Objective=='40x oil GENIE')]\n",
    "df_sensor.index = np.arange(len(df_sensor))\n",
    "# df_sensor = df_sensor.loc[8:]\n",
    "for i,r in df_sensor.iterrows():\n",
    "    dFF = r['dFF']\n",
    "    dff_20 = dFF[6]\n",
    "#     dff_80_to_40_norm = (dFF[1]-dFF[3])/40\n",
    "    \n",
    "    dFF_20.append(dff_20)\n",
    "#     dFF_80_to_40_norm.append(dff_80_to_40_norm)\n",
    "    \n",
    "    "
   ]
  },
  {
   "cell_type": "code",
   "execution_count": 11,
   "metadata": {},
   "outputs": [
    {
     "data": {
      "text/html": [
       "<div>\n",
       "<style scoped>\n",
       "    .dataframe tbody tr th:only-of-type {\n",
       "        vertical-align: middle;\n",
       "    }\n",
       "\n",
       "    .dataframe tbody tr th {\n",
       "        vertical-align: top;\n",
       "    }\n",
       "\n",
       "    .dataframe thead th {\n",
       "        text-align: right;\n",
       "    }\n",
       "</style>\n",
       "<table border=\"1\" class=\"dataframe\">\n",
       "  <thead>\n",
       "    <tr style=\"text-align: right;\">\n",
       "      <th></th>\n",
       "      <th>Date</th>\n",
       "      <th>Plate</th>\n",
       "      <th>Well</th>\n",
       "      <th>Cell</th>\n",
       "      <th>Mutation</th>\n",
       "      <th>Transfected_date</th>\n",
       "      <th>Leak</th>\n",
       "      <th>Ra</th>\n",
       "      <th>dFF</th>\n",
       "      <th>F0</th>\n",
       "      <th>...</th>\n",
       "      <th>tau_on_f_double</th>\n",
       "      <th>tau_off_f_double</th>\n",
       "      <th>tau_on_s_double</th>\n",
       "      <th>tau_off_s_double</th>\n",
       "      <th>time_on_10-90</th>\n",
       "      <th>time_off_10-90</th>\n",
       "      <th>Leak_min</th>\n",
       "      <th>Ra_max</th>\n",
       "      <th>peak_dFF</th>\n",
       "      <th>Objective</th>\n",
       "    </tr>\n",
       "  </thead>\n",
       "  <tbody>\n",
       "    <tr>\n",
       "      <th>0</th>\n",
       "      <td>2020.08.12_000</td>\n",
       "      <td>plate_002</td>\n",
       "      <td>well_1</td>\n",
       "      <td>patch_attempt_0028_000</td>\n",
       "      <td>421.3012</td>\n",
       "      <td>200804</td>\n",
       "      <td>[-45.39682180778592, -33.39978830670778, -53.6...</td>\n",
       "      <td>[20.025426614976688, 18.528548189772277, 14.65...</td>\n",
       "      <td>[0.09173052250836283, 0.03071533034369704, -0....</td>\n",
       "      <td>[105.86744218193842, 104.08475171289841, 106.1...</td>\n",
       "      <td>...</td>\n",
       "      <td>[1.3978515271160583, 0.08363341845752822, 3.67...</td>\n",
       "      <td>[5.312517286270733, 1.8005902201359743, 7.7171...</td>\n",
       "      <td>[20.212035779268618, 17.869204567027428, 87.16...</td>\n",
       "      <td>[267.0525866815349, 7.979822644312283, 374.165...</td>\n",
       "      <td>[22.714760394990606, 12.327632032036888, 7.992...</td>\n",
       "      <td>[20.12470809657907, 4.8975171843694625, 224.89...</td>\n",
       "      <td>-77.777741</td>\n",
       "      <td>20.025427</td>\n",
       "      <td>N/A</td>\n",
       "      <td>40x air</td>\n",
       "    </tr>\n",
       "    <tr>\n",
       "      <th>1</th>\n",
       "      <td>2020.08.12_000</td>\n",
       "      <td>plate_002</td>\n",
       "      <td>well_1</td>\n",
       "      <td>patch_attempt_0027_000</td>\n",
       "      <td>421.3012</td>\n",
       "      <td>200804</td>\n",
       "      <td>[9.989410316687534, 0.7626953490901334, -2.221...</td>\n",
       "      <td>[7.818937352765558, 8.06017886514464, 7.526530...</td>\n",
       "      <td>[0.13490045481229507, 0.04134221517904044, -0....</td>\n",
       "      <td>[66.95563858406085, 65.37746821524347, 64.6659...</td>\n",
       "      <td>...</td>\n",
       "      <td>[2.948412205482476, 4.857194116942993, 3.90034...</td>\n",
       "      <td>[3.550633047553863, 2.7390037590167595, 0.0523...</td>\n",
       "      <td>[50.66126882400057, 106.97706292551055, 21.559...</td>\n",
       "      <td>[293.5767653664969, 2.4478579696607894, 1085.0...</td>\n",
       "      <td>[33.04161993041669, 15.899971866132944, 18.719...</td>\n",
       "      <td>[12.174962398356229, 5.9214200833696395, 0.173...</td>\n",
       "      <td>-21.357475</td>\n",
       "      <td>12.292972</td>\n",
       "      <td>N/A</td>\n",
       "      <td>40x air</td>\n",
       "    </tr>\n",
       "    <tr>\n",
       "      <th>2</th>\n",
       "      <td>2020.08.12_000</td>\n",
       "      <td>plate_002</td>\n",
       "      <td>well_1</td>\n",
       "      <td>patch_attempt_0025_000</td>\n",
       "      <td>421.3012</td>\n",
       "      <td>200804</td>\n",
       "      <td>[-1.372893184528112, -3.5076765012070035, -11....</td>\n",
       "      <td>[7.173739463409232, 7.329540497142947, 7.05611...</td>\n",
       "      <td>[0.13868523448639808, 0.040563211625625234, -0...</td>\n",
       "      <td>[89.43761757825226, 89.99152568059623, 88.4648...</td>\n",
       "      <td>...</td>\n",
       "      <td>[4.239632519215994, 0.13687542217782042, 2.909...</td>\n",
       "      <td>[3.6952476076521847, 1.909104921328072, 2.5600...</td>\n",
       "      <td>[39.193221928595506, 62.70763659918872, 186.88...</td>\n",
       "      <td>[159.66881711806724, 0.41476993271006307, 1593...</td>\n",
       "      <td>[14.938084962764606, 0.4526324008620577, 23.11...</td>\n",
       "      <td>[9.42669576441699, 3.9477289972226117, 6.35791...</td>\n",
       "      <td>-28.281499</td>\n",
       "      <td>12.295829</td>\n",
       "      <td>N/A</td>\n",
       "      <td>40x air</td>\n",
       "    </tr>\n",
       "    <tr>\n",
       "      <th>3</th>\n",
       "      <td>2020.08.12_000</td>\n",
       "      <td>plate_002</td>\n",
       "      <td>well_1</td>\n",
       "      <td>patch_attempt_0026_000</td>\n",
       "      <td>421.3012</td>\n",
       "      <td>200804</td>\n",
       "      <td>[-1.6817980107672148, -3.44499149085781, -8.04...</td>\n",
       "      <td>[16.970929890943186, 14.321473692864812, 15.09...</td>\n",
       "      <td>[0.15744545443696598, 0.0502839533908357, -0.0...</td>\n",
       "      <td>[55.971871852594646, 52.382088456647985, 54.78...</td>\n",
       "      <td>...</td>\n",
       "      <td>[3.808057894820546, 3.2307929861107545, 7.4444...</td>\n",
       "      <td>[3.114588973290616, 11.464491394793091, 4.1985...</td>\n",
       "      <td>[132.7143082431408, 30.20500870923233, 632.112...</td>\n",
       "      <td>[426.7147388763249, 32.83786849651988, 1169.67...</td>\n",
       "      <td>[40.43960700110932, 48.30068545988428, 278.680...</td>\n",
       "      <td>[9.5733642131554, 16.31182501242688, 13.390839...</td>\n",
       "      <td>-18.003184</td>\n",
       "      <td>16.970930</td>\n",
       "      <td>N/A</td>\n",
       "      <td>40x air</td>\n",
       "    </tr>\n",
       "    <tr>\n",
       "      <th>4</th>\n",
       "      <td>2020.08.12_000</td>\n",
       "      <td>plate_002</td>\n",
       "      <td>well_1</td>\n",
       "      <td>patch_attempt_0024_000</td>\n",
       "      <td>421.3012</td>\n",
       "      <td>200804</td>\n",
       "      <td>[-11.909998501900532, -8.06439232734695, -10.7...</td>\n",
       "      <td>[7.932171618577327, 7.7703094519161455, 7.7687...</td>\n",
       "      <td>[0.12900568434800744, 0.03825740728978333, -0....</td>\n",
       "      <td>[110.29195158211145, 110.78265748948102, 110.6...</td>\n",
       "      <td>...</td>\n",
       "      <td>[4.046837784313996, 21.712896785529793, 4.6524...</td>\n",
       "      <td>[3.6029400575962587, 3.6236446983592145, 0.669...</td>\n",
       "      <td>[38.52215023899081, 2.3633847247686384, 7.4463...</td>\n",
       "      <td>[173.467910665228, 0.14105809616535006, 480.54...</td>\n",
       "      <td>[17.2914734250287, 12.613665311880709, 6.43725...</td>\n",
       "      <td>[9.72251508818772, 7.037970224523633, 3.912944...</td>\n",
       "      <td>-17.880719</td>\n",
       "      <td>12.294776</td>\n",
       "      <td>N/A</td>\n",
       "      <td>40x air</td>\n",
       "    </tr>\n",
       "  </tbody>\n",
       "</table>\n",
       "<p>5 rows × 30 columns</p>\n",
       "</div>"
      ],
      "text/plain": [
       "             Date      Plate    Well                    Cell  Mutation  \\\n",
       "0  2020.08.12_000  plate_002  well_1  patch_attempt_0028_000  421.3012   \n",
       "1  2020.08.12_000  plate_002  well_1  patch_attempt_0027_000  421.3012   \n",
       "2  2020.08.12_000  plate_002  well_1  patch_attempt_0025_000  421.3012   \n",
       "3  2020.08.12_000  plate_002  well_1  patch_attempt_0026_000  421.3012   \n",
       "4  2020.08.12_000  plate_002  well_1  patch_attempt_0024_000  421.3012   \n",
       "\n",
       "  Transfected_date                                               Leak  \\\n",
       "0           200804  [-45.39682180778592, -33.39978830670778, -53.6...   \n",
       "1           200804  [9.989410316687534, 0.7626953490901334, -2.221...   \n",
       "2           200804  [-1.372893184528112, -3.5076765012070035, -11....   \n",
       "3           200804  [-1.6817980107672148, -3.44499149085781, -8.04...   \n",
       "4           200804  [-11.909998501900532, -8.06439232734695, -10.7...   \n",
       "\n",
       "                                                  Ra  \\\n",
       "0  [20.025426614976688, 18.528548189772277, 14.65...   \n",
       "1  [7.818937352765558, 8.06017886514464, 7.526530...   \n",
       "2  [7.173739463409232, 7.329540497142947, 7.05611...   \n",
       "3  [16.970929890943186, 14.321473692864812, 15.09...   \n",
       "4  [7.932171618577327, 7.7703094519161455, 7.7687...   \n",
       "\n",
       "                                                 dFF  \\\n",
       "0  [0.09173052250836283, 0.03071533034369704, -0....   \n",
       "1  [0.13490045481229507, 0.04134221517904044, -0....   \n",
       "2  [0.13868523448639808, 0.040563211625625234, -0...   \n",
       "3  [0.15744545443696598, 0.0502839533908357, -0.0...   \n",
       "4  [0.12900568434800744, 0.03825740728978333, -0....   \n",
       "\n",
       "                                                  F0  ...  \\\n",
       "0  [105.86744218193842, 104.08475171289841, 106.1...  ...   \n",
       "1  [66.95563858406085, 65.37746821524347, 64.6659...  ...   \n",
       "2  [89.43761757825226, 89.99152568059623, 88.4648...  ...   \n",
       "3  [55.971871852594646, 52.382088456647985, 54.78...  ...   \n",
       "4  [110.29195158211145, 110.78265748948102, 110.6...  ...   \n",
       "\n",
       "                                     tau_on_f_double  \\\n",
       "0  [1.3978515271160583, 0.08363341845752822, 3.67...   \n",
       "1  [2.948412205482476, 4.857194116942993, 3.90034...   \n",
       "2  [4.239632519215994, 0.13687542217782042, 2.909...   \n",
       "3  [3.808057894820546, 3.2307929861107545, 7.4444...   \n",
       "4  [4.046837784313996, 21.712896785529793, 4.6524...   \n",
       "\n",
       "                                    tau_off_f_double  \\\n",
       "0  [5.312517286270733, 1.8005902201359743, 7.7171...   \n",
       "1  [3.550633047553863, 2.7390037590167595, 0.0523...   \n",
       "2  [3.6952476076521847, 1.909104921328072, 2.5600...   \n",
       "3  [3.114588973290616, 11.464491394793091, 4.1985...   \n",
       "4  [3.6029400575962587, 3.6236446983592145, 0.669...   \n",
       "\n",
       "                                     tau_on_s_double  \\\n",
       "0  [20.212035779268618, 17.869204567027428, 87.16...   \n",
       "1  [50.66126882400057, 106.97706292551055, 21.559...   \n",
       "2  [39.193221928595506, 62.70763659918872, 186.88...   \n",
       "3  [132.7143082431408, 30.20500870923233, 632.112...   \n",
       "4  [38.52215023899081, 2.3633847247686384, 7.4463...   \n",
       "\n",
       "                                    tau_off_s_double  \\\n",
       "0  [267.0525866815349, 7.979822644312283, 374.165...   \n",
       "1  [293.5767653664969, 2.4478579696607894, 1085.0...   \n",
       "2  [159.66881711806724, 0.41476993271006307, 1593...   \n",
       "3  [426.7147388763249, 32.83786849651988, 1169.67...   \n",
       "4  [173.467910665228, 0.14105809616535006, 480.54...   \n",
       "\n",
       "                                       time_on_10-90  \\\n",
       "0  [22.714760394990606, 12.327632032036888, 7.992...   \n",
       "1  [33.04161993041669, 15.899971866132944, 18.719...   \n",
       "2  [14.938084962764606, 0.4526324008620577, 23.11...   \n",
       "3  [40.43960700110932, 48.30068545988428, 278.680...   \n",
       "4  [17.2914734250287, 12.613665311880709, 6.43725...   \n",
       "\n",
       "                                      time_off_10-90   Leak_min     Ra_max  \\\n",
       "0  [20.12470809657907, 4.8975171843694625, 224.89... -77.777741  20.025427   \n",
       "1  [12.174962398356229, 5.9214200833696395, 0.173... -21.357475  12.292972   \n",
       "2  [9.42669576441699, 3.9477289972226117, 6.35791... -28.281499  12.295829   \n",
       "3  [9.5733642131554, 16.31182501242688, 13.390839... -18.003184  16.970930   \n",
       "4  [9.72251508818772, 7.037970224523633, 3.912944... -17.880719  12.294776   \n",
       "\n",
       "  peak_dFF Objective  \n",
       "0      N/A   40x air  \n",
       "1      N/A   40x air  \n",
       "2      N/A   40x air  \n",
       "3      N/A   40x air  \n",
       "4      N/A   40x air  \n",
       "\n",
       "[5 rows x 30 columns]"
      ]
     },
     "execution_count": 11,
     "metadata": {},
     "output_type": "execute_result"
    }
   ],
   "source": [
    "df_sensor"
   ]
  },
  {
   "cell_type": "code",
   "execution_count": 17,
   "metadata": {},
   "outputs": [],
   "source": [
    "# slope_mneon = dFF_80_to_40_norm\n",
    "# Voltron_2 = dFF_20\n",
    "# Voltron_3028 = dFF_20\n",
    "Voltron_3012 = dFF_20\n",
    "\n",
    "\n"
   ]
  },
  {
   "cell_type": "code",
   "execution_count": 18,
   "metadata": {},
   "outputs": [],
   "source": [
    "slope_mneon_A122D = dFF_80_to_40_norm"
   ]
  },
  {
   "cell_type": "code",
   "execution_count": 19,
   "metadata": {},
   "outputs": [],
   "source": [
    "# np.mean(slope_mneon_A122D)\n",
    "# np.std(slope_mneon_A122D)/np.sqrt(len(slope_mneon_A122D))"
   ]
  },
  {
   "cell_type": "code",
   "execution_count": 20,
   "metadata": {},
   "outputs": [],
   "source": [
    "from scipy.stats import mannwhitneyu\n",
    "from scipy.stats import f_oneway"
   ]
  },
  {
   "cell_type": "code",
   "execution_count": 21,
   "metadata": {},
   "outputs": [
    {
     "name": "stderr",
     "output_type": "stream",
     "text": [
      "/Users/zhengj10/opt/anaconda3/lib/python3.7/site-packages/scipy/stats/stats.py:6415: RuntimeWarning: divide by zero encountered in double_scalars\n",
      "  z = (bigu - meanrank) / sd\n"
     ]
    },
    {
     "data": {
      "text/plain": [
       "MannwhitneyuResult(statistic=0.0, pvalue=0.0)"
      ]
     },
     "execution_count": 21,
     "metadata": {},
     "output_type": "execute_result"
    }
   ],
   "source": [
    "mannwhitneyu(slope_mneon,slope_mneon_A122D,alternative='two-sided')"
   ]
  },
  {
   "cell_type": "code",
   "execution_count": null,
   "metadata": {},
   "outputs": [],
   "source": [
    "f_oneway(Voltron_2,Voltron_3028,Voltron_3012)"
   ]
  },
  {
   "cell_type": "code",
   "execution_count": null,
   "metadata": {},
   "outputs": [],
   "source": []
  },
  {
   "cell_type": "code",
   "execution_count": null,
   "metadata": {},
   "outputs": [],
   "source": [
    "data_all = {}\n",
    "\n",
    "for sensor in sensors:\n",
    "    df_sensor = df_p[df_p.Mutation==sensor]\n",
    "    dFF_norm = np.mean(df_sensor['dFF_80_to_40_norm'].to_list())\n",
    "    data_all[sensor] = dFF_norm"
   ]
  },
  {
   "cell_type": "code",
   "execution_count": null,
   "metadata": {},
   "outputs": [],
   "source": [
    "data_sem_all['421.1']"
   ]
  },
  {
   "cell_type": "code",
   "execution_count": null,
   "metadata": {},
   "outputs": [],
   "source": [
    "data_sem_all = {}\n",
    "\n",
    "for sensor in sensors:\n",
    "    df_sensor = df_p[df_p.Mutation==sensor]\n",
    "    dFF_norm_sem = np.std(df_sensor['dFF_80_to_40_norm'].to_list())/np.sqrt(len(df_sensor))\n",
    "    data_sem_all[sensor] = dFF_norm_sem"
   ]
  },
  {
   "cell_type": "code",
   "execution_count": null,
   "metadata": {},
   "outputs": [],
   "source": [
    "data_sem_all = {}\n",
    "\n",
    "for sensor in sensors:\n",
    "    df_sensor = df_p[df_p.Mutation==sensor]\n",
    "    dFF_sem = np.std(df_sensor['dFF'].to_list(),axis=0)/np.sqrt(len(df_sensor))\n",
    "    dFF_sem_20 = dFF_sem[6]/dFF_voltron_20\n",
    "    data_sem_all[sensor] = dFF_sem_20"
   ]
  },
  {
   "cell_type": "code",
   "execution_count": null,
   "metadata": {},
   "outputs": [],
   "source": [
    "data_sem_all = {}\n",
    "\n",
    "for sensor in sensors:\n",
    "    df_sensor = df_p[df_p.Mutation==sensor]\n",
    "    dFF_sem = np.std(df_sensor['dFF'].to_list(),axis=0)/np.sqrt(len(df_sensor))\n",
    "    dFF_sem_20 = dFF_sem[6]/dFF_voltron_20\n",
    "    data_sem_all[sensor] = dFF_sem_20\n",
    "    "
   ]
  },
  {
   "cell_type": "code",
   "execution_count": null,
   "metadata": {},
   "outputs": [],
   "source": [
    "data_sem_all"
   ]
  },
  {
   "cell_type": "code",
   "execution_count": null,
   "metadata": {},
   "outputs": [],
   "source": []
  },
  {
   "cell_type": "code",
   "execution_count": null,
   "metadata": {},
   "outputs": [],
   "source": []
  },
  {
   "cell_type": "markdown",
   "metadata": {},
   "source": [
    "- Get percentage change of performance for each variant"
   ]
  },
  {
   "cell_type": "code",
   "execution_count": null,
   "metadata": {},
   "outputs": [],
   "source": [
    "# A = {}\n",
    "A = []\n",
    "for k,v in data_all.items():\n",
    "    if k in ['421.1','421.2096']:\n",
    "        continue\n",
    "#     A[k] = (data_all[k]-data_all['421.1'])/data_all['421.1']\n",
    "    A.append((data_all['421.2096']-v)/data_all['421.2096'])"
   ]
  },
  {
   "cell_type": "code",
   "execution_count": null,
   "metadata": {},
   "outputs": [],
   "source": [
    "# np.max(A)"
   ]
  },
  {
   "cell_type": "code",
   "execution_count": null,
   "metadata": {},
   "outputs": [],
   "source": [
    "data_all = {}\n",
    "\n",
    "for sensor in sensors:\n",
    "    df_sensor = df_p[df_p.Mutation==sensor]\n",
    "    dFF = np.mean(df_sensor['dFF'].to_list(),axis=0)\n",
    "    dFF_sel = dFF[1:4] # -80 to -40 mV\n",
    "    data_all[sensor] = dFF_sel\n",
    "    "
   ]
  },
  {
   "cell_type": "code",
   "execution_count": null,
   "metadata": {},
   "outputs": [],
   "source": [
    "plt.plot(data_all['421.2096'])\n",
    "plt.plot(data_all['421.1'])"
   ]
  },
  {
   "cell_type": "code",
   "execution_count": null,
   "metadata": {},
   "outputs": [],
   "source": [
    "from scipy.stats.stats import pearsonr as ssp\n",
    "stat_results = ssp([-80,-60,-40],data_all['421.2096'])"
   ]
  },
  {
   "cell_type": "code",
   "execution_count": null,
   "metadata": {},
   "outputs": [],
   "source": [
    "stat_results[0]**2 # .995459547340518 for Voltron"
   ]
  },
  {
   "cell_type": "code",
   "execution_count": null,
   "metadata": {},
   "outputs": [],
   "source": [
    "(data_all['421.1'][0]-data_all['421.1'][-1])/40.0 # 0.004532819800556168 for Voltron 2;0.0013337984983451579 Voltron 1"
   ]
  },
  {
   "cell_type": "code",
   "execution_count": null,
   "metadata": {},
   "outputs": [],
   "source": [
    "data_all['421.2096']"
   ]
  },
  {
   "cell_type": "code",
   "execution_count": null,
   "metadata": {},
   "outputs": [],
   "source": [
    "# df_single = pd.DataFrame(data_dict)"
   ]
  },
  {
   "cell_type": "code",
   "execution_count": null,
   "metadata": {},
   "outputs": [],
   "source": [
    "# df_single.to_csv('/Users/zhengj10/Desktop/single_mutants_dFF.csv')"
   ]
  },
  {
   "cell_type": "code",
   "execution_count": null,
   "metadata": {},
   "outputs": [],
   "source": [
    "# df_p.Mutation.unique()\n",
    "# len(sensors)"
   ]
  },
  {
   "cell_type": "code",
   "execution_count": null,
   "metadata": {},
   "outputs": [],
   "source": [
    "# df_p = pd.read_pickle(sumPath+'/Plot_Voltron_single_mutants.pkl')"
   ]
  },
  {
   "cell_type": "code",
   "execution_count": null,
   "metadata": {},
   "outputs": [],
   "source": []
  },
  {
   "cell_type": "markdown",
   "metadata": {},
   "source": [
    "#### Voltron vs. Voltron 2 (fig.2A)"
   ]
  },
  {
   "cell_type": "code",
   "execution_count": null,
   "metadata": {},
   "outputs": [],
   "source": [
    "import matplotlib\n",
    "from matplotlib import font_manager\n",
    "matplotlib.rcParams['pdf.fonttype'] = 42\n",
    "matplotlib.rcParams['ps.fonttype'] = 42\n",
    "\n",
    "fig = plt.figure(figsize=[3.5,4])\n",
    "# fig = plt.figure(figsize=[5,6])\n",
    "sns.set_style('whitegrid')\n",
    "\n",
    "ax = plt.subplot(111)\n",
    "\n",
    "df_sensor = df_p[(df_p.Mutation == '421.1')&(df_p.Objective != '40x air')]\n",
    "df_sensor = df_sensor[df_sensor.peak_dFF != 'N/A']\n",
    "param_mean = np.mean(df_sensor.dFF.to_list(),axis=0)\n",
    "param_sem = np.std(df_sensor.dFF.to_list(),axis=0)/np.sqrt(len(df_sensor))\n",
    "x = np.linspace(-100,60,9)\n",
    "ax.errorbar(x, param_mean, yerr = param_sem, fmt = 'o-',\n",
    "            label = 'Voltron (%d)' %len(df_sensor),color='#336699',markersize=0)\n",
    "\n",
    "#     ax.errorbar(x, param_mean, yerr = param_sem, fmt = 'o-',label=sensor+' (%d)' %len(df_sensor))\n",
    "\n",
    "df_sensor = df_p[(df_p.Mutation == '421.2096')&(df_p.Objective == '40x oil core')]\n",
    "param_mean = np.mean(df_sensor.dFF.to_list(),axis=0)\n",
    "param_sem = np.std(df_sensor.dFF.to_list(),axis=0)/np.sqrt(len(df_sensor))\n",
    "x = np.linspace(-100,60,9)\n",
    "ax.errorbar(x, param_mean, yerr = param_sem, fmt = 'o-',\n",
    "            label = 'Voltron 2 (%d)' %len(df_sensor),color='#FF3333',markersize=0)\n",
    "\n",
    "#     ax.errorbar(x, param_mean, yerr = param_sem, fmt = 'o-',label=sensor+' (%d)' %len(df_sensor))\n",
    "\n",
    "# df_sensor = df_p[(df_p.Mutation == '421.1')&(df_p.Objective != '40x air')]\n",
    "# df_sensor = df_sensor[df_sensor.peak_dFF != 'N/A']\n",
    "# param_mean = np.mean(df_sensor.peak_dFF.to_list(),axis=0)\n",
    "# param_sem = np.std(df_sensor.peak_dFF.to_list(),axis=0)/np.sqrt(len(df_sensor))\n",
    "# x = np.linspace(-100,60,9)\n",
    "# ax.errorbar(x, param_mean, yerr = param_sem, fmt = 'o-',\n",
    "#             label = 'Voltron-peak (%d)' %len(df_sensor),color='g',markersize=0)\n",
    "#     ax.errorbar(x, param_mean, yerr = param_sem, fmt = 'o-',label=sensor+' (%d)' %len(df_sensor))    \n",
    "\n",
    "\n",
    "df_sensor = df_p[df_p.Mutation == '421.3028']\n",
    "param_mean = np.mean(df_sensor.dFF.to_list(),axis=0)\n",
    "param_sem = np.std(df_sensor.dFF.to_list(),axis=0)/np.sqrt(len(df_sensor))\n",
    "x = np.linspace(-100,60,9)\n",
    "ax.errorbar(x, param_mean, yerr = param_sem, fmt = 'o-',color='gray',markersize=0)\n",
    "\n",
    "\n",
    "df_sensor = df_p[df_p.Mutation == '421.3012']\n",
    "param_mean = np.mean(df_sensor.dFF.to_list(),axis=0)\n",
    "param_sem = np.std(df_sensor.dFF.to_list(),axis=0)/np.sqrt(len(df_sensor))\n",
    "x = np.linspace(-100,60,9)\n",
    "ax.errorbar(x, param_mean, yerr = param_sem, fmt = 'o-',color='gray',markersize=0)\n",
    "\n",
    "\n",
    "    \n",
    "# # Following block remove the errorbars from legend\n",
    "# handles, labels = ax.get_legend_handles_labels() \n",
    "# handles = [h[0] for h in handles]\n",
    "# ax.legend(handles, labels, bbox_to_anchor=(0.8, 1.25),frameon=False,markerscale=0)\n",
    "# ax.legend(handles, labels, frameon=False)\n",
    "\n",
    "\n",
    "font = font_manager.FontProperties(weight='bold',style='normal')\n",
    "leg = ax.legend(handlelength=0,handletextpad = -0.21,markerscale=0,bbox_to_anchor=(0.8,1.2),frameon=False,prop=font)\n",
    "\n",
    "for item in leg.legendHandles: # remove line marker in legend\n",
    "    item.set_visible(False)\n",
    "\n",
    "for artist, text in zip(leg.legendHandles, leg.get_texts()): # set text the same color as line\n",
    "    col = artist.get_color()\n",
    "    if isinstance(col, np.ndarray):\n",
    "        col = col[0]\n",
    "    text.set_color(col)\n",
    "\n",
    "ax.set_xlabel('mV')\n",
    "ax.set_ylabel('\\u0394F/F')\n",
    "plt.setp(ax, xticks=x)\n",
    "plt.text(15, -0.09, '421.3028 (5)', color='gray')\n",
    "plt.text(15, -0.185, '421.3012 (5)', color='gray')\n",
    "\n",
    "plt.tight_layout()\n",
    "fig.savefig('/Users/zhengj10/Desktop/v5/Voltron_Voltron2_dFF.pdf',format='pdf')\n",
    "# fig.savefig('/Users/zhengj10/Desktop/v5/Voltron_Voltron2_dFF.png')\n",
    "plt.show()\n"
   ]
  },
  {
   "cell_type": "markdown",
   "metadata": {},
   "source": [
    "- 20 mV dFF trace"
   ]
  },
  {
   "cell_type": "code",
   "execution_count": null,
   "metadata": {},
   "outputs": [],
   "source": []
  },
  {
   "cell_type": "code",
   "execution_count": null,
   "metadata": {},
   "outputs": [],
   "source": [
    "# sns.set()\n",
    "# sns.set_style(style='whitegrid')\n",
    "# ax = plt.subplot(1,1,1)\n",
    "\n",
    "x = np.arange(1,1501)\n",
    "# fig = plt.figure(figsize=[7,8])\n",
    "data_dff = {}\n",
    "for sensor in sensors:\n",
    "    if sensor == '421.1':\n",
    "        df_sensor = df[(df.Mutation == sensor)&(df.Objective == '40x oil GENIE')]\n",
    "        df_sensor = df_sensor[df_sensor.peak_dFF != 'N/A']\n",
    "        data_dff[sensor] = {}\n",
    "        data_dff[sensor]['mean'] = []\n",
    "        data_dff[sensor]['err'] = []\n",
    "        traces = []\n",
    "        for index, row in df_sensor.iterrows():\n",
    "\n",
    "            matFile = os.path.join(imgPath, str(row['Date']), row['Plate'], row['Cell'], '006.mat')\n",
    "            data = pb.get_data(matFile)\n",
    "            traces.append(data['dff_corrected_double'][250:1750])\n",
    "\n",
    "        data_dff_mean = np.mean(traces,axis=0)\n",
    "        data_dff_err = np.std(traces,axis=0)/np.sqrt(len(df_sensor))\n",
    "        data_dff[sensor]['mean'].append(data_dff_mean)\n",
    "        data_dff[sensor]['err'].append(data_dff_err)\n",
    "    \n",
    "    else:\n",
    "        df_sensor = df[(df.Mutation == sensor)&(df.Objective == '40x oil core')]\n",
    "        data_dff[sensor] = {}\n",
    "        data_dff[sensor]['mean'] = []\n",
    "        data_dff[sensor]['err'] = []\n",
    "        traces = []\n",
    "        for index, row in df_sensor.iterrows():\n",
    "\n",
    "            matFile = os.path.join(imgPath, str(row['Date']), row['Plate'], row['Cell'], '006.mat')\n",
    "            data = pb.get_data(matFile)\n",
    "            traces.append(data['dff_corrected_double'][250:1750])\n",
    "\n",
    "        data_dff_mean = np.mean(traces,axis=0)\n",
    "        data_dff_err = np.std(traces,axis=0)/np.sqrt(len(df_sensor))\n",
    "        data_dff[sensor]['mean'].append(data_dff_mean)\n",
    "        data_dff[sensor]['err'].append(data_dff_err)\n"
   ]
  },
  {
   "cell_type": "code",
   "execution_count": null,
   "metadata": {},
   "outputs": [],
   "source": [
    "\n",
    "import matplotlib\n",
    "matplotlib.rcParams['pdf.fonttype'] = 42\n",
    "matplotlib.rcParams['ps.fonttype'] = 42\n",
    "\n",
    "\n",
    "x = np.arange(1,1501)\n",
    "fig = plt.figure(figsize=[1.6,1.4])\n",
    "ax = plt.subplot(111)\n",
    "c=0\n",
    "for sensor in sensors:\n",
    "    if c==0:\n",
    "        ax.plot(x, data_dff[sensor]['mean'][0],color='#336699')\n",
    "        ax.fill_between(x, data_dff[sensor]['mean'][0]+data_dff[sensor]['err'][0],\n",
    "                       data_dff[sensor]['mean'][0]-data_dff[sensor]['err'][0],alpha=0.2,color='#336699')\n",
    "        \n",
    "    else:\n",
    "        ax.plot(x, data_dff[sensor]['mean'][0],color='#FF3333')\n",
    "        ax.fill_between(x, data_dff[sensor]['mean'][0]+data_dff[sensor]['err'][0],\n",
    "                       data_dff[sensor]['mean'][0]-data_dff[sensor]['err'][0],alpha=0.2,color='#FF3333')\n",
    "\n",
    "\n",
    "# for sensor in sensors:\n",
    "#     df_sensor = df[df.Mutation == sensor]\n",
    "#     ax.plot(x, data_dff[sensor]['mean'][0],color=color[sensor])\n",
    "#     ax.fill_between(x, data_dff[sensor]['mean'][0]+data_dff[sensor]['err'][0],\n",
    "#                    data_dff[sensor]['mean'][0]-data_dff[sensor]['err'][0],alpha=0.2,color=color[sensor])\n",
    "    \n",
    "    \n",
    "    c+=1\n",
    "\n",
    "ax.set_xlabel('ms')\n",
    "ax.set_ylabel('')\n",
    "ax = plt.gca()\n",
    "ax.xaxis.set_label_coords(0.9,-0.095)\n",
    "# ax.set_ylim([-0.3295564576291436, 0.15530348631147196])\n",
    "# ax.set_ylim([-0.325564576291436, 0.19530348631147196])\n",
    "# \n",
    "plt.tight_layout(pad=-0.06)\n",
    "# fig.savefig(sumPath + '\\\\v2\\\\Voltron_1_vs_Voltron-2_dff_trace_-70-20mV.png',dpi=1200)\n",
    "# fig.savefig('/Users/zhengj10/Desktop/v5/Voltron_Voltron2_dff_trace_-70-20mV_corrected.pdf',format='pdf')\n",
    "plt.show()\n"
   ]
  },
  {
   "cell_type": "markdown",
   "metadata": {},
   "source": [
    "#### Single and combo mutants"
   ]
  },
  {
   "cell_type": "code",
   "execution_count": null,
   "metadata": {},
   "outputs": [],
   "source": []
  },
  {
   "cell_type": "code",
   "execution_count": null,
   "metadata": {},
   "outputs": [],
   "source": []
  },
  {
   "cell_type": "code",
   "execution_count": null,
   "metadata": {},
   "outputs": [],
   "source": [
    "import unicodedata\n",
    "import seaborn as sns\n",
    "\n",
    "import matplotlib\n",
    "matplotlib.rcParams['pdf.fonttype'] = 42\n",
    "matplotlib.rcParams['ps.fonttype'] = 42\n",
    "\n",
    "sns.set_style(style='whitegrid')\n",
    "import matplotlib.font_manager as font_manager\n",
    "\n",
    "fig = plt.figure(figsize=[5,4])\n",
    "ax = fig.add_subplot(111)\n",
    "\n",
    "# n = len(df_p.Mutation.unique())\n",
    "n = len(sensors)\n",
    "# colors = plt.cm.rainbow(np.linspace(0,1,n))\n",
    "colors = plt.cm.tab20(np.linspace(0,1,n))\n",
    "c=0\n",
    "param = 'dFF'\n",
    "x_label = 'mV'\n",
    "y_label = [unicodedata.lookup(\"GREEK CAPITAL LETTER delta\") + 'F/F']\n",
    "\n",
    "mean_20mV = \n",
    "\n",
    "for sensor in sensors:\n",
    "#     print(sensor)\n",
    "\n",
    "    df_sensor = df_p[(df_p.Mutation == sensor)&(df_p.Objective == '40x air')]\n",
    "    param_mean = np.mean(df_sensor[param].tolist(), axis=0)\n",
    "    param_sem = np.nanstd(df_sensor[param].tolist(), axis=0)/np.sqrt(len(df_sensor))\n",
    "    x = np.linspace(-100,60,9)\n",
    "    if c == 0:\n",
    "        ax.errorbar(x, param_mean, yerr = param_sem, fmt = 'o-', label = labels_p[sensor] +' (%d)' %len(df_sensor),\n",
    "                    color='#336699',markersize=0)\n",
    "    elif c==1:\n",
    "        ax.errorbar(x, param_mean, yerr = param_sem, fmt = 'o-', label = labels_p[sensor] +' (%d)' %len(df_sensor),\n",
    "                    color='#FF3333',markersize=0)\n",
    "    else:\n",
    "        ax.errorbar(x, param_mean, yerr = param_sem, fmt = 'o-', label = labels_p[sensor] +' (%d)' %len(df_sensor),\n",
    "               color = colors[c],markersize=0)\n",
    "    c+=1\n",
    "\n",
    "font = font_manager.FontProperties(weight='bold',style='normal')\n",
    "leg = ax.legend(handlelength=0, handletextpad = -0.19, markerscale = 0,bbox_to_anchor=(1,1),frameon=False,\n",
    "                prop=font)\n",
    "\n",
    "for item in leg.legendHandles: # remove line marker in legend\n",
    "    item.set_visible(False)\n",
    "\n",
    "for artist, text in zip(leg.legendHandles, leg.get_texts()): # set text the same color as line\n",
    "    col = artist.get_color()\n",
    "    if isinstance(col, np.ndarray):\n",
    "        col = col[0]\n",
    "    text.set_color(col)\n",
    "ax.set_xlabel(x_label)\n",
    "ax.set_ylabel(y_label[0])\n",
    "plt.setp(ax, xticks=x)\n",
    "plt.tight_layout()\n",
    "# fig.savefig('/Users/zhengj10/Desktop/v5/Voltron_combo_mutants.pdf',format='pdf')\n",
    "plt.show()\n"
   ]
  },
  {
   "cell_type": "code",
   "execution_count": null,
   "metadata": {},
   "outputs": [],
   "source": [
    "df[df.Mutation == '421.2907']"
   ]
  },
  {
   "cell_type": "code",
   "execution_count": null,
   "metadata": {},
   "outputs": [],
   "source": [
    "df"
   ]
  },
  {
   "cell_type": "code",
   "execution_count": null,
   "metadata": {},
   "outputs": [],
   "source": [
    "df_p.index = np.arange(len(df_p))\n",
    "idx = []\n",
    "for i,r in df_p.iterrows():\n",
    "    if r['dFF'][6]>1:\n",
    "        idx.append(i)\n",
    "        print(r['Date']+'/'+r['Plate']+'/'+r['Cell'])\n",
    "df_p.shape"
   ]
  },
  {
   "cell_type": "code",
   "execution_count": null,
   "metadata": {},
   "outputs": [],
   "source": [
    "df_p.index = np.arange(len(df_p))\n",
    "df_p = df_p.drop(df_p.index[idx])\n",
    "df_p.shape"
   ]
  },
  {
   "cell_type": "code",
   "execution_count": null,
   "metadata": {},
   "outputs": [],
   "source": []
  },
  {
   "cell_type": "code",
   "execution_count": null,
   "metadata": {},
   "outputs": [],
   "source": []
  },
  {
   "cell_type": "markdown",
   "metadata": {},
   "source": [
    "#### Remove bad data based on plots above"
   ]
  },
  {
   "cell_type": "code",
   "execution_count": null,
   "metadata": {},
   "outputs": [],
   "source": [
    "df_p.index = np.arange(len(df_p))"
   ]
  },
  {
   "cell_type": "code",
   "execution_count": null,
   "metadata": {},
   "outputs": [],
   "source": [
    "# df_p.Mutation.unique().shape"
   ]
  },
  {
   "cell_type": "code",
   "execution_count": null,
   "metadata": {},
   "outputs": [],
   "source": [
    "idx = []\n",
    "for i,r in df_p.iterrows():\n",
    "#     print(i)\n",
    "#     if r['dFF'][5]<r['dFF'][6]:\n",
    "    if r['dFF'][6]<r['dFF'][7]:\n",
    "#     if r['dFF'][0]<0: # not needed as if r['dFF'][6]<r['dFF'][7] will remove r['dFF'][0]<0 trials as well\n",
    "        idx.append(i)\n"
   ]
  },
  {
   "cell_type": "code",
   "execution_count": null,
   "metadata": {},
   "outputs": [],
   "source": [
    "df_p.drop(df_p.index[idx],inplace=True)\n",
    "df_p.index\n"
   ]
  },
  {
   "cell_type": "code",
   "execution_count": null,
   "metadata": {},
   "outputs": [],
   "source": [
    "df_p = pd.read_pickle(sumPath+'/Plot_Voltron_single_mutants.pkl')\n",
    "# df_p = pd.read_pickle(sumPath+'/Plot_Voltron_combo_mutants.pkl')\n"
   ]
  },
  {
   "cell_type": "code",
   "execution_count": null,
   "metadata": {},
   "outputs": [],
   "source": [
    "# sensors = ['421.1','421.2096','421.4909','421.4919','421.4876','421.4892','421.6051','421.5649','421.6052',\n",
    "#            '421.5658','421.4951','421.5657']\n",
    "sensors = ['421.1','421.2096','421.2907','421.2335','421.2336','421.2346','421.3002','421.3046','421.3028',\n",
    "            '421.303','421.3012', '421.2379', '421.2347', '421.3067', '421.2203','421.3006']"
   ]
  },
  {
   "cell_type": "markdown",
   "metadata": {},
   "source": [
    "#### dFF traces at 20 mV voltage step"
   ]
  },
  {
   "cell_type": "code",
   "execution_count": null,
   "metadata": {
    "scrolled": true
   },
   "outputs": [],
   "source": [
    "# sns.set()\n",
    "# sns.set_style(style='whitegrid')\n",
    "# ax = plt.subplot(1,1,1)\n",
    "\n",
    "x = np.arange(1,1501)\n",
    "# fig = plt.figure(figsize=[7,8])\n",
    "data_dff = {}\n",
    "for sensor in sensors:\n",
    "    df_sensor = df_p[(df_p.Mutation == sensor)&(df_p.Objective == '40x air')]\n",
    "    data_dff[sensor] = {}\n",
    "    data_dff[sensor]['mean'] = []\n",
    "    data_dff[sensor]['err'] = []\n",
    "    traces = []\n",
    "    for index, row in df_sensor.iterrows():\n",
    "\n",
    "        matFile = os.path.join(imgPath, str(row['Date']), row['Plate'], row['Cell'], '006.mat')\n",
    "        data = pb.get_data(matFile)\n",
    "        traces.append(data['dff_corrected_double'][250:1750])\n",
    "\n",
    "    data_dff_mean = np.mean(traces,axis=0)\n",
    "    data_dff_err = np.std(traces,axis=0)/np.sqrt(len(df_sensor))\n",
    "    data_dff[sensor]['mean'].append(data_dff_mean)\n",
    "    data_dff[sensor]['err'].append(data_dff_err)\n"
   ]
  },
  {
   "cell_type": "code",
   "execution_count": null,
   "metadata": {},
   "outputs": [],
   "source": [
    "x = np.arange(1,1501)\n",
    "fig = plt.figure(figsize=[1.6,1.4])\n",
    "ax = plt.subplot(111)\n",
    "c=0\n",
    "for sensor in sensors:\n",
    "    df_sensor = df[df.Mutation == sensor]\n",
    "    if c==0:\n",
    "        ax.plot(x, data_dff[sensor]['mean'][0],color='b')\n",
    "        ax.fill_between(x, data_dff[sensor]['mean'][0]+data_dff[sensor]['err'][0],\n",
    "                       data_dff[sensor]['mean'][0]-data_dff[sensor]['err'][0],alpha=0.2,color='#336699')\n",
    "        \n",
    "    elif c==1:\n",
    "        ax.plot(x, data_dff[sensor]['mean'][0],color='r')\n",
    "        ax.fill_between(x, data_dff[sensor]['mean'][0]+data_dff[sensor]['err'][0],\n",
    "                       data_dff[sensor]['mean'][0]-data_dff[sensor]['err'][0],alpha=0.2,color='#FF3333')\n",
    "        \n",
    "    else:\n",
    "        ax.plot(x, data_dff[sensor]['mean'][0],color=colors[c])\n",
    "        ax.fill_between(x, data_dff[sensor]['mean'][0]+data_dff[sensor]['err'][0],\n",
    "                       data_dff[sensor]['mean'][0]-data_dff[sensor]['err'][0],alpha=0.2,color=colors[c])\n",
    "\n",
    "\n",
    "# for sensor in sensors:\n",
    "#     df_sensor = df[df.Mutation == sensor]\n",
    "#     ax.plot(x, data_dff[sensor]['mean'][0],color=color[sensor])\n",
    "#     ax.fill_between(x, data_dff[sensor]['mean'][0]+data_dff[sensor]['err'][0],\n",
    "#                    data_dff[sensor]['mean'][0]-data_dff[sensor]['err'][0],alpha=0.2,color=color[sensor])\n",
    "    \n",
    "    \n",
    "    c+=1\n",
    "\n",
    "ax.set_xlabel('ms')\n",
    "ax.set_ylabel('')\n",
    "ax = plt.gca()\n",
    "ax.xaxis.set_label_coords(0.9,-0.095)\n",
    "ax.set_ylim([-0.3295564576291436, 0.15530348631147196])\n",
    "# ax.set_ylim([-0.325564576291436, 0.18530348631147196])\n",
    "# \n",
    "plt.tight_layout(pad=-0.06)\n",
    "# fig.savefig(sumPath + '\\\\v2\\\\Voltron_1_vs_Voltron-2_dff_trace_-70-20mV.png',dpi=1200)\n",
    "# fig.savefig('/Users/zhengj10/Desktop/Voltron 2 paper_v4/Single_mutants_dff_trace_-70-20mV_corrected.pdf',format='pdf')\n",
    "plt.show()\n"
   ]
  },
  {
   "cell_type": "code",
   "execution_count": null,
   "metadata": {},
   "outputs": [],
   "source": [
    "df_p.Mutation.unique().shape"
   ]
  },
  {
   "cell_type": "code",
   "execution_count": null,
   "metadata": {},
   "outputs": [],
   "source": [
    "len(sensors)"
   ]
  },
  {
   "cell_type": "code",
   "execution_count": null,
   "metadata": {},
   "outputs": [],
   "source": []
  }
 ],
 "metadata": {
  "kernelspec": {
   "display_name": "Python 3",
   "language": "python",
   "name": "python3"
  },
  "language_info": {
   "codemirror_mode": {
    "name": "ipython",
    "version": 3
   },
   "file_extension": ".py",
   "mimetype": "text/x-python",
   "name": "python",
   "nbconvert_exporter": "python",
   "pygments_lexer": "ipython3",
   "version": "3.8.8"
  }
 },
 "nbformat": 4,
 "nbformat_minor": 2
}
