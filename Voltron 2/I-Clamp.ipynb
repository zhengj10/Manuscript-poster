{
 "cells": [
  {
   "cell_type": "code",
   "execution_count": 2,
   "metadata": {},
   "outputs": [],
   "source": [
    "import sys\n",
    "sys.path.append('/Users/zhengj10/Python/Modules')\n",
    "import h5py\n",
    "import os\n",
    "import numpy as np\n",
    "from skimage.io import imsave\n",
    "import matplotlib.pyplot as plt\n",
    "import yaml\n",
    "import pandas as pd\n",
    "import PatcherBot as pb\n",
    "from glob import glob\n",
    "import seaborn as sns\n",
    "import tifffile as tff\n",
    "import scipy.signal as ss"
   ]
  },
  {
   "cell_type": "markdown",
   "metadata": {},
   "source": [
    "### Function to get Rs (bridge resistance) from patch.log"
   ]
  },
  {
   "cell_type": "code",
   "execution_count": 3,
   "metadata": {},
   "outputs": [],
   "source": [
    "def get_Rs(logFile):\n",
    "    params = {}\n",
    "\n",
    "    keep_phrase = \"whole cell\"\n",
    "    with open(logFile) as f:\n",
    "        lines_no = []\n",
    "        for i, line in enumerate(f):\n",
    "            if keep_phrase in line:\n",
    "                lines_no.append(i)\n",
    "\n",
    "    with open(logFile) as f:\n",
    "        Rs = []\n",
    "        et = [] # event time\n",
    "        for i, line in enumerate(f):\n",
    "            if lines_no[0]<i<lines_no[1]:\n",
    "                try:\n",
    "                    Rs.append(eval(line)[\"peakResistance\"])\n",
    "                    et.append(eval(line)[\"event_time\"])\n",
    "                except:\n",
    "                    continue\n",
    "    \n",
    "    params['Lines_no'] = np.array(lines_no)\n",
    "    params['Rs'] = np.array(Rs)/1e6\n",
    "    params['Event_time'] = np.array(et)\n",
    "    return params\n"
   ]
  },
  {
   "cell_type": "markdown",
   "metadata": {},
   "source": [
    "### Load params"
   ]
  },
  {
   "cell_type": "code",
   "execution_count": 4,
   "metadata": {},
   "outputs": [
    {
     "name": "stdout",
     "output_type": "stream",
     "text": [
      "True\n",
      "True\n",
      "True\n"
     ]
    }
   ],
   "source": [
    "# sumPath = '/Volumes/genie/Jihong_GENIE_stuff/PatcherBot/summary/Voltron2_paper'\n",
    "imgPath = '/Volumes/genie/BenArthur/patch-screen/bot'\n",
    "rawPath = '/Volumes/genie/Jihong_GENIE_stuff/PatcherBot/raw'\n",
    "# sumPath = '/Users/zhengj10/Desktop/GENIE/Manuscript/Voltron 2 paper/Voltron 2 paper_v7'\n",
    "sumPath = '/Users/zhengj10/Desktop/GENIE/Manuscript/Voltron 2 paper/Revision'\n",
    "\n",
    "# imgPath = '/Volumes/Backup Plus/patch-screen/bot'\n",
    "# rawPath = '/Volumes/Backup Plus/PatcherBot/raw'\n",
    "\n",
    "# sumPath = '/Users/zhengj10/Desktop/Voltron2/iclamp'\n",
    "# imgPath = '/Volumes/Backup Plus/patch-screen/bot'\n",
    "# rawPath = '/Volumes/Backup Plus/PatcherBot/raw'\n",
    "print(os.path.exists(sumPath))\n",
    "print(os.path.exists(imgPath))\n",
    "print(os.path.exists(rawPath))\n"
   ]
  },
  {
   "cell_type": "code",
   "execution_count": 5,
   "metadata": {},
   "outputs": [
    {
     "data": {
      "text/plain": [
       "['2022.06.01_001']"
      ]
     },
     "execution_count": 5,
     "metadata": {},
     "output_type": "execute_result"
    }
   ],
   "source": [
    "# datePath = pb.getPathInfo(imgPath)\n",
    "datePath = ['2022.06.01_001']\n",
    "# datePath = datePath[9:]\n",
    "datePath\n"
   ]
  },
  {
   "cell_type": "markdown",
   "metadata": {},
   "source": [
    "### Getting dFF from raw data with self - defined active pixels:\n",
    "- active pixels: central 60x41 pixels that exceeds 2/3 highest pixcel value"
   ]
  },
  {
   "cell_type": "code",
   "execution_count": 6,
   "metadata": {},
   "outputs": [],
   "source": [
    "def get_dff(dataFile):\n",
    "    data = h5py.File(dataFile,'r')\n",
    "    trace = data['data'][()]\n",
    "    ref = np.mean(trace[10:60,:,:],axis=0)\n",
    "    fb = np.min(ref)\n",
    "    crop = ref[224:284,:]\n",
    "    max_val = np.max(crop)\n",
    "    act_pix = crop > (fb + (max_val-fb)*0.67)\n",
    "    f = []\n",
    "    for frame in range(trace.shape[0]):\n",
    "        f_single_frame = np.sum(trace[frame,224:284,:]*act_pix)/np.sum(act_pix)\n",
    "        f.append(f_single_frame)\n",
    "    f_peak = np.min(f)\n",
    "    f_peak_idx = np.argmin(f)\n",
    "#     print ('peak idx: %s' %(f_peak_idx))\n",
    "    f0 = np.mean(f[f_peak_idx-40:f_peak_idx-20])\n",
    "    f = np.array(f)\n",
    "    dff = (f-f0)/(f0-fb)\n",
    "    dff_peak = (f_peak-f0)/(f0-fb)\n",
    "    return dff,dff_peak,f_peak_idx,f,f0\n",
    "#     return dff\n"
   ]
  },
  {
   "cell_type": "code",
   "execution_count": 7,
   "metadata": {},
   "outputs": [],
   "source": [
    "# wrongPlates = ['/Volumes/Backup Plus/PatcherBot/raw/2020.10.29_000/plate_001']\n",
    "# # e.g. plate with different protocol\n",
    "\n",
    "# badTrials = ['/Volumes/Backup Plus/PatcherBot/raw/2020.10.06_000/plate_000/patch_attempt_0011_000',\n",
    "#             '/Volumes/Backup Plus/PatcherBot/raw/2020.09.23_000/plate_003/patch_attempt_0019_000']\n",
    "# # bad trials idendified during experiment: e.g. wrong power, no AP that cannot be excluded within dataframe\n",
    "\n",
    "wrongPlates = []\n",
    "# e.g. plate with different protocol\n",
    "\n",
    "badTrials = ['/Volumes/genie/Jihong_GENIE_stuff/PatcherBot/raw/2022.06.01_001/plate_002/patch_attempt_0013_000',\n",
    "            '/Volumes/genie/Jihong_GENIE_stuff/PatcherBot/raw/2022.06.01_001/plate_003/patch_attempt_0012_000',\n",
    "            '/Volumes/genie/Jihong_GENIE_stuff/PatcherBot/raw/2022.06.01_001/plate_004/patch_attempt_0027_000',\n",
    "            '/Volumes/genie/Jihong_GENIE_stuff/PatcherBot/raw/2022.06.01_001/plate_005/patch_attempt_0010_000']\n",
    "# bad trials idendified during experiment: e.g. wrong power, no AP that cannot be excluded within dataframe"
   ]
  },
  {
   "cell_type": "code",
   "execution_count": 11,
   "metadata": {
    "scrolled": false
   },
   "outputs": [
    {
     "name": "stdout",
     "output_type": "stream",
     "text": [
      "/Volumes/genie/Jihong_GENIE_stuff/PatcherBot/raw/2022.06.01_001/plate_002/patch_attempt_0000_000\n"
     ]
    },
    {
     "name": "stderr",
     "output_type": "stream",
     "text": [
      "/var/folders/87/trl8ql4s7vj6fkdtrrkcwx6s0zb2d2/T/ipykernel_36927/217446318.py:48: VisibleDeprecationWarning: Creating an ndarray from ragged nested sequences (which is a list-or-tuple of lists-or-tuples-or ndarrays with different lengths or shapes) is deprecated. If you meant to do this, you must specify 'dtype=object' when creating the ndarray.\n",
      "  dFF_norm = dFF/AP_AMP\n"
     ]
    },
    {
     "ename": "FileNotFoundError",
     "evalue": "[Errno 2] Unable to open file (unable to open file: name = '/Volumes/genie/BenArthur/patch-screen/bot/2022.06.01_001/plate_002/patch_attempt_0000_000/000.mat', errno = 2, error message = 'No such file or directory', flags = 0, o_flags = 0)",
     "output_type": "error",
     "traceback": [
      "\u001b[0;31m---------------------------------------------------------------------------\u001b[0m",
      "\u001b[0;31mFileNotFoundError\u001b[0m                         Traceback (most recent call last)",
      "\u001b[0;32m/var/folders/87/trl8ql4s7vj6fkdtrrkcwx6s0zb2d2/T/ipykernel_36927/217446318.py\u001b[0m in \u001b[0;36m<module>\u001b[0;34m\u001b[0m\n\u001b[1;32m     51\u001b[0m \u001b[0;34m\u001b[0m\u001b[0m\n\u001b[1;32m     52\u001b[0m                 \u001b[0mmatFile\u001b[0m \u001b[0;34m=\u001b[0m \u001b[0mos\u001b[0m\u001b[0;34m.\u001b[0m\u001b[0mpath\u001b[0m\u001b[0;34m.\u001b[0m\u001b[0mjoin\u001b[0m\u001b[0;34m(\u001b[0m\u001b[0mimgPath\u001b[0m\u001b[0;34m,\u001b[0m \u001b[0mdate\u001b[0m\u001b[0;34m,\u001b[0m \u001b[0mplate\u001b[0m\u001b[0;34m,\u001b[0m \u001b[0mcell\u001b[0m\u001b[0;34m,\u001b[0m \u001b[0;34m(\u001b[0m\u001b[0mstr\u001b[0m\u001b[0;34m(\u001b[0m\u001b[0mtrial\u001b[0m\u001b[0;34m)\u001b[0m\u001b[0;34m.\u001b[0m\u001b[0mzfill\u001b[0m\u001b[0;34m(\u001b[0m\u001b[0;36m3\u001b[0m\u001b[0;34m)\u001b[0m \u001b[0;34m+\u001b[0m \u001b[0;34m'.mat'\u001b[0m\u001b[0;34m)\u001b[0m\u001b[0;34m)\u001b[0m\u001b[0;34m\u001b[0m\u001b[0;34m\u001b[0m\u001b[0m\n\u001b[0;32m---> 53\u001b[0;31m                 \u001b[0mf\u001b[0m \u001b[0;34m=\u001b[0m \u001b[0mh5py\u001b[0m\u001b[0;34m.\u001b[0m\u001b[0mFile\u001b[0m\u001b[0;34m(\u001b[0m\u001b[0mmatFile\u001b[0m\u001b[0;34m,\u001b[0m\u001b[0;34m'r'\u001b[0m\u001b[0;34m)\u001b[0m\u001b[0;34m\u001b[0m\u001b[0;34m\u001b[0m\u001b[0m\n\u001b[0m\u001b[1;32m     54\u001b[0m                 \u001b[0md\u001b[0m \u001b[0;34m=\u001b[0m \u001b[0mf\u001b[0m\u001b[0;34m[\u001b[0m\u001b[0;34m'params'\u001b[0m\u001b[0;34m]\u001b[0m\u001b[0;34m[\u001b[0m\u001b[0;34m'fit_pix'\u001b[0m\u001b[0;34m]\u001b[0m\u001b[0;34m\u001b[0m\u001b[0;34m\u001b[0m\u001b[0m\n\u001b[1;32m     55\u001b[0m                 \u001b[0mst\u001b[0m \u001b[0;34m=\u001b[0m \u001b[0md\u001b[0m\u001b[0;34m[\u001b[0m\u001b[0;36m0\u001b[0m\u001b[0;34m]\u001b[0m\u001b[0;34m\u001b[0m\u001b[0;34m\u001b[0m\u001b[0m\n",
      "\u001b[0;32m~/opt/anaconda3/lib/python3.9/site-packages/h5py/_hl/files.py\u001b[0m in \u001b[0;36m__init__\u001b[0;34m(self, name, mode, driver, libver, userblock_size, swmr, rdcc_nslots, rdcc_nbytes, rdcc_w0, track_order, fs_strategy, fs_persist, fs_threshold, fs_page_size, page_buf_size, min_meta_keep, min_raw_keep, locking, **kwds)\u001b[0m\n\u001b[1;32m    505\u001b[0m                                  \u001b[0mfs_persist\u001b[0m\u001b[0;34m=\u001b[0m\u001b[0mfs_persist\u001b[0m\u001b[0;34m,\u001b[0m \u001b[0mfs_threshold\u001b[0m\u001b[0;34m=\u001b[0m\u001b[0mfs_threshold\u001b[0m\u001b[0;34m,\u001b[0m\u001b[0;34m\u001b[0m\u001b[0;34m\u001b[0m\u001b[0m\n\u001b[1;32m    506\u001b[0m                                  fs_page_size=fs_page_size)\n\u001b[0;32m--> 507\u001b[0;31m                 \u001b[0mfid\u001b[0m \u001b[0;34m=\u001b[0m \u001b[0mmake_fid\u001b[0m\u001b[0;34m(\u001b[0m\u001b[0mname\u001b[0m\u001b[0;34m,\u001b[0m \u001b[0mmode\u001b[0m\u001b[0;34m,\u001b[0m \u001b[0muserblock_size\u001b[0m\u001b[0;34m,\u001b[0m \u001b[0mfapl\u001b[0m\u001b[0;34m,\u001b[0m \u001b[0mfcpl\u001b[0m\u001b[0;34m,\u001b[0m \u001b[0mswmr\u001b[0m\u001b[0;34m=\u001b[0m\u001b[0mswmr\u001b[0m\u001b[0;34m)\u001b[0m\u001b[0;34m\u001b[0m\u001b[0;34m\u001b[0m\u001b[0m\n\u001b[0m\u001b[1;32m    508\u001b[0m \u001b[0;34m\u001b[0m\u001b[0m\n\u001b[1;32m    509\u001b[0m             \u001b[0;32mif\u001b[0m \u001b[0misinstance\u001b[0m\u001b[0;34m(\u001b[0m\u001b[0mlibver\u001b[0m\u001b[0;34m,\u001b[0m \u001b[0mtuple\u001b[0m\u001b[0;34m)\u001b[0m\u001b[0;34m:\u001b[0m\u001b[0;34m\u001b[0m\u001b[0;34m\u001b[0m\u001b[0m\n",
      "\u001b[0;32m~/opt/anaconda3/lib/python3.9/site-packages/h5py/_hl/files.py\u001b[0m in \u001b[0;36mmake_fid\u001b[0;34m(name, mode, userblock_size, fapl, fcpl, swmr)\u001b[0m\n\u001b[1;32m    218\u001b[0m         \u001b[0;32mif\u001b[0m \u001b[0mswmr\u001b[0m \u001b[0;32mand\u001b[0m \u001b[0mswmr_support\u001b[0m\u001b[0;34m:\u001b[0m\u001b[0;34m\u001b[0m\u001b[0;34m\u001b[0m\u001b[0m\n\u001b[1;32m    219\u001b[0m             \u001b[0mflags\u001b[0m \u001b[0;34m|=\u001b[0m \u001b[0mh5f\u001b[0m\u001b[0;34m.\u001b[0m\u001b[0mACC_SWMR_READ\u001b[0m\u001b[0;34m\u001b[0m\u001b[0;34m\u001b[0m\u001b[0m\n\u001b[0;32m--> 220\u001b[0;31m         \u001b[0mfid\u001b[0m \u001b[0;34m=\u001b[0m \u001b[0mh5f\u001b[0m\u001b[0;34m.\u001b[0m\u001b[0mopen\u001b[0m\u001b[0;34m(\u001b[0m\u001b[0mname\u001b[0m\u001b[0;34m,\u001b[0m \u001b[0mflags\u001b[0m\u001b[0;34m,\u001b[0m \u001b[0mfapl\u001b[0m\u001b[0;34m=\u001b[0m\u001b[0mfapl\u001b[0m\u001b[0;34m)\u001b[0m\u001b[0;34m\u001b[0m\u001b[0;34m\u001b[0m\u001b[0m\n\u001b[0m\u001b[1;32m    221\u001b[0m     \u001b[0;32melif\u001b[0m \u001b[0mmode\u001b[0m \u001b[0;34m==\u001b[0m \u001b[0;34m'r+'\u001b[0m\u001b[0;34m:\u001b[0m\u001b[0;34m\u001b[0m\u001b[0;34m\u001b[0m\u001b[0m\n\u001b[1;32m    222\u001b[0m         \u001b[0mfid\u001b[0m \u001b[0;34m=\u001b[0m \u001b[0mh5f\u001b[0m\u001b[0;34m.\u001b[0m\u001b[0mopen\u001b[0m\u001b[0;34m(\u001b[0m\u001b[0mname\u001b[0m\u001b[0;34m,\u001b[0m \u001b[0mh5f\u001b[0m\u001b[0;34m.\u001b[0m\u001b[0mACC_RDWR\u001b[0m\u001b[0;34m,\u001b[0m \u001b[0mfapl\u001b[0m\u001b[0;34m=\u001b[0m\u001b[0mfapl\u001b[0m\u001b[0;34m)\u001b[0m\u001b[0;34m\u001b[0m\u001b[0;34m\u001b[0m\u001b[0m\n",
      "\u001b[0;32mh5py/_objects.pyx\u001b[0m in \u001b[0;36mh5py._objects.with_phil.wrapper\u001b[0;34m()\u001b[0m\n",
      "\u001b[0;32mh5py/_objects.pyx\u001b[0m in \u001b[0;36mh5py._objects.with_phil.wrapper\u001b[0;34m()\u001b[0m\n",
      "\u001b[0;32mh5py/h5f.pyx\u001b[0m in \u001b[0;36mh5py.h5f.open\u001b[0;34m()\u001b[0m\n",
      "\u001b[0;31mFileNotFoundError\u001b[0m: [Errno 2] Unable to open file (unable to open file: name = '/Volumes/genie/BenArthur/patch-screen/bot/2022.06.01_001/plate_002/patch_attempt_0000_000/000.mat', errno = 2, error message = 'No such file or directory', flags = 0, o_flags = 0)"
     ]
    }
   ],
   "source": [
    "data_all={}\n",
    "for param in(df.columns):\n",
    "    data_all[param] = []\n",
    "for date in datePath:\n",
    "    platePath = pb.getPathInfo(os.path.join(rawPath,date))\n",
    "    for plate in platePath:\n",
    "        if os.path.join(rawPath,date,plate) in wrongPlates:\n",
    "            print('wrong plate: %s' %os.path.join(rawPath, date, plate))\n",
    "            continue\n",
    "            \n",
    "        idxFile = os.path.join(rawPath,date,plate,'.index')\n",
    "        meta = yaml.load(open(idxFile), Loader=yaml.FullLoader)\n",
    "        cellPath = pb.getPathInfo(os.path.join(rawPath, date, plate))\n",
    "#         print(cellPath)\n",
    "        for cell in(cellPath):\n",
    "            if os.path.join(rawPath,date,plate,cell) in badTrials:\n",
    "                print('bad trials: %s' %os.path.join(rawPath,date,plate,cell))\n",
    "                continue\n",
    "                \n",
    "            print(os.path.join(rawPath, date, plate, cell))\n",
    "            if not os.path.exists(os.path.join(rawPath,date,plate,cell,'I_clamp1_000')):\n",
    "                continue\n",
    "\n",
    "            logFile = os.path.join(rawPath, date, plate, cell, 'patch.log')\n",
    "            params = get_Rs(logFile)\n",
    "            Rs = np.mean(params['Rs'][-30:-10])\n",
    "\n",
    "            dFF_all_Jihong = []\n",
    "            dFF_all_norm_Jihong = []\n",
    "            dFF_all_Ben = []\n",
    "            dFF_all_norm_Ben = []\n",
    "            resist_all = []\n",
    "            for trial in range(10):\n",
    "                if os.path.join(rawPath,date,plate,cell) == '/Volumes/genie/Jihong_GENIE_stuff/PatcherBot/raw/2020.10.16_000/plate_000/patch_attempt_0000_000' and trial==0:\n",
    "                    print('located!')\n",
    "                    continue\n",
    "                ivFile = os.path.join(rawPath, date, plate, cell, 'I_clamp1_000', str(trial).zfill(3),'Clamp1.ma')\n",
    "                data = h5py.File(ivFile,'r')\n",
    "                IV_traces = data['data'][()]\n",
    "                RMP = np.mean(IV_traces[1,:][:500])*1000\n",
    "                AP_AMP = np.max(IV_traces[1,:])*1000\n",
    "                AP_AMP = (AP_AMP+2*(15-Rs))-RMP # automatic 15 ohm bridge balance applied by MC\n",
    "                resist = Rs-15\n",
    "                resist_all.append(resist)\n",
    "                      \n",
    "                dataFile = os.path.join(rawPath,date,plate,cell,'I_clamp1_000',str(trial).zfill(3),'Camera','frames.ma')\n",
    "                dFF = get_dff(dataFile)\n",
    "                dFF_norm = dFF/AP_AMP\n",
    "                dFF_all_Jihong.append(dFF)\n",
    "                dFF_all_norm_Jihong.append(dFF_norm)\n",
    "                \n",
    "                matFile = os.path.join(imgPath, date, plate, cell, (str(trial).zfill(3) + '.mat'))\n",
    "                f = h5py.File(matFile,'r')\n",
    "                d = f['params']['fit_pix']\n",
    "                st = d[0]\n",
    "                obj = f[st]\n",
    "                dFF = obj['bkg_norm_ave_dFoF0'][()][0]\n",
    "                dFF_all_Ben.append(dFF)\n",
    "                dFF_norm = dFF/(AP_AMP-RMP)\n",
    "                dFF_all_norm_Ben.append(dFF_norm)\n",
    "\n",
    "            resist_correct = np.mean(resist_all)\n",
    "            dFF_mean_Jihong = np.nanmean(dFF_all_Jihong)\n",
    "            dFF_mean_Ben = np.nanmean(dFF_all_Ben)\n",
    "            \n",
    "            dFF_norm_mean_Jihong = np.nanmean(dFF_all_norm_Jihong)\n",
    "            dFF_norm_mean_Ben = np.nanmean(dFF_all_norm_Ben)\n",
    "\n",
    "            mutation = meta['.']['mutation_1']\n",
    "            \n",
    "            data_all['Well'].append('well_1')\n",
    "\n",
    "            note = meta['.']['notes'][0:6]\n",
    "            data_all['Date'].append(date)\n",
    "            data_all['Plate'].append(plate)\n",
    "            data_all['Cell'].append(cell)\n",
    "            data_all['Mutation'].append(mutation)\n",
    "            data_all['Transfected_date'].append(note[:6])\n",
    "            data_all['RMP'].append(RMP)\n",
    "            data_all['AP_AMP'].append(AP_AMP)\n",
    "            data_all['dFF_Jihong'].append(dFF_mean_Jihong)\n",
    "            data_all['dFF_Ben'].append(dFF_mean_Ben)\n",
    "            data_all['dFF_norm_Jihong'].append(dFF_norm_mean_Jihong)\n",
    "            data_all['dFF_norm_Ben'].append(dFF_norm_mean_Ben)\n",
    "            data_all['Pulse_amplitude (nA)'].append(2)\n",
    "            data_all['Pulse_duration (ms)'].append(2)\n",
    "            data_all['Rs_uncorrected'].append(resist_correct)\n",
    "            \n",
    "print('done')\n"
   ]
  },
  {
   "cell_type": "code",
   "execution_count": null,
   "metadata": {
    "scrolled": false
   },
   "outputs": [],
   "source": [
    "# df = df.append(df_new, ignore_index = True)\n",
    "# df.index = np.arange(1, len(df)+1)\n",
    "# df"
   ]
  },
  {
   "cell_type": "code",
   "execution_count": null,
   "metadata": {},
   "outputs": [],
   "source": []
  },
  {
   "cell_type": "code",
   "execution_count": null,
   "metadata": {},
   "outputs": [],
   "source": []
  },
  {
   "cell_type": "code",
   "execution_count": null,
   "metadata": {},
   "outputs": [],
   "source": [
    "df_new = pd.DataFrame(data_all, columns = list(df))\n",
    "df_new\n"
   ]
  },
  {
   "cell_type": "code",
   "execution_count": null,
   "metadata": {},
   "outputs": [],
   "source": [
    "# df_processed = pd.read_pickle(sumPath+'/I-Clamp.pkl')"
   ]
  },
  {
   "cell_type": "code",
   "execution_count": null,
   "metadata": {},
   "outputs": [],
   "source": [
    "# df = df_processed.append(df_new, ignore_index = True)\n",
    "# df.index = np.arange(1, len(df)+1)\n",
    "# df.to_pickle(sumPath+'/I-Clamp.pkl')\n",
    "# df\n"
   ]
  },
  {
   "cell_type": "code",
   "execution_count": null,
   "metadata": {},
   "outputs": [],
   "source": [
    "# df_new.to_pickle(sumPath+'/I-Clamp.pkl')"
   ]
  },
  {
   "cell_type": "code",
   "execution_count": null,
   "metadata": {},
   "outputs": [],
   "source": [
    "# df = df_new"
   ]
  },
  {
   "cell_type": "code",
   "execution_count": null,
   "metadata": {},
   "outputs": [],
   "source": [
    "# df.to_excel(sumPath+'/iclamp.xlsx')\n",
    "# df.to_pickle(sumPath+'/iclamp.pkl')"
   ]
  },
  {
   "cell_type": "markdown",
   "metadata": {},
   "source": [
    "### Plot directly from saved file"
   ]
  },
  {
   "cell_type": "code",
   "execution_count": 9,
   "metadata": {},
   "outputs": [
    {
     "data": {
      "text/plain": [
       "(69, 16)"
      ]
     },
     "execution_count": 9,
     "metadata": {},
     "output_type": "execute_result"
    }
   ],
   "source": [
    "df = pd.read_pickle(sumPath+'/Plot_I-Clamp.pkl')\n",
    "df.shape"
   ]
  },
  {
   "cell_type": "code",
   "execution_count": 10,
   "metadata": {},
   "outputs": [
    {
     "data": {
      "text/html": [
       "<div>\n",
       "<style scoped>\n",
       "    .dataframe tbody tr th:only-of-type {\n",
       "        vertical-align: middle;\n",
       "    }\n",
       "\n",
       "    .dataframe tbody tr th {\n",
       "        vertical-align: top;\n",
       "    }\n",
       "\n",
       "    .dataframe thead th {\n",
       "        text-align: right;\n",
       "    }\n",
       "</style>\n",
       "<table border=\"1\" class=\"dataframe\">\n",
       "  <thead>\n",
       "    <tr style=\"text-align: right;\">\n",
       "      <th></th>\n",
       "      <th>Date</th>\n",
       "      <th>Plate</th>\n",
       "      <th>Well</th>\n",
       "      <th>Cell</th>\n",
       "      <th>Mutation</th>\n",
       "      <th>Transfected_date</th>\n",
       "      <th>RMP</th>\n",
       "      <th>AP_AMP</th>\n",
       "      <th>dFF_Jihong</th>\n",
       "      <th>dFF_norm_Jihong</th>\n",
       "      <th>dFF_Ben</th>\n",
       "      <th>dFF_norm_Ben</th>\n",
       "      <th>Pulse_amplitude (nA)</th>\n",
       "      <th>Pulse_duration (ms)</th>\n",
       "      <th>Rs_uncorrected</th>\n",
       "      <th>Objective</th>\n",
       "    </tr>\n",
       "  </thead>\n",
       "  <tbody>\n",
       "    <tr>\n",
       "      <th>0</th>\n",
       "      <td>2020.09.23_000</td>\n",
       "      <td>plate_000</td>\n",
       "      <td>well_1</td>\n",
       "      <td>patch_attempt_0002_000</td>\n",
       "      <td>485.20950</td>\n",
       "      <td>200915</td>\n",
       "      <td>-65.662225</td>\n",
       "      <td>93.320379</td>\n",
       "      <td>-0.218272</td>\n",
       "      <td>-0.002307</td>\n",
       "      <td>-0.252045</td>\n",
       "      <td>-0.001563</td>\n",
       "      <td>2</td>\n",
       "      <td>2</td>\n",
       "      <td>-3.792398</td>\n",
       "      <td>40x oil GENIE</td>\n",
       "    </tr>\n",
       "    <tr>\n",
       "      <th>1</th>\n",
       "      <td>2020.09.23_000</td>\n",
       "      <td>plate_002</td>\n",
       "      <td>well_1</td>\n",
       "      <td>patch_attempt_0010_000</td>\n",
       "      <td>L2</td>\n",
       "      <td>200915</td>\n",
       "      <td>-60.128937</td>\n",
       "      <td>97.239700</td>\n",
       "      <td>-0.286904</td>\n",
       "      <td>-0.003142</td>\n",
       "      <td>-0.293873</td>\n",
       "      <td>-0.001915</td>\n",
       "      <td>2</td>\n",
       "      <td>2</td>\n",
       "      <td>-1.122372</td>\n",
       "      <td>40x oil GENIE</td>\n",
       "    </tr>\n",
       "    <tr>\n",
       "      <th>2</th>\n",
       "      <td>2020.09.23_000</td>\n",
       "      <td>plate_002</td>\n",
       "      <td>well_1</td>\n",
       "      <td>patch_attempt_0011_000</td>\n",
       "      <td>L2</td>\n",
       "      <td>200915</td>\n",
       "      <td>-53.576536</td>\n",
       "      <td>110.063928</td>\n",
       "      <td>-0.295770</td>\n",
       "      <td>-0.002858</td>\n",
       "      <td>-0.278682</td>\n",
       "      <td>-0.001689</td>\n",
       "      <td>2</td>\n",
       "      <td>2</td>\n",
       "      <td>12.546592</td>\n",
       "      <td>40x oil GENIE</td>\n",
       "    </tr>\n",
       "    <tr>\n",
       "      <th>3</th>\n",
       "      <td>2020.09.23_000</td>\n",
       "      <td>plate_002</td>\n",
       "      <td>well_1</td>\n",
       "      <td>patch_attempt_0012_000</td>\n",
       "      <td>L2</td>\n",
       "      <td>200915</td>\n",
       "      <td>-61.239482</td>\n",
       "      <td>97.442795</td>\n",
       "      <td>-0.164061</td>\n",
       "      <td>-0.001735</td>\n",
       "      <td>-0.160756</td>\n",
       "      <td>-0.000995</td>\n",
       "      <td>2</td>\n",
       "      <td>2</td>\n",
       "      <td>6.792142</td>\n",
       "      <td>40x oil GENIE</td>\n",
       "    </tr>\n",
       "    <tr>\n",
       "      <th>4</th>\n",
       "      <td>2020.09.23_000</td>\n",
       "      <td>plate_003</td>\n",
       "      <td>well_1</td>\n",
       "      <td>patch_attempt_0013_000</td>\n",
       "      <td>533.1</td>\n",
       "      <td>200915</td>\n",
       "      <td>-61.300425</td>\n",
       "      <td>95.138119</td>\n",
       "      <td>-0.202477</td>\n",
       "      <td>-0.002178</td>\n",
       "      <td>-0.210842</td>\n",
       "      <td>-0.001380</td>\n",
       "      <td>2</td>\n",
       "      <td>2</td>\n",
       "      <td>7.660727</td>\n",
       "      <td>40x oil GENIE</td>\n",
       "    </tr>\n",
       "    <tr>\n",
       "      <th>...</th>\n",
       "      <td>...</td>\n",
       "      <td>...</td>\n",
       "      <td>...</td>\n",
       "      <td>...</td>\n",
       "      <td>...</td>\n",
       "      <td>...</td>\n",
       "      <td>...</td>\n",
       "      <td>...</td>\n",
       "      <td>...</td>\n",
       "      <td>...</td>\n",
       "      <td>...</td>\n",
       "      <td>...</td>\n",
       "      <td>...</td>\n",
       "      <td>...</td>\n",
       "      <td>...</td>\n",
       "      <td>...</td>\n",
       "    </tr>\n",
       "    <tr>\n",
       "      <th>65</th>\n",
       "      <td>2020.10.29_000</td>\n",
       "      <td>plate_000</td>\n",
       "      <td>well_1</td>\n",
       "      <td>patch_attempt_0004_000</td>\n",
       "      <td>376.20948</td>\n",
       "      <td>201020</td>\n",
       "      <td>-70.271673</td>\n",
       "      <td>104.856332</td>\n",
       "      <td>-0.089859</td>\n",
       "      <td>-0.000857</td>\n",
       "      <td>0.006604</td>\n",
       "      <td>0.000037</td>\n",
       "      <td>2</td>\n",
       "      <td>2</td>\n",
       "      <td>-4.101532</td>\n",
       "      <td>40x oil GENIE</td>\n",
       "    </tr>\n",
       "    <tr>\n",
       "      <th>66</th>\n",
       "      <td>2020.10.29_000</td>\n",
       "      <td>plate_000</td>\n",
       "      <td>well_1</td>\n",
       "      <td>patch_attempt_0002_000</td>\n",
       "      <td>376.20948</td>\n",
       "      <td>201020</td>\n",
       "      <td>-61.453769</td>\n",
       "      <td>99.065783</td>\n",
       "      <td>-0.233718</td>\n",
       "      <td>-0.002376</td>\n",
       "      <td>-0.244164</td>\n",
       "      <td>-0.001538</td>\n",
       "      <td>2</td>\n",
       "      <td>2</td>\n",
       "      <td>1.474981</td>\n",
       "      <td>40x oil GENIE</td>\n",
       "    </tr>\n",
       "    <tr>\n",
       "      <th>67</th>\n",
       "      <td>2020.10.29_000</td>\n",
       "      <td>plate_000</td>\n",
       "      <td>well_1</td>\n",
       "      <td>patch_attempt_0000_000</td>\n",
       "      <td>376.20948</td>\n",
       "      <td>201020</td>\n",
       "      <td>-65.420471</td>\n",
       "      <td>106.339863</td>\n",
       "      <td>-0.110182</td>\n",
       "      <td>-0.001087</td>\n",
       "      <td>-0.222730</td>\n",
       "      <td>-0.001340</td>\n",
       "      <td>2</td>\n",
       "      <td>2</td>\n",
       "      <td>13.985567</td>\n",
       "      <td>40x oil GENIE</td>\n",
       "    </tr>\n",
       "    <tr>\n",
       "      <th>68</th>\n",
       "      <td>2020.10.29_000</td>\n",
       "      <td>plate_000</td>\n",
       "      <td>well_1</td>\n",
       "      <td>patch_attempt_0010_000</td>\n",
       "      <td>376.20948</td>\n",
       "      <td>201020</td>\n",
       "      <td>-62.378039</td>\n",
       "      <td>92.696326</td>\n",
       "      <td>-0.146998</td>\n",
       "      <td>-0.001629</td>\n",
       "      <td>0.011663</td>\n",
       "      <td>0.000065</td>\n",
       "      <td>2</td>\n",
       "      <td>2</td>\n",
       "      <td>-1.364068</td>\n",
       "      <td>40x oil GENIE</td>\n",
       "    </tr>\n",
       "    <tr>\n",
       "      <th>69</th>\n",
       "      <td>2020.10.29_000</td>\n",
       "      <td>plate_000</td>\n",
       "      <td>well_1</td>\n",
       "      <td>patch_attempt_0006_000</td>\n",
       "      <td>376.20948</td>\n",
       "      <td>201020</td>\n",
       "      <td>-65.277635</td>\n",
       "      <td>94.761099</td>\n",
       "      <td>-0.112124</td>\n",
       "      <td>-0.001175</td>\n",
       "      <td>-0.176802</td>\n",
       "      <td>-0.001097</td>\n",
       "      <td>2</td>\n",
       "      <td>2</td>\n",
       "      <td>-3.259025</td>\n",
       "      <td>40x oil GENIE</td>\n",
       "    </tr>\n",
       "  </tbody>\n",
       "</table>\n",
       "<p>69 rows × 16 columns</p>\n",
       "</div>"
      ],
      "text/plain": [
       "              Date      Plate    Well                    Cell   Mutation  \\\n",
       "0   2020.09.23_000  plate_000  well_1  patch_attempt_0002_000  485.20950   \n",
       "1   2020.09.23_000  plate_002  well_1  patch_attempt_0010_000         L2   \n",
       "2   2020.09.23_000  plate_002  well_1  patch_attempt_0011_000         L2   \n",
       "3   2020.09.23_000  plate_002  well_1  patch_attempt_0012_000         L2   \n",
       "4   2020.09.23_000  plate_003  well_1  patch_attempt_0013_000      533.1   \n",
       "..             ...        ...     ...                     ...        ...   \n",
       "65  2020.10.29_000  plate_000  well_1  patch_attempt_0004_000  376.20948   \n",
       "66  2020.10.29_000  plate_000  well_1  patch_attempt_0002_000  376.20948   \n",
       "67  2020.10.29_000  plate_000  well_1  patch_attempt_0000_000  376.20948   \n",
       "68  2020.10.29_000  plate_000  well_1  patch_attempt_0010_000  376.20948   \n",
       "69  2020.10.29_000  plate_000  well_1  patch_attempt_0006_000  376.20948   \n",
       "\n",
       "   Transfected_date        RMP      AP_AMP  dFF_Jihong  dFF_norm_Jihong  \\\n",
       "0            200915 -65.662225   93.320379   -0.218272        -0.002307   \n",
       "1            200915 -60.128937   97.239700   -0.286904        -0.003142   \n",
       "2            200915 -53.576536  110.063928   -0.295770        -0.002858   \n",
       "3            200915 -61.239482   97.442795   -0.164061        -0.001735   \n",
       "4            200915 -61.300425   95.138119   -0.202477        -0.002178   \n",
       "..              ...        ...         ...         ...              ...   \n",
       "65           201020 -70.271673  104.856332   -0.089859        -0.000857   \n",
       "66           201020 -61.453769   99.065783   -0.233718        -0.002376   \n",
       "67           201020 -65.420471  106.339863   -0.110182        -0.001087   \n",
       "68           201020 -62.378039   92.696326   -0.146998        -0.001629   \n",
       "69           201020 -65.277635   94.761099   -0.112124        -0.001175   \n",
       "\n",
       "     dFF_Ben  dFF_norm_Ben  Pulse_amplitude (nA)  Pulse_duration (ms)  \\\n",
       "0  -0.252045     -0.001563                     2                    2   \n",
       "1  -0.293873     -0.001915                     2                    2   \n",
       "2  -0.278682     -0.001689                     2                    2   \n",
       "3  -0.160756     -0.000995                     2                    2   \n",
       "4  -0.210842     -0.001380                     2                    2   \n",
       "..       ...           ...                   ...                  ...   \n",
       "65  0.006604      0.000037                     2                    2   \n",
       "66 -0.244164     -0.001538                     2                    2   \n",
       "67 -0.222730     -0.001340                     2                    2   \n",
       "68  0.011663      0.000065                     2                    2   \n",
       "69 -0.176802     -0.001097                     2                    2   \n",
       "\n",
       "    Rs_uncorrected      Objective  \n",
       "0        -3.792398  40x oil GENIE  \n",
       "1        -1.122372  40x oil GENIE  \n",
       "2        12.546592  40x oil GENIE  \n",
       "3         6.792142  40x oil GENIE  \n",
       "4         7.660727  40x oil GENIE  \n",
       "..             ...            ...  \n",
       "65       -4.101532  40x oil GENIE  \n",
       "66        1.474981  40x oil GENIE  \n",
       "67       13.985567  40x oil GENIE  \n",
       "68       -1.364068  40x oil GENIE  \n",
       "69       -3.259025  40x oil GENIE  \n",
       "\n",
       "[69 rows x 16 columns]"
      ]
     },
     "execution_count": 10,
     "metadata": {},
     "output_type": "execute_result"
    }
   ],
   "source": [
    "df"
   ]
  },
  {
   "cell_type": "code",
   "execution_count": null,
   "metadata": {},
   "outputs": [],
   "source": [
    "# df['Objective'] = '40x oil GENIE'"
   ]
  },
  {
   "cell_type": "code",
   "execution_count": null,
   "metadata": {},
   "outputs": [],
   "source": [
    "# df = df.append(df_new, ignore_index = True)\n",
    "# df.index = np.arange(1, len(df)+1)\n",
    "# df"
   ]
  },
  {
   "cell_type": "code",
   "execution_count": null,
   "metadata": {},
   "outputs": [],
   "source": [
    "threshold = {'RMP':-40,'AP_AMP':80}"
   ]
  },
  {
   "cell_type": "code",
   "execution_count": null,
   "metadata": {},
   "outputs": [],
   "source": [
    "df_p = df[(df.RMP<threshold['RMP']) & (df.AP_AMP>threshold['AP_AMP'])]\n",
    "print('%d trials exluded' %(len(df)-len(df_p)))\n"
   ]
  },
  {
   "cell_type": "code",
   "execution_count": null,
   "metadata": {},
   "outputs": [],
   "source": [
    "df.to_pickle(sumPath+'/I-Clamp.pkl')"
   ]
  },
  {
   "cell_type": "markdown",
   "metadata": {},
   "source": [
    "#### Check AP shape"
   ]
  },
  {
   "cell_type": "code",
   "execution_count": null,
   "metadata": {
    "scrolled": false
   },
   "outputs": [],
   "source": [
    "fig=plt.figure(figsize=[14,22])\n",
    "\n",
    "a = 0\n",
    "for i,r in df_p.iterrows():\n",
    "#     print(i)\n",
    "    ax = plt.subplot(10,7,a+1)\n",
    "    dataFile = os.path.join(rawPath,r['Date'],r['Plate'],r['Cell'],'I_clamp1_000/000/Clamp1.ma')\n",
    "    data = h5py.File(dataFile,'r')\n",
    "    traces = data['data'][()]\n",
    "    trace = traces[1,:][7980:8150]\n",
    "#     peaks, _ = ss.find_peaks(trace, height = 0)\n",
    "    peaks = np.argmax(trace)\n",
    "    print(peaks)\n",
    "#     peaks = np.argmax(trace)\n",
    "    AP_halfWidth = ss.peak_widths(trace,peaks,rel_height=0.5)\n",
    "#     print(AP_halfWidth)\n",
    "    ax.plot(trace)\n",
    "    ax.scatter(peaks,np.max(trace),color='m')\n",
    "    ax.set_title(r['Mutation']+' ('+r['Cell'][-8:-4]+')')\n",
    "    a+=1\n",
    "plt.tight_layout()\n",
    "# fig.savefig(sumPath+'/image.tif')\n",
    "plt.show()\n",
    "# print(np.min(imgFile[206:306,206:306]))\n",
    "# print(np.max(imgFile[206:306,206:306]))\n"
   ]
  },
  {
   "cell_type": "code",
   "execution_count": null,
   "metadata": {},
   "outputs": [],
   "source": [
    "peaks"
   ]
  },
  {
   "cell_type": "markdown",
   "metadata": {},
   "source": [
    "#### Delete cells with bad AP profile"
   ]
  },
  {
   "cell_type": "code",
   "execution_count": null,
   "metadata": {},
   "outputs": [],
   "source": [
    "print(len(df_p))\n",
    "indexName = df_p[(df_p['Date'] == '2020.09.23_000') & (df_p['Plate'] == 'plate_000') & (df_p['Cell'] == 'patch_attempt_0003_000')].index\n",
    "indexName\n",
    "df_p = df_p.drop(indexName)\n",
    "pd.set_option('display.max_rows', 100)\n",
    "df_p.shape"
   ]
  },
  {
   "cell_type": "code",
   "execution_count": null,
   "metadata": {},
   "outputs": [],
   "source": [
    "sensors = df_p.Mutation.unique()\n",
    "sensors\n",
    "for sensor in sensors:\n",
    "    print(sensor + ': %d' %len(df_p[df_p['Mutation']==sensor]))"
   ]
  },
  {
   "cell_type": "code",
   "execution_count": null,
   "metadata": {},
   "outputs": [],
   "source": [
    "# sensors = ['485.6','376.20950','485.20950','L2','533.1']\n",
    "sensors = ['421.1','421.2096']\n"
   ]
  },
  {
   "cell_type": "code",
   "execution_count": null,
   "metadata": {},
   "outputs": [],
   "source": [
    "import unicodedata\n",
    "\n",
    "import matplotlib\n",
    "matplotlib.rcParams['pdf.fonttype'] = 42\n",
    "matplotlib.rcParams['ps.fonttype'] = 42\n",
    "\n",
    "\n",
    "\n",
    "sns.reset_orig()\n",
    "# fig = plt.figure(figsize=(3.5,8))\n",
    "fig = plt.figure(figsize=(1.6,2))\n",
    "# fig = plt.figure(figsize=(6,15))\n",
    "\n",
    "labels_dict = {\n",
    "    '485.6':'ASAP3b-TS-ER-SOM2',\n",
    "    '485.20950':'ASAP3b (T392V)-TS-ER-SOM2',\n",
    "    '376.20950':'ASAP3b (T392V)',\n",
    "    'L2':'ASAP3b (T392V)-GSS3-SOM2-lTlcnC',\n",
    "    '533.1':'ASAP3-Kv (Lin)',\n",
    "    'A122D-ST':'Voltron (A122D)-TS-ER-SOM2',\n",
    "    '421.1':'Voltron',\n",
    "    '421.2096':'Voltron 2'\n",
    "}\n",
    "# colors={'421.1':'xkcd:french blue','421.2096':'xkcd:dusty red'}\n",
    "params = ['dFF_Jihong']\n",
    "y_label = [unicodedata.lookup(\"GREEK CAPITAL LETTER delta\")+'F/F (%)']\n",
    "for f in range(len(params)):\n",
    "    ax = plt.subplot(1,1,f+1)\n",
    "    individual_points = []\n",
    "    mean_all = []\n",
    "    sem_all = []\n",
    "    labels = []\n",
    "    for sensor in sensors:\n",
    "        print(sensor)\n",
    "        df_sensor = df_p[df_p.Mutation == sensor]\n",
    "#         param_mean = np.nanmean(df_sensor[params[f]].tolist(), axis=0)\n",
    "        param_mean = df_sensor[params[f]].mean()\n",
    "        print(param_mean)\n",
    "#         print(param_mean)\n",
    "#         param_sem = np.nanstd(df_sensor[params[f]].tolist(), axis=0)/np.sqrt(len(df_sensor))\n",
    "        param_sem = df_sensor[params[f]].sem()\n",
    "        print(param_sem)\n",
    "        individual_points.append(np.array(df_sensor[params[f]].tolist())*100)\n",
    "        mean_all.append(param_mean*100)\n",
    "        sem_all.append(param_sem*100)\n",
    "        labels.append(labels_dict[sensor])\n",
    "        x = df_sensor.Mutation.to_list()\n",
    "        y = df_sensor[params[0]].to_list()\n",
    "#         ax.scatter(x,y,edgecolor=colors[sensor],s=50,facecolors='none')\n",
    "        \n",
    "    y_pos = np.arange(1,len(sensors)+1)\n",
    "    \n",
    "    ax.spines['right'].set_visible(False)\n",
    "    ax.spines['top'].set_visible(False)\n",
    "\n",
    "\n",
    "    ax.set_ylabel(y_label[0])\n",
    "    \n",
    "\n",
    "#     ax.set_ylim([-0.0027,0.0005])\n",
    "#     ax.set_ylim([-0.0042,0])\n",
    "#     ax.set_ylim([-0.0021,0])\n",
    "\n",
    "    \n",
    "#     ax.bar(y_pos, mean_all, yerr = sem_all,edgecolor=['xkcd:french blue','xkcd:dusty red'],facecolor='none')\n",
    "    ax.bar(y_pos, mean_all, yerr = sem_all,color=['#336699','#F33333'],edgecolor='k',linewidth=2,zorder=-1)\n",
    "#     ax.scatter([1,1,1,1,1],individual_points[0],color='k',zorder=1,alpha=0.75)\n",
    "#     ax.scatter([2,2,2,2,2,2,2],individual_points[1],color='k',zorder=1,alpha=0.75)\n",
    "    \n",
    "#     color=['xkcd:french blue','xkcd:dusty red','#2ca02c','#d62728','#9467bd','#17becf','#e377c2','#7f7f7f','#bcbd22']\n",
    "\n",
    "#     plt.xticks(y_pos,labels,size=12,rotation=90)\n",
    "#     plt.xticks(y_pos,labels,rotation=45,ha='right')\n",
    "    \n",
    "    plt.tick_params(\n",
    "        axis='x',\n",
    "        which='both',\n",
    "        bottom=False,\n",
    "        top=False,\n",
    "        labelbottom=False,\n",
    "    )\n",
    "    \n",
    "    colors = ['#336699', '#FF3333']\n",
    "    for xtick, color in zip(ax.get_xticklabels(), colors):\n",
    "        xtick.set_color(color)\n",
    "    \n",
    "#     plt.ticklabel_format(axis=\"y\", style=\"sci\", scilimits=(0,0))\n",
    "#     ax.get_yaxis().get_offset_text().set_position((-0.06,0)) # Adjust position of 1e-3 notation, only x works!\n",
    "\n",
    "ax.set_ylim([0.0,-12.14354176909621])\n",
    "plt.tight_layout()\n",
    "# fig.savefig(sumPath+'/I_Clamp_stat.pdf',format='pdf')\n",
    "plt.show()\n"
   ]
  },
  {
   "cell_type": "code",
   "execution_count": null,
   "metadata": {},
   "outputs": [],
   "source": []
  },
  {
   "cell_type": "code",
   "execution_count": null,
   "metadata": {},
   "outputs": [],
   "source": [
    "individual_points"
   ]
  },
  {
   "cell_type": "code",
   "execution_count": null,
   "metadata": {},
   "outputs": [],
   "source": [
    "ax.get_xlim()"
   ]
  },
  {
   "cell_type": "code",
   "execution_count": null,
   "metadata": {},
   "outputs": [],
   "source": [
    "from scipy.stats import mannwhitneyu\n",
    "p_val = {}\n",
    "\n",
    "a = df[df['Mutation']=='421.1']['dFF_Jihong'].to_list()\n",
    "b = df[df['Mutation']=='421.2096']['dFF_Jihong'].to_list()\n",
    "stat, p = mannwhitneyu(a, b, alternative='two-sided')\n",
    "# p_val[param] = p"
   ]
  },
  {
   "cell_type": "code",
   "execution_count": null,
   "metadata": {},
   "outputs": [],
   "source": [
    "p"
   ]
  },
  {
   "cell_type": "code",
   "execution_count": null,
   "metadata": {},
   "outputs": [],
   "source": [
    "df_sel = df_p[df_p.Mutation.isin(['421.1','421.2096'])]"
   ]
  },
  {
   "cell_type": "code",
   "execution_count": null,
   "metadata": {},
   "outputs": [],
   "source": [
    "df_sel.shape\n",
    "# df_sel.Date.unique()\n",
    "df_sel"
   ]
  },
  {
   "cell_type": "markdown",
   "metadata": {},
   "source": [
    "#### Pick up example neuron"
   ]
  },
  {
   "cell_type": "code",
   "execution_count": null,
   "metadata": {},
   "outputs": [],
   "source": [
    "fig = plt.figure(figsize=[15,15])\n",
    "\n",
    "a = 1\n",
    "\n",
    "for idx,r in df_sel.iterrows():\n",
    "\n",
    "    img = os.path.join(rawPath,r['Date'],r['Plate'],r['Cell'],'fluor_image_000.tif')\n",
    "    img = tff.TiffFile(img)\n",
    "    img = img.asarray()\n",
    "    img = img[192:320,192:320]\n",
    "\n",
    "    dataFile = os.path.join(rawPath,r['Date'],r['Plate'],r['Cell'],'I_clamp1_000/000/Clamp1.ma')\n",
    "    data = h5py.File(dataFile,'r')\n",
    "    traces = data['data'][()]\n",
    "    traces[1,:] = traces[1,:]*1e3\n",
    "    traces[1,8000:8080] = traces[1,8000:8080] - r['Rs_uncorrected']\n",
    "    trace = traces[1,:][7980:8150]\n",
    "    if a<=6:\n",
    "        ax1 = plt.subplot(6,6,a)\n",
    "        ax1.imshow(img,cmap='gray')\n",
    "        ax2 = plt.subplot(6,6,a+6)\n",
    "        ax2.plot(trace)\n",
    "    elif 6<a<=12:\n",
    "        ax1 = plt.subplot(6,6,a+6)\n",
    "        ax1.imshow(img,cmap='gray')\n",
    "        ax2 = plt.subplot(6,6,a+12)\n",
    "        ax2.plot(trace)\n",
    "    else:\n",
    "        ax1 = plt.subplot(6,6,a+12)\n",
    "        ax1.imshow(img,cmap='gray')\n",
    "        ax2 = plt.subplot(6,6,a+18)\n",
    "        ax2.plot(trace)\n",
    "    ax1.set_title(r['Mutation']+' ('+r['Cell'][-8:-4]+')')\n",
    "\n",
    "    a+=1\n",
    "plt.tight_layout()\n"
   ]
  },
  {
   "cell_type": "markdown",
   "metadata": {},
   "source": [
    "#### Example neuron"
   ]
  },
  {
   "cell_type": "code",
   "execution_count": null,
   "metadata": {},
   "outputs": [],
   "source": [
    "# example_neuron = '/Volumes/genie/Jihong_GENIE_stuff/PatcherBot/raw/2020.10.01_000/plate_001/patch_attempt_0003_000/'\n",
    "# example_neuron = '/Volumes/genie/Jihong_GENIE_stuff/PatcherBot/raw/2020.10.01_000/plate_000/patch_attempt_0004_000/'\n",
    "\n",
    "# example_neuron = '/Users/zhengj10/Desktop/Jihong/'\n",
    "example_neuron = rawPath + '/2020.10.01_000/plate_000/patch_attempt_0010_000' # For 220316 revision, Voltron\n",
    "# example_neuron = rawPath + '/2020.10.01_000/plate_001/patch_attempt_0005_000' # For 220316 revision, Voltron 2"
   ]
  },
  {
   "cell_type": "code",
   "execution_count": null,
   "metadata": {},
   "outputs": [],
   "source": [
    "fig=plt.figure(figsize=[2.5,2.5])\n",
    "\n",
    "ax = plt.subplot(111)\n",
    "imgFile = os.path.join(example_neuron,'fluor_image_000.tif')\n",
    "imgFile = tff.TiffFile(imgFile)\n",
    "imgFile = imgFile.asarray()\n",
    "ax.imshow(imgFile[206:306,206:306],cmap='gray')\n",
    "ax.set_axis_off()\n",
    "# ax.set_title(r['Mutation']+' ('+r['Cell'][-8:-4]+')')\n",
    "# ax.plot([75,90.38],[90,90],color='w',lw=3)\n",
    "# plt.tight_layout()\n",
    "# fig.savefig(sumPath + '/Voltron 2_image.pdf',format='pdf')\n",
    "plt.show()\n",
    "# print(np.min(imgFile[206:306,206:306]))\n",
    "# print(np.max(imgFile[206:306,206:306]))\n"
   ]
  },
  {
   "cell_type": "code",
   "execution_count": null,
   "metadata": {},
   "outputs": [],
   "source": [
    "# df[df.Date=='2020.10.01_000']"
   ]
  },
  {
   "cell_type": "code",
   "execution_count": null,
   "metadata": {},
   "outputs": [],
   "source": [
    "import matplotlib\n",
    "matplotlib.rcParams['pdf.fonttype'] = 42\n",
    "matplotlib.rcParams['ps.fonttype'] = 42\n",
    "\n",
    "sns.set()\n",
    "sns.set_style(style='whitegrid')\n",
    "fig = plt.figure(figsize=(2.2,1.8))\n",
    "\n",
    "\n",
    "ax = plt.subplot(111)\n",
    "trace_all = []\n",
    "for trial in range(10):\n",
    "    dataFile = os.path.join(example_neuron,'I_clamp1_000',str(trial).zfill(3),'Clamp1.ma')\n",
    "    data = h5py.File(dataFile,'r')\n",
    "    traces = data['data'][()]\n",
    "    traces = traces*1000 # converted to mV\n",
    "    trace_all.append(traces[1,:])\n",
    "trace_mean = np.mean(trace_all,axis=0)\n",
    "\n",
    "trace_AP_seg_corrected = trace_mean[8000:8080]-2*0.522519\n",
    "trace_mean[8000:8080] = trace_AP_seg_corrected\n",
    "\n",
    "x = np.linspace(0,100,4000)\n",
    "\n",
    "ax.plot(x,trace_mean[7200:11200],color = '#336699')\n",
    "# ax.plot(x,trace_mean[7200:11200],color = '#FF3333')\n",
    "ax.set_ylim([-72.90477247315293, 54.28206798775647])\n",
    "# ax.set_xlabel('ms')\n",
    "ax.set_ylabel('Vm (mV)')\n",
    "plt.tight_layout()\n",
    "fig.savefig(sumPath + '/Voltron_AP_trace.pdf',format='pdf')\n",
    "plt.show()\n",
    "# (-71.83302522359241, 75.78852957710492)\n",
    "ax.get_ylim()\n"
   ]
  },
  {
   "cell_type": "code",
   "execution_count": null,
   "metadata": {},
   "outputs": [],
   "source": [
    "ax.get_ylim()"
   ]
  },
  {
   "cell_type": "code",
   "execution_count": null,
   "metadata": {},
   "outputs": [],
   "source": []
  },
  {
   "cell_type": "code",
   "execution_count": null,
   "metadata": {},
   "outputs": [],
   "source": [
    "matplotlib.rcParams['pdf.fonttype'] = 42\n",
    "matplotlib.rcParams['ps.fonttype'] = 42\n",
    "\n",
    "import unicodedata\n",
    "sns.set_style(style='whitegrid')\n",
    "fig = plt.figure(figsize=(2.2,1.6))\n",
    "\n",
    "y_label = [unicodedata.lookup(\"GREEK CAPITAL LETTER delta\")+'F/F']\n",
    "ax = plt.subplot(111)\n",
    "dff_all = []\n",
    "for trial in range(10):\n",
    "    dataFile = os.path.join(example_neuron,'I_clamp1_000',str(trial).zfill(3),'Camera','frames.ma')\n",
    "    data = h5py.File(dataFile,'r')\n",
    "    dff,dff_peak,f_peak_idx,f,f0 = get_dff(dataFile)\n",
    "    dff_all.append(dff[:1800])\n",
    "dff_mean = np.mean(dff_all,axis=0)*100\n",
    "# dff_mean = dff_mean\n",
    "x = np.linspace(1,100,95)\n",
    "\n",
    "ax.plot(x,dff_mean[154:249],color='#336699')\n",
    "# ax.plot(x,dff_mean[154:249],color='#FF3333')\n",
    "ax.set_ylabel(y_label[0]+' (%)')\n",
    "# ax.set_ylim([-0.0982281514349218, 0.037823283282636435])\n",
    "ax.set_ylim([-9.82281514349218, 3.7823283282636434])\n",
    "plt.tight_layout()\n",
    "fig.savefig(sumPath + '/Voltron_dFF_single_AP.pdf',format='pdf')\n",
    "plt.show()\n",
    "# ax.get_ylim()"
   ]
  },
  {
   "cell_type": "code",
   "execution_count": null,
   "metadata": {},
   "outputs": [],
   "source": [
    "ax.get_ylim()"
   ]
  },
  {
   "cell_type": "code",
   "execution_count": null,
   "metadata": {},
   "outputs": [],
   "source": [
    "import matplotlib"
   ]
  },
  {
   "cell_type": "code",
   "execution_count": null,
   "metadata": {},
   "outputs": [],
   "source": []
  },
  {
   "cell_type": "code",
   "execution_count": null,
   "metadata": {},
   "outputs": [],
   "source": [
    "# df[df.Mutation=='421.2096']"
   ]
  },
  {
   "cell_type": "code",
   "execution_count": null,
   "metadata": {},
   "outputs": [],
   "source": []
  }
 ],
 "metadata": {
  "kernelspec": {
   "display_name": "Python 3 (ipykernel)",
   "language": "python",
   "name": "python3"
  },
  "language_info": {
   "codemirror_mode": {
    "name": "ipython",
    "version": 3
   },
   "file_extension": ".py",
   "mimetype": "text/x-python",
   "name": "python",
   "nbconvert_exporter": "python",
   "pygments_lexer": "ipython3",
   "version": "3.9.7"
  }
 },
 "nbformat": 4,
 "nbformat_minor": 2
}
